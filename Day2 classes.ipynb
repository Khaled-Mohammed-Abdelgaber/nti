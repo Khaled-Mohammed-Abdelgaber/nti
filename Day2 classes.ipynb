{
 "cells": [
  {
   "cell_type": "markdown",
   "metadata": {},
   "source": [
    "## List Comprehension\n",
    "newList = [ expression(element) for element in oldList if condition ] "
   ]
  },
  {
   "cell_type": "code",
   "execution_count": null,
   "metadata": {},
   "outputs": [],
   "source": [
    "# newList = [ expression(element) for element in oldList if condition ] "
   ]
  },
  {
   "cell_type": "code",
   "execution_count": 71,
   "metadata": {},
   "outputs": [
    {
     "name": "stdout",
     "output_type": "stream",
     "text": [
      "[1, 4, 9, 16, 25]\n"
     ]
    }
   ],
   "source": [
    "numbers = [1, 2, 3, 4, 5] \n",
    "squared = [x ** 2 for x in numbers] \n",
    "print(squared)\n"
   ]
  },
  {
   "cell_type": "code",
   "execution_count": 72,
   "metadata": {},
   "outputs": [
    {
     "name": "stdout",
     "output_type": "stream",
     "text": [
      "[0, 2, 4, 6, 8, 10]\n"
     ]
    }
   ],
   "source": [
    "list = [i for i in range(11) if i % 2 == 0] \n",
    "print(list)\n"
   ]
  },
  {
   "cell_type": "code",
   "execution_count": 73,
   "metadata": {},
   "outputs": [
    {
     "name": "stdout",
     "output_type": "stream",
     "text": [
      "[[0, 1, 2], [0, 1, 2], [0, 1, 2]]\n"
     ]
    }
   ],
   "source": [
    "matrix = [[j for j in range(3)] for i in range(3)] \n",
    "\t\n",
    "print(matrix)\n"
   ]
  },
  {
   "cell_type": "markdown",
   "metadata": {},
   "source": [
    "### Functions"
   ]
  },
  {
   "cell_type": "code",
   "execution_count": 74,
   "metadata": {},
   "outputs": [
    {
     "data": {
      "text/plain": [
       "30"
      ]
     },
     "execution_count": 74,
     "metadata": {},
     "output_type": "execute_result"
    }
   ],
   "source": [
    "def fun1(x,x1=10):\n",
    "    y=x+x1\n",
    "    return y\n",
    "\n",
    "fun1(20)"
   ]
  },
  {
   "cell_type": "code",
   "execution_count": 75,
   "metadata": {},
   "outputs": [
    {
     "data": {
      "text/plain": [
       "(50, (40, 50, 60))"
      ]
     },
     "execution_count": 75,
     "metadata": {},
     "output_type": "execute_result"
    }
   ],
   "source": [
    "def fun1(x,x1=10,*arg):\n",
    "    y=x+x1\n",
    "    return y,arg\n",
    "\n",
    "fun1(20,30,40,50,60)"
   ]
  },
  {
   "cell_type": "markdown",
   "metadata": {},
   "source": [
    "**What is Python \\*args?**<br>\n",
    "The special syntax *args in function definitions in Python is used to pass a variable number of arguments to a function.<br>\n",
    " It is used to pass a non-keyworded, variable-length argument list. "
   ]
  },
  {
   "cell_type": "code",
   "execution_count": 77,
   "metadata": {},
   "outputs": [
    {
     "name": "stdout",
     "output_type": "stream",
     "text": [
      "Hello\n",
      "Welcome\n",
      "to\n",
      "NTI\n"
     ]
    }
   ],
   "source": [
    "def myFun(*argv):\n",
    "    for arg in argv:\n",
    "        print(arg)\n",
    "\n",
    "\n",
    "myFun('Hello', 'Welcome', 'to', 'NTI')\n"
   ]
  },
  {
   "cell_type": "code",
   "execution_count": 81,
   "metadata": {},
   "outputs": [
    {
     "name": "stdout",
     "output_type": "stream",
     "text": [
      "6\n"
     ]
    }
   ],
   "source": [
    "def my_sum(*integers):\n",
    "    result = 0\n",
    "    for x in integers:\n",
    "        result += x\n",
    "    return result\n",
    "\n",
    "print(my_sum(1, 2, 3))\n"
   ]
  },
  {
   "cell_type": "markdown",
   "metadata": {},
   "source": [
    "**What is Python \\*\\*kwargs?**<br>\n",
    "The special syntax **kwargs in function definitions in Python is used to pass a keyworded, variable-length argument list.\n",
    "\n"
   ]
  },
  {
   "cell_type": "code",
   "execution_count": 78,
   "metadata": {},
   "outputs": [
    {
     "name": "stdout",
     "output_type": "stream",
     "text": [
      "first == Hello\n",
      "mid == MY\n",
      "last == Friends\n"
     ]
    }
   ],
   "source": [
    "def myFun(**kwargs):\n",
    "    for key, value in kwargs.items():\n",
    "        print(\"%s == %s\" % (key, value))\n",
    "\n",
    "\n",
    "# Driver code\n",
    "myFun(first='Hello', mid='MY', last='Friends')\n"
   ]
  },
  {
   "cell_type": "code",
   "execution_count": 82,
   "metadata": {},
   "outputs": [
    {
     "ename": "KeyError",
     "evalue": "'c'",
     "output_type": "error",
     "traceback": [
      "\u001b[1;31m---------------------------------------------------------------------------\u001b[0m",
      "\u001b[1;31mKeyError\u001b[0m                                  Traceback (most recent call last)",
      "Cell \u001b[1;32mIn[82], line 11\u001b[0m\n\u001b[0;32m      7\u001b[0m         \u001b[38;5;28mself\u001b[39m\u001b[38;5;241m.\u001b[39mcolor \u001b[38;5;241m=\u001b[39m kwargs[\u001b[38;5;124m'\u001b[39m\u001b[38;5;124mc\u001b[39m\u001b[38;5;124m'\u001b[39m]\n\u001b[0;32m     10\u001b[0m \u001b[38;5;66;03m# creating objects of car class\u001b[39;00m\n\u001b[1;32m---> 11\u001b[0m audi \u001b[38;5;241m=\u001b[39m Car(s\u001b[38;5;241m=\u001b[39m\u001b[38;5;241m200\u001b[39m)\n\u001b[0;32m     12\u001b[0m bmw \u001b[38;5;241m=\u001b[39m Car(s\u001b[38;5;241m=\u001b[39m\u001b[38;5;241m250\u001b[39m, c\u001b[38;5;241m=\u001b[39m\u001b[38;5;124m'\u001b[39m\u001b[38;5;124mblack\u001b[39m\u001b[38;5;124m'\u001b[39m)\n\u001b[0;32m     13\u001b[0m mb \u001b[38;5;241m=\u001b[39m Car(s\u001b[38;5;241m=\u001b[39m\u001b[38;5;241m190\u001b[39m, c\u001b[38;5;241m=\u001b[39m\u001b[38;5;124m'\u001b[39m\u001b[38;5;124mwhite\u001b[39m\u001b[38;5;124m'\u001b[39m)\n",
      "Cell \u001b[1;32mIn[82], line 7\u001b[0m, in \u001b[0;36mCar.__init__\u001b[1;34m(self, **kwargs)\u001b[0m\n\u001b[0;32m      4\u001b[0m \u001b[38;5;28;01mdef\u001b[39;00m \u001b[38;5;21m__init__\u001b[39m(\u001b[38;5;28mself\u001b[39m, \u001b[38;5;241m*\u001b[39m\u001b[38;5;241m*\u001b[39mkwargs):\n\u001b[0;32m      5\u001b[0m     \u001b[38;5;66;03m# access args index like array does\u001b[39;00m\n\u001b[0;32m      6\u001b[0m     \u001b[38;5;28mself\u001b[39m\u001b[38;5;241m.\u001b[39mspeed \u001b[38;5;241m=\u001b[39m kwargs[\u001b[38;5;124m'\u001b[39m\u001b[38;5;124ms\u001b[39m\u001b[38;5;124m'\u001b[39m]\n\u001b[1;32m----> 7\u001b[0m     \u001b[38;5;28mself\u001b[39m\u001b[38;5;241m.\u001b[39mcolor \u001b[38;5;241m=\u001b[39m kwargs[\u001b[38;5;124m'\u001b[39m\u001b[38;5;124mc\u001b[39m\u001b[38;5;124m'\u001b[39m]\n",
      "\u001b[1;31mKeyError\u001b[0m: 'c'"
     ]
    }
   ],
   "source": [
    "# defining car class\n",
    "class Car():\n",
    "    # args receives unlimited no. of arguments as an array\n",
    "    def __init__(self, **kwargs):\n",
    "        # access args index like array does\n",
    "        self.speed = kwargs['s']\n",
    "        self.color = kwargs['c']\n",
    "\n",
    "\n",
    "# creating objects of car class\n",
    "audi = Car(s=200)\n",
    "bmw = Car(s=250, c='black')\n",
    "mb = Car(s=190, c='white')\n",
    "\n",
    "# printing the color and speed of cars\n",
    "print(audi.color)\n",
    "print(bmw.speed)\n"
   ]
  },
  {
   "cell_type": "code",
   "execution_count": 84,
   "metadata": {},
   "outputs": [
    {
     "data": {
      "text/plain": [
       "(50, [1600, 2500, 3600], {'age': 30, 'sal': 3000})"
      ]
     },
     "execution_count": 84,
     "metadata": {},
     "output_type": "execute_result"
    }
   ],
   "source": [
    "def fun1(x,x1=10,*arg,**k):\n",
    "    y=x+x1\n",
    "    z=[i*i for i in arg]\n",
    "    return y,z,k\n",
    "\n",
    "fun1(20,30,40,50,60,age=30,sal=3000)"
   ]
  },
  {
   "cell_type": "markdown",
   "metadata": {},
   "source": [
    "## Files in Python"
   ]
  },
  {
   "cell_type": "code",
   "execution_count": null,
   "metadata": {},
   "outputs": [],
   "source": [
    "\"\"\"\n",
    "f = open(filename, mode)\n",
    "r: open an existing file for a read operation.\n",
    "w: open an existing file for a write operation. \n",
    "    If the file already contains some data, then it will be overridden but if the file is not present then it creates the file as well.\n",
    "a: open an existing file for append operation. \n",
    "    It won’t override existing data.\n",
    "\"\"\""
   ]
  },
  {
   "cell_type": "code",
   "execution_count": 85,
   "metadata": {},
   "outputs": [
    {
     "name": "stdout",
     "output_type": "stream",
     "text": [
      "Khaled Mohammed\n",
      "\n",
      "Machine Learning Engineer\n",
      "\n",
      "(+20) 1150882331 / (+20) 1500071899 Khaled.edu.engineer@gmail.com\n",
      "\n",
      "Suhaj, Egypt / Ready To Reallocate Khaled Mohammed\n",
      "\n",
      "Military Service: Completed Khaled Mohammed\n",
      "\n",
      "Work Experience\n",
      "\n",
      "Teaching Assistant at Suhaj Faculty of Engineering\n",
      "\n",
      "• Assisting in teaching some courses such as:\n",
      "\n",
      " CPP programming language.\n",
      "\n",
      " Data Structures.\n",
      "\n",
      " Introduction to AI.\n",
      "\n",
      " Machine learning.\n",
      "\n",
      "• Supervision on graduation projects such as:\n",
      "\n",
      " Advanced Driver Assistant System.\n",
      "\n",
      " Smart Glasses for Blind people.\n",
      "\n",
      "• Research Assistant:\n",
      "\n",
      " Incorporate in publishing a paper in a Q2 journal.\n",
      "\n",
      "Freelancer at Mostaql, Upwork\n",
      "\n",
      "• Worked on many projects such as:\n",
      "\n",
      " Explaining and editing codes of deep learning projects.\n",
      "\n",
      " Deep learning-related papers implementation.\n",
      "\n",
      " Illustrating scientific papers.\n",
      "\n",
      " Whatsapp and Telegram automation.\n",
      "\n",
      "Projects\n",
      "\n",
      "Suhaj, Egypt 12/2021 - present\n",
      "\n",
      "12/2021 - present\n",
      "\n",
      "Graduation Project [honor degree]:\n",
      "\n",
      "My graduation project was self-driving car design. I was responsible for the object detection part using the\n",
      "\n",
      "single shot detection (SSD) based model.\n",
      "\n",
      "GAN:\n",
      "\n",
      "In this project, I used a generative adversarial network (GAN) to generate the fashion MNIST dataset.\n",
      "\n",
      "Temperature Prediction:\n",
      "\n",
      "In this project, I introduced different deep-learning models based on LSTM, GRU, and Conv1D neural\n",
      "\n",
      "networks to predict temperature.\n",
      "\n",
      "Variational Autoencoder:\n",
      "\n",
      "In this project, I created a variational autoencoder and trained it on the MNIST dataset to reconstruct it from\n",
      "\n",
      "noise.\n",
      "\n",
      "House Price Prediction:\n",
      "\n",
      "The dataset used in this project was taken from the Kaggle house prices competition. I developed a\n",
      "\n",
      "regression model to predict house prices.\n",
      "\n",
      "Text Generation:\n",
      "\n",
      "In this project, I implemented a transformer from scratch and trained it on the Shakespeare text dataset to\n",
      "\n",
      "generate texts.\n",
      "\n",
      "Predict CO2 Emissions in Rwanda:It was a competition on the Kaggle website to create a machine-learning model using open-source CO2\n",
      "\n",
      "emissions data from Sentinel-5P satellite observations to predict future carbon emissions.\n",
      "\n",
      "CycleGAN:\n",
      "\n",
      "In this project, I made a deep-learning model based on the CycleGAN technique and self-attention to\n",
      "\n",
      "convert night images to day images and vice versa.\n",
      "\n",
      "Reviews Classification:\n",
      "\n",
      "In this project, I fine tuned bert-based model to classify talabate company reviews.\n",
      "\n",
      "Education\n",
      "\n",
      "• Suhaj University\n",
      "\n",
      " B.SC. OF Electrical Engineering\n",
      "\n",
      " Graduated with a grade of excellent with honors and ranked first\n",
      "\n",
      " Master's Degree\n",
      "\n",
      "Languages\n",
      "\n",
      "2015- 2020\n",
      "\n",
      "9/2021 - present\n",
      "\n",
      "• Arabic\n",
      "\n",
      "• English\n",
      "\n",
      "Skills\n",
      "\n",
      "Programming Languages\n",
      "\n",
      "• Python.\n",
      "\n",
      "• CPP.\n",
      "\n",
      "• C.\n",
      "\n",
      "Software Tools\n",
      "\n",
      "• Git.\n",
      "\n",
      "Database Management\n",
      "\n",
      "• MySQL.\n",
      "\n",
      "Machine Learning and Deep Learning\n",
      "\n",
      "• TensorFlow.\n",
      "\n",
      "• PyTorch.\n",
      "\n",
      "• Scikit-learn.\n",
      "\n",
      "• Natural Language Processing (NLP).\n",
      "\n",
      "• Computer Vision.\n",
      "\n",
      "Courses and Certificates:\n",
      "\n",
      "• Huawei:\n",
      "\n",
      "• HCIA-AI V3.5 certificate\n",
      "\n",
      "• Innovation:\n",
      "\n",
      "• INNOVEGYPT and Intel (Intel ideation workshop), INNOVEGYPT and ITIDA (48-hour training course\n",
      "\n",
      "and developed a final project for a potential startup).\n",
      "\n",
      "• Online courses:\n",
      "\n",
      "• Machine learning specialization [by Andrew NG].\n",
      "\n",
      "• Git and GitHub.\n",
      "\n",
      "• Generative Deep Learning with TensorFlow.\n",
      "\n",
      "• Natural Language Processing in TensorFlow.\n",
      "\n",
      "• Custom and Distributed Training with TensorFlow\n"
     ]
    }
   ],
   "source": [
    "# a file named \"geek\", will be opened with the reading mode.\n",
    "file = open('kh.txt', 'r')\n",
    "\n",
    "# This will print every line one by one in the file\n",
    "for each_line in file:\n",
    "    print (each_line)"
   ]
  },
  {
   "cell_type": "code",
   "execution_count": 86,
   "metadata": {},
   "outputs": [
    {
     "name": "stdout",
     "output_type": "stream",
     "text": [
      "Khaled Mohammed\n",
      "Machine Learning Engineer\n",
      "(+20) 1150882331 / (+20) 1500071899 Khaled.edu.engineer@gmail.com\n",
      "Suhaj, Egypt / Ready To Reallocate Khaled Mohammed\n",
      "Military Service: Completed Khaled Mohammed\n",
      "Work Experience\n",
      "Teaching Assistant at Suhaj Faculty of Engineering\n",
      "• Assisting in teaching some courses such as:\n",
      " CPP programming language.\n",
      " Data Structures.\n",
      " Introduction to AI.\n",
      " Machine learning.\n",
      "• Supervision on graduation projects such as:\n",
      " Advanced Driver Assistant System.\n",
      " Smart Glasses for Blind people.\n",
      "• Research Assistant:\n",
      " Incorporate in publishing a paper in a Q2 journal.\n",
      "Freelancer at Mostaql, Upwork\n",
      "• Worked on many projects such as:\n",
      " Explaining and editing codes of deep learning projects.\n",
      " Deep learning-related papers implementation.\n",
      " Illustrating scientific papers.\n",
      " Whatsapp and Telegram automation.\n",
      "Projects\n",
      "Suhaj, Egypt 12/2021 - present\n",
      "12/2021 - present\n",
      "Graduation Project [honor degree]:\n",
      "My graduation project was self-driving car design. I was responsible for the object detection part using the\n",
      "single shot detection (SSD) based model.\n",
      "GAN:\n",
      "In this project, I used a generative adversarial network (GAN) to generate the fashion MNIST dataset.\n",
      "Temperature Prediction:\n",
      "In this project, I introduced different deep-learning models based on LSTM, GRU, and Conv1D neural\n",
      "networks to predict temperature.\n",
      "Variational Autoencoder:\n",
      "In this project, I created a variational autoencoder and trained it on the MNIST dataset to reconstruct it from\n",
      "noise.\n",
      "House Price Prediction:\n",
      "The dataset used in this project was taken from the Kaggle house prices competition. I developed a\n",
      "regression model to predict house prices.\n",
      "Text Generation:\n",
      "In this project, I implemented a transformer from scratch and trained it on the Shakespeare text dataset to\n",
      "generate texts.\n",
      "Predict CO2 Emissions in Rwanda:It was a competition on the Kaggle website to create a machine-learning model using open-source CO2\n",
      "emissions data from Sentinel-5P satellite observations to predict future carbon emissions.\n",
      "CycleGAN:\n",
      "In this project, I made a deep-learning model based on the CycleGAN technique and self-attention to\n",
      "convert night images to day images and vice versa.\n",
      "Reviews Classification:\n",
      "In this project, I fine tuned bert-based model to classify talabate company reviews.\n",
      "Education\n",
      "• Suhaj University\n",
      " B.SC. OF Electrical Engineering\n",
      " Graduated with a grade of excellent with honors and ranked first\n",
      " Master's Degree\n",
      "Languages\n",
      "2015- 2020\n",
      "9/2021 - present\n",
      "• Arabic\n",
      "• English\n",
      "Skills\n",
      "Programming Languages\n",
      "• Python.\n",
      "• CPP.\n",
      "• C.\n",
      "Software Tools\n",
      "• Git.\n",
      "Database Management\n",
      "• MySQL.\n",
      "Machine Learning and Deep Learning\n",
      "• TensorFlow.\n",
      "• PyTorch.\n",
      "• Scikit-learn.\n",
      "• Natural Language Processing (NLP).\n",
      "• Computer Vision.\n",
      "Courses and Certificates:\n",
      "• Huawei:\n",
      "• HCIA-AI V3.5 certificate\n",
      "• Innovation:\n",
      "• INNOVEGYPT and Intel (Intel ideation workshop), INNOVEGYPT and ITIDA (48-hour training course\n",
      "and developed a final project for a potential startup).\n",
      "• Online courses:\n",
      "• Machine learning specialization [by Andrew NG].\n",
      "• Git and GitHub.\n",
      "• Generative Deep Learning with TensorFlow.\n",
      "• Natural Language Processing in TensorFlow.\n",
      "• Custom and Distributed Training with TensorFlow\n"
     ]
    }
   ],
   "source": [
    "# Python code to illustrate read() mode\n",
    "#extract a string that contains all characters in the Python file\n",
    "file = open(\"kh.txt\", \"r\") \n",
    "print (file.read())"
   ]
  },
  {
   "cell_type": "code",
   "execution_count": 87,
   "metadata": {},
   "outputs": [
    {
     "name": "stdout",
     "output_type": "stream",
     "text": [
      "Khaled Mohammed\n",
      "Machine Learning Engineer\n",
      "(+20) 1150882331 / (+20) 1500071899 Khaled.edu.engineer@gmail.com\n",
      "Suhaj, Egypt / Ready To Reallocate Khaled Mohammed\n",
      "Military Service: Completed Khaled Mohammed\n",
      "Work Experience\n",
      "Teaching Assistant at Suhaj Faculty of Engineering\n",
      "• Assisting in teaching some courses such as:\n",
      " CPP programming language.\n",
      " Data Structures.\n",
      " Introduction to AI.\n",
      " Machine learning.\n",
      "• Supervision on graduation projects such as:\n",
      " Advanced Driver Assistant System.\n",
      " Smart Glasses for Blind people.\n",
      "• Research Assistant:\n",
      " Incorporate in publishing a paper in a Q2 journal.\n",
      "Freelancer at Mostaql, Upwork\n",
      "• Worked on many projects such as:\n",
      " Explaining and editing codes of deep learning projects.\n",
      " Deep learning-related papers implementation.\n",
      " Illustrating scientific papers.\n",
      " Whatsapp and Telegram automation.\n",
      "Projects\n",
      "Suhaj, Egypt 12/2021 - present\n",
      "12/2021 - present\n",
      "Graduation Project [honor degree]:\n",
      "My graduation project was self-driving car design. I was responsible for the object detection part using the\n",
      "single shot detection (SSD) based model.\n",
      "GAN:\n",
      "In this project, I used a generative adversarial network (GAN) to generate the fashion MNIST dataset.\n",
      "Temperature Prediction:\n",
      "In this project, I introduced different deep-learning models based on LSTM, GRU, and Conv1D neural\n",
      "networks to predict temperature.\n",
      "Variational Autoencoder:\n",
      "In this project, I created a variational autoencoder and trained it on the MNIST dataset to reconstruct it from\n",
      "noise.\n",
      "House Price Prediction:\n",
      "The dataset used in this project was taken from the Kaggle house prices competition. I developed a\n",
      "regression model to predict house prices.\n",
      "Text Generation:\n",
      "In this project, I implemented a transformer from scratch and trained it on the Shakespeare text dataset to\n",
      "generate texts.\n",
      "Predict CO2 Emissions in Rwanda:It was a competition on the Kaggle website to create a machine-learning model using open-source CO2\n",
      "emissions data from Sentinel-5P satellite observations to predict future carbon emissions.\n",
      "CycleGAN:\n",
      "In this project, I made a deep-learning model based on the CycleGAN technique and self-attention to\n",
      "convert night images to day images and vice versa.\n",
      "Reviews Classification:\n",
      "In this project, I fine tuned bert-based model to classify talabate company reviews.\n",
      "Education\n",
      "• Suhaj University\n",
      " B.SC. OF Electrical Engineering\n",
      " Graduated with a grade of excellent with honors and ranked first\n",
      " Master's Degree\n",
      "Languages\n",
      "2015- 2020\n",
      "9/2021 - present\n",
      "• Arabic\n",
      "• English\n",
      "Skills\n",
      "Programming Languages\n",
      "• Python.\n",
      "• CPP.\n",
      "• C.\n",
      "Software Tools\n",
      "• Git.\n",
      "Database Management\n",
      "• MySQL.\n",
      "Machine Learning and Deep Learning\n",
      "• TensorFlow.\n",
      "• PyTorch.\n",
      "• Scikit-learn.\n",
      "• Natural Language Processing (NLP).\n",
      "• Computer Vision.\n",
      "Courses and Certificates:\n",
      "• Huawei:\n",
      "• HCIA-AI V3.5 certificate\n",
      "• Innovation:\n",
      "• INNOVEGYPT and Intel (Intel ideation workshop), INNOVEGYPT and ITIDA (48-hour training course\n",
      "and developed a final project for a potential startup).\n",
      "• Online courses:\n",
      "• Machine learning specialization [by Andrew NG].\n",
      "• Git and GitHub.\n",
      "• Generative Deep Learning with TensorFlow.\n",
      "• Natural Language Processing in TensorFlow.\n",
      "• Custom and Distributed Training with TensorFlow\n"
     ]
    }
   ],
   "source": [
    "# Python code to illustrate with()\n",
    "with open(\"kh.txt\") as file:  \n",
    "    data = file.read() \n",
    "\n",
    "print(data)"
   ]
  },
  {
   "cell_type": "code",
   "execution_count": 88,
   "metadata": {},
   "outputs": [
    {
     "name": "stdout",
     "output_type": "stream",
     "text": [
      "Khale\n"
     ]
    }
   ],
   "source": [
    "file = open(\"kh.txt\", \"r\")\n",
    "print (file.read(5))#print the first 5 characters"
   ]
  },
  {
   "cell_type": "code",
   "execution_count": 89,
   "metadata": {},
   "outputs": [],
   "source": [
    "# Python code to create a file\n",
    "file = open('geek.txt','w')\n",
    "file.write(\"This is the write command\")\n",
    "file.write(\"It allows us to write in a particular file\")\n",
    "file.close()"
   ]
  },
  {
   "cell_type": "code",
   "execution_count": 90,
   "metadata": {},
   "outputs": [],
   "source": [
    "# Python code to illustrate with() alongwith write()\n",
    "with open(\"file.txt\", \"w\") as f: \n",
    "    f.write(\"Hello World!!!\") "
   ]
  },
  {
   "cell_type": "code",
   "execution_count": 91,
   "metadata": {},
   "outputs": [],
   "source": [
    "file = open('geek.txt', 'a')\n",
    "file.write(\"This will add this line\")\n",
    "file.close()"
   ]
  },
  {
   "cell_type": "code",
   "execution_count": null,
   "metadata": {},
   "outputs": [],
   "source": [
    "\"\"\"\n",
    "you should close the file after the end of your work for the following reasons:\n",
    "1. Memory Usage \n",
    "    Each open file consumes system resources, such as file descriptors and memory. \n",
    "    If you open many files without closing them, you could exhaust these resources, leading to errors or slow performance.\n",
    "2. Preventing Corruption\n",
    "    If a file remains open, especially in write mode, and the program crashes or is forcibly terminated, \n",
    "    it may lead to file corruption. Closing the file properly minimizes the risk of such issues.\n",
    "3. Some operating systems lock files when they are open, meaning other programs or processes may not be able to access or modify the file until it is closed.\n",
    "\"\"\""
   ]
  },
  {
   "cell_type": "markdown",
   "metadata": {},
   "source": [
    "### Task 1 Solution"
   ]
  },
  {
   "cell_type": "markdown",
   "metadata": {},
   "source": [
    "**Problem Statement:**<br>\n",
    "You are tasked with developing a program to manage student grades. You need to store\n",
    "students' names, along with their grades for different subjects.<br>\n",
    "\n",
    "**Requirements:**<br>\n",
    "*  Store each student's information as a tuple of the form (name, {'subject1': grade1,\n",
    "'subject2': grade2, ...}).<br>\n",
    "* Create a list of students, each represented by the above tuple.<br>\n",
    "* Implement a function to add a new student to the list.<br>\n",
    "* Implement a function to update the grades for a particular student.<br>\n",
    "* Implement a function to calculate the average grade of a student.<br>\n",
    "* Implement a function to find the student with the highest average grade.<br>"
   ]
  },
  {
   "cell_type": "code",
   "execution_count": 69,
   "metadata": {},
   "outputs": [
    {
     "name": "stdout",
     "output_type": "stream",
     "text": [
      "Alice's average grade: 91.00\n",
      "Top student: Alice with average grade: 91.00\n"
     ]
    }
   ],
   "source": [
    "# Function to add a new student\n",
    "def add_student(students, name, grades):\n",
    "    student_tuple = (name, grades)\n",
    "    students.append(student_tuple)\n",
    "\n",
    "# Function to update the grades for a particular student\n",
    "def update_grades(students, name, subject, grade):\n",
    "    for i, (student_name, student_grades) in enumerate(students):\n",
    "        if student_name == name:\n",
    "            student_grades[subject] = grade\n",
    "            students[i] = (student_name, student_grades)\n",
    "            return\n",
    "    print(f\"Student {name} not found.\")\n",
    "\n",
    "# Function to calculate the average grade of a student\n",
    "def calculate_average_grade(student):\n",
    "    grades = student[1].values()\n",
    "    if grades:\n",
    "        return sum(grades) / len(grades)\n",
    "    return 0\n",
    "\n",
    "# Function to find the student with the highest average grade\n",
    "def find_top_student(students):\n",
    "    top_student = None\n",
    "    highest_average = 0\n",
    "    for student in students:\n",
    "        avg_grade = calculate_average_grade(student)\n",
    "        if avg_grade > highest_average:\n",
    "            highest_average = avg_grade\n",
    "            top_student = student\n",
    "    return top_student\n",
    "\n",
    "# Example usage\n",
    "students = []\n",
    "\n",
    "# Add students\n",
    "add_student(students, \"Alice\", {\"Math\": 85, \"Science\": 90, \"History\": 88})\n",
    "add_student(students, \"Bob\", {\"Math\": 92, \"Science\": 81, \"History\": 78})\n",
    "add_student(students, \"Charlie\", {\"Math\": 87, \"Science\": 93, \"History\": 82})\n",
    "\n",
    "# Update grades\n",
    "update_grades(students, \"Alice\", \"Math\", 95)\n",
    "update_grades(students, \"Bob\", \"History\", 88)\n",
    "\n",
    "# Calculate average grade for a specific student\n",
    "alice_avg = calculate_average_grade(students[0])\n",
    "print(f\"Alice's average grade: {alice_avg:.2f}\")  # Output: Alice's average grade: 91.00\n",
    "\n",
    "# Find the student with the highest average grade\n",
    "top_student = find_top_student(students)\n",
    "print(f\"Top student: {top_student[0]} with average grade: {calculate_average_grade(top_student):.2f}\")\n",
    "# Output: Top student: Alice with average grade: 91.00"
   ]
  },
  {
   "cell_type": "markdown",
   "metadata": {},
   "source": [
    "### Task 2 Solution"
   ]
  },
  {
   "cell_type": "markdown",
   "metadata": {},
   "source": [
    "**Problem Statement:**<br>\n",
    "You need to create a shopping cart system for an e-commerce application.<br> The cart\n",
    "should keep track of items, their prices, and quantities.<br>\n",
    "\n",
    "**Requirements:**<br>\n",
    "* Represent each item as a tuple (item_name, price).<br>\n",
    "* Use a list to store items added to the cart.<br>\n",
    "* Use a dictionary to keep track of the quantity of each item in the cart, with the item name<br>\n",
    "as the key and the quantity as the value.<br>\n",
    "* Implement functions to add items to the cart, update the quantity of an item, and remove\n",
    "an item from the cart.<br>\n",
    "** Implement a function to calculate the total price of items in the cart.<br>"
   ]
  },
  {
   "cell_type": "code",
   "execution_count": 70,
   "metadata": {},
   "outputs": [
    {
     "name": "stdout",
     "output_type": "stream",
     "text": [
      "Total price: $1075.00\n"
     ]
    }
   ],
   "source": [
    "# Function to add an item to the cart\n",
    "def add_item(cart, quantities, item_name, price, quantity=1):\n",
    "    item = (item_name, price)\n",
    "    cart.append(item)\n",
    "    if item_name in quantities:\n",
    "        quantities[item_name] += quantity\n",
    "    else:\n",
    "        quantities[item_name] = quantity\n",
    "\n",
    "# Function to update the quantity of an item in the cart\n",
    "def update_quantity(quantities, item_name, quantity):\n",
    "    if item_name in quantities:\n",
    "        quantities[item_name] = quantity\n",
    "    else:\n",
    "        print(f\"Item {item_name} not found in the cart.\")\n",
    "\n",
    "# Function to remove an item from the cart\n",
    "def remove_item(cart, quantities, item_name):\n",
    "    # Remove the item from the quantities dictionary\n",
    "    if item_name in quantities:\n",
    "        del quantities[item_name]\n",
    "    else:\n",
    "        print(f\"Item {item_name} not found in the cart.\")\n",
    "        return\n",
    "    \n",
    "    # Remove the item from the cart list\n",
    "    cart[:] = [item for item in cart if item[0] != item_name]\n",
    "\n",
    "# Function to calculate the total price of items in the cart\n",
    "def calculate_total(cart, quantities):\n",
    "    total = 0\n",
    "    for item_name, price in cart:\n",
    "        if item_name in quantities:\n",
    "            total += price * quantities[item_name]\n",
    "    return total\n",
    "\n",
    "# Example usage\n",
    "cart = []\n",
    "quantities = {}\n",
    "\n",
    "# Add items to the cart\n",
    "add_item(cart, quantities, \"Laptop\", 1000, 1)\n",
    "add_item(cart, quantities, \"Mouse\", 25, 2)\n",
    "add_item(cart, quantities, \"Keyboard\", 50, 1)\n",
    "\n",
    "# Update the quantity of an item\n",
    "update_quantity(quantities, \"Mouse\", 3)\n",
    "\n",
    "# Remove an item from the cart\n",
    "remove_item(cart, quantities, \"Keyboard\")\n",
    "\n",
    "# Calculate the total price\n",
    "total_price = calculate_total(cart, quantities)\n",
    "print(f\"Total price: ${total_price:.2f}\")  # Output: Total price: $1075.00\n"
   ]
  },
  {
   "cell_type": "markdown",
   "metadata": {},
   "source": [
    "### Task 3 Solution"
   ]
  },
  {
   "cell_type": "markdown",
   "metadata": {},
   "source": [
    "**Problem Statement:**<br>\n",
    "* Develop a system to manage employee data, including their ID, name, position, and salary.<br>\n",
    "\n",
    "**Requirements:**<br>\n",
    "* Store each employee's data in a tuple (ID, name, position, salary).<br>\n",
    "* Use a list to maintain a collection of employees.<br>\n",
    "* Implement a function to add a new employee to the list.<br>\n",
    "* Implement a function to find an employee by their ID and return their details.<br>\n",
    "* Implement a function to update an employee’s salary based on their ID.<br>\n",
    "* Implement a function to find all employees with a salary above a certain threshold and\n",
    "return their names.<br>"
   ]
  },
  {
   "cell_type": "code",
   "execution_count": null,
   "metadata": {},
   "outputs": [],
   "source": [
    "# Function to add a new employee to the list\n",
    "def add_employee(employees, emp_id, name, position, salary):\n",
    "    employee = (emp_id, name, position, salary)\n",
    "    employees.append(employee)\n",
    "\n",
    "# Function to find an employee by their ID\n",
    "def find_employee_by_id(employees, emp_id):\n",
    "    for employee in employees:\n",
    "        if employee[0] == emp_id:  # Employee ID is the first element in the tuple\n",
    "            return employee\n",
    "    return None\n",
    "\n",
    "# Function to update an employee’s salary based on their ID\n",
    "def update_employee_salary(employees, emp_id, new_salary):\n",
    "    for i, employee in enumerate(employees):\n",
    "        if employee[0] == emp_id:\n",
    "            employees[i] = (employee[0], employee[1], employee[2], new_salary)\n",
    "            return True\n",
    "    return False\n",
    "\n",
    "# Function to find all employees with a salary above a certain threshold\n",
    "def find_employees_above_salary(employees, threshold):\n",
    "    result = []\n",
    "    for employee in employees:\n",
    "        if employee[3] > threshold:  # Salary is the fourth element in the tuple\n",
    "            result.append(employee[1])  # Append employee name to the result list\n",
    "    return result\n",
    "\n",
    "# Example usage\n",
    "employees = []\n",
    "\n",
    "# Add employees\n",
    "add_employee(employees, 1, \"Alice Johnson\", \"Manager\", 75000)\n",
    "add_employee(employees, 2, \"Bob Smith\", \"Developer\", 60000)\n",
    "add_employee(employees, 3, \"Charlie Brown\", \"Designer\", 65000)\n",
    "add_employee(employees, 4, \"David Wilson\", \"Developer\", 70000)\n",
    "\n",
    "# Find an employee by ID\n",
    "employee = find_employee_by_id(employees, 2)\n",
    "print(f\"Found employee: {employee}\")  # Output: Found employee: (2, 'Bob Smith', 'Developer', 60000)\n",
    "\n",
    "# Update an employee's salary\n",
    "update_success = update_employee_salary(employees, 3, 68000)\n",
    "print(f\"Update successful: {update_success}\")  # Output: Update successful: True\n",
    "\n",
    "# Find employees with salary above a certain threshold\n",
    "high_earners = find_employees_above_salary(employees, 65000)\n",
    "print(f\"Employees with salary above 65000: {high_earners}\")  # Output: Employees with salary above 65000: ['Alice Johnson', 'David Wilson']\n"
   ]
  },
  {
   "cell_type": "markdown",
   "metadata": {},
   "source": [
    "# Defining a Class in Python"
   ]
  },
  {
   "cell_type": "code",
   "execution_count": 1,
   "metadata": {},
   "outputs": [],
   "source": [
    "class ClassName:\n",
    "    # Class body\n",
    "    pass"
   ]
  },
  {
   "cell_type": "markdown",
   "metadata": {},
   "source": [
    "**attributes** are variables that hold the class data, \n",
    "while **methods** are functions that provide behavior and typically act on the class data"
   ]
  },
  {
   "cell_type": "code",
   "execution_count": 2,
   "metadata": {},
   "outputs": [],
   "source": [
    "import math\n",
    "\n",
    "class Circle:\n",
    "    def __init__(self, radius):\n",
    "        #known as the object initializer \n",
    "        #because it defines and sets the initial values for your attributes. \n",
    "        self.radius = radius\n",
    "\n",
    "    def calculate_area(self):\n",
    "        return round(math.pi * self.radius ** 2, 2)"
   ]
  },
  {
   "cell_type": "markdown",
   "metadata": {},
   "source": [
    "### Creating Objects From a Class in Python"
   ]
  },
  {
   "cell_type": "code",
   "execution_count": 3,
   "metadata": {},
   "outputs": [
    {
     "data": {
      "text/plain": [
       "<__main__.Circle at 0x28e5607cd50>"
      ]
     },
     "execution_count": 3,
     "metadata": {},
     "output_type": "execute_result"
    }
   ],
   "source": [
    "circle_1 = Circle(42) # now circle1 radius is 1, Circle() with 42 passed to it called class constructor\n",
    "circle_1 # location at memory"
   ]
  },
  {
   "cell_type": "code",
   "execution_count": 4,
   "metadata": {},
   "outputs": [
    {
     "data": {
      "text/plain": [
       "42"
      ]
     },
     "execution_count": 4,
     "metadata": {},
     "output_type": "execute_result"
    }
   ],
   "source": [
    "circle_1.radius #acessing of attributes"
   ]
  },
  {
   "cell_type": "code",
   "execution_count": 5,
   "metadata": {},
   "outputs": [
    {
     "data": {
      "text/plain": [
       "5541.77"
      ]
     },
     "execution_count": 5,
     "metadata": {},
     "output_type": "execute_result"
    }
   ],
   "source": [
    "circle_1.calculate_area() #acessing of methods"
   ]
  },
  {
   "cell_type": "code",
   "execution_count": 6,
   "metadata": {},
   "outputs": [
    {
     "data": {
      "text/plain": [
       "153.94"
      ]
     },
     "execution_count": 6,
     "metadata": {},
     "output_type": "execute_result"
    }
   ],
   "source": [
    "#re-assign attributes\n",
    "circle_1.radius = 7\n",
    "circle_1.calculate_area()\n"
   ]
  },
  {
   "cell_type": "markdown",
   "metadata": {},
   "source": [
    "### Naming Conventions in Python Classes"
   ]
  },
  {
   "attachments": {
    "image.png": {
     "image/png": "[encoded data removed]"
    }
   },
   "cell_type": "markdown",
   "metadata": {},
   "source": [
    "![image.png](attachment:image.png)"
   ]
  },
  {
   "cell_type": "markdown",
   "metadata": {},
   "source": [
    "* **Public members** are part of the official interface or API of your classes, while \n",
    "* **non-public members** aren’t intended to be part of that API. \n",
    "* This means that you shouldn’t use non-public members outside their defining class."
   ]
  },
  {
   "cell_type": "markdown",
   "metadata": {},
   "source": [
    "## Encapsulation "
   ]
  },
  {
   "cell_type": "markdown",
   "metadata": {},
   "source": [
    "Encapsulation is one of the fundamental concepts in object-oriented programming (OOP).<br>\n",
    "It refers to the bundling of data (attributes) and methods that operate on the data into a single unit or class, and restricting access to some of the object's components.<br>\n",
    "In Python, encapsulation is achieved by controlling the access to the attributes and methods of a class.<br>"
   ]
  },
  {
   "cell_type": "markdown",
   "metadata": {},
   "source": [
    "**Levels of Access Control in Python**\n",
    "* Python provides three levels of access control:<br><br>\n",
    "\n",
    "1. **Public Members:**<br>\n",
    "Attributes and methods that are accessible from outside the class.<br>\n",
    "By default, all members in a Python class are public.<br>\n",
    "Example: `self.name`<br><br>\n",
    "2. **Protected Members:**<br>\n",
    "Attributes and methods that should not be accessed outside the class, but can be accessed in derived classes.<br>\n",
    "Conventionally, a protected member's name begins with a single underscore (_).<br>\n",
    "Example: `self._name`<br><br>\n",
    "3. **Private Members:**<br>\n",
    "Attributes and methods that are not accessible or visible outside the class.<br>\n",
    "This is achieved by prefixing the member name with double underscores (__).<br>\n",
    "Python \"mangles\" the name to prevent access, but it is still possible to access it using a special syntax.<br>\n",
    "Example: `self.__name`<br>"
   ]
  },
  {
   "cell_type": "code",
   "execution_count": 92,
   "metadata": {},
   "outputs": [
    {
     "name": "stdout",
     "output_type": "stream",
     "text": [
      "Public\n",
      "Protected\n"
     ]
    },
    {
     "ename": "AttributeError",
     "evalue": "'Example' object has no attribute '__private_name'",
     "output_type": "error",
     "traceback": [
      "\u001b[1;31m---------------------------------------------------------------------------\u001b[0m",
      "\u001b[1;31mAttributeError\u001b[0m                            Traceback (most recent call last)",
      "Cell \u001b[1;32mIn[92], line 9\u001b[0m\n\u001b[0;32m      7\u001b[0m \u001b[38;5;28mprint\u001b[39m(obj\u001b[38;5;241m.\u001b[39mname)\n\u001b[0;32m      8\u001b[0m \u001b[38;5;28mprint\u001b[39m(obj\u001b[38;5;241m.\u001b[39m_protected_name)\n\u001b[1;32m----> 9\u001b[0m \u001b[38;5;28mprint\u001b[39m(obj\u001b[38;5;241m.\u001b[39m__private_name)\n",
      "\u001b[1;31mAttributeError\u001b[0m: 'Example' object has no attribute '__private_name'"
     ]
    }
   ],
   "source": [
    "class Example:\n",
    "    def __init__(self):\n",
    "        self.name = \"Public\"\n",
    "        self._protected_name = \"Protected\"\n",
    "        self.__private_name = \"Private\"\n",
    "obj = Example()\n",
    "print(obj.name)\n",
    "print(obj._protected_name)\n",
    "print(obj.__private_name)"
   ]
  },
  {
   "cell_type": "markdown",
   "metadata": {},
   "source": [
    "#### Class Attributes\n",
    "* Class attributes are variables that you define directly in the class body but outside of any method. \n",
    "* These attributes are tied to the class itself rather than to particular objects of that class.\n",
    "\n",
    "* All the objects that you create from a particular class share the same class attributes with the same original values. \n",
    "* Because of this, if you change a class attribute, then that change affects all the derived objects."
   ]
  },
  {
   "cell_type": "code",
   "execution_count": 15,
   "metadata": {},
   "outputs": [
    {
     "data": {
      "text/plain": [
       "1"
      ]
     },
     "execution_count": 15,
     "metadata": {},
     "output_type": "execute_result"
    }
   ],
   "source": [
    "class ObjectCounter:\n",
    "    num_instances = 0\n",
    "    def __init__(self):\n",
    "        ObjectCounter.num_instances += 1\n",
    "\n",
    "obj1 = ObjectCounter()\n",
    "ObjectCounter.num_instances"
   ]
  },
  {
   "cell_type": "code",
   "execution_count": 16,
   "metadata": {},
   "outputs": [
    {
     "data": {
      "text/plain": [
       "2"
      ]
     },
     "execution_count": 16,
     "metadata": {},
     "output_type": "execute_result"
    }
   ],
   "source": [
    "obj2 = ObjectCounter()\n",
    "ObjectCounter.num_instances"
   ]
  },
  {
   "cell_type": "code",
   "execution_count": 17,
   "metadata": {},
   "outputs": [
    {
     "data": {
      "text/plain": [
       "2"
      ]
     },
     "execution_count": 17,
     "metadata": {},
     "output_type": "execute_result"
    }
   ],
   "source": [
    "obj2.num_instances # you can acess it from objects"
   ]
  },
  {
   "cell_type": "code",
   "execution_count": 18,
   "metadata": {},
   "outputs": [
    {
     "data": {
      "text/plain": [
       "2"
      ]
     },
     "execution_count": 18,
     "metadata": {},
     "output_type": "execute_result"
    }
   ],
   "source": [
    "obj1.num_instances"
   ]
  },
  {
   "cell_type": "markdown",
   "metadata": {},
   "source": [
    "## Instance Attributes"
   ]
  },
  {
   "cell_type": "code",
   "execution_count": 25,
   "metadata": {},
   "outputs": [],
   "source": [
    "class Car:\n",
    "    def __init__(self, make, model, year, color):\n",
    "        self.make = make\n",
    "        self.model = model\n",
    "        self.year = year\n",
    "        self.color = color\n",
    "        self.started = False\n",
    "        self.speed = 0\n",
    "        self.max_speed = 200"
   ]
  },
  {
   "cell_type": "code",
   "execution_count": 27,
   "metadata": {},
   "outputs": [
    {
     "data": {
      "text/plain": [
       "'Toyota'"
      ]
     },
     "execution_count": 27,
     "metadata": {},
     "output_type": "execute_result"
    }
   ],
   "source": [
    "toyota_camry = Car(\"Toyota\", \"Camry\", 2022, \"Red\")\n",
    "toyota_camry.make"
   ]
  },
  {
   "cell_type": "code",
   "execution_count": 28,
   "metadata": {},
   "outputs": [
    {
     "data": {
      "text/plain": [
       "'Ford'"
      ]
     },
     "execution_count": 28,
     "metadata": {},
     "output_type": "execute_result"
    }
   ],
   "source": [
    "ford_mustang = Car(\"Ford\", \"Mustang\", 2022, \"Black\")\n",
    "ford_mustang.make"
   ]
  },
  {
   "cell_type": "code",
   "execution_count": 29,
   "metadata": {},
   "outputs": [
    {
     "ename": "AttributeError",
     "evalue": "type object 'Car' has no attribute 'make'",
     "output_type": "error",
     "traceback": [
      "\u001b[1;31m---------------------------------------------------------------------------\u001b[0m",
      "\u001b[1;31mAttributeError\u001b[0m                            Traceback (most recent call last)",
      "Cell \u001b[1;32mIn[29], line 1\u001b[0m\n\u001b[1;32m----> 1\u001b[0m Car\u001b[38;5;241m.\u001b[39mmake\n",
      "\u001b[1;31mAttributeError\u001b[0m: type object 'Car' has no attribute 'make'"
     ]
    }
   ],
   "source": [
    "Car.make #Instance attributes are specific to a concrete instance of a given class. So, you can’t access them through the class object. "
   ]
  },
  {
   "cell_type": "markdown",
   "metadata": {},
   "source": [
    "### Dynamic Class and Instance Attributes\n",
    "In Python, you can add new attributes to your classes and instances dynamically.<br>\n",
    "This possibility allows you to attach new data and behavior to your classes and objects in response to changing requirements or contexts.<br>\n",
    "It also allows you to adapt existing classes to specific and dynamic needs.<br>"
   ]
  },
  {
   "cell_type": "code",
   "execution_count": 32,
   "metadata": {},
   "outputs": [],
   "source": [
    "class Record:\n",
    "    \"\"\"Hold a record of data.\"\"\""
   ]
  },
  {
   "cell_type": "code",
   "execution_count": 33,
   "metadata": {},
   "outputs": [],
   "source": [
    "# this details may be read from csv file and we do not know it contents\n",
    "john = {\n",
    "     \"name\": \"John Doe\",\n",
    "     \"position\": \"Python Developer\",\n",
    "     \"department\": \"Engineering\",\n",
    "     \"salary\": 80000,\n",
    "     \"hire_date\": \"2020-01-01\",\n",
    "     \"is_manager\": False,\n",
    " }\n",
    "john_record = Record()\n",
    "for field, value in john.items():\n",
    "    setattr(john_record, field, value)"
   ]
  },
  {
   "cell_type": "code",
   "execution_count": 35,
   "metadata": {},
   "outputs": [
    {
     "data": {
      "text/plain": [
       "('John Doe', 'Python Developer', 'Engineering')"
      ]
     },
     "execution_count": 35,
     "metadata": {},
     "output_type": "execute_result"
    }
   ],
   "source": [
    "john_record.name , john_record.position, john_record.department"
   ]
  },
  {
   "cell_type": "code",
   "execution_count": 34,
   "metadata": {},
   "outputs": [
    {
     "data": {
      "text/plain": [
       "{'name': 'John Doe',\n",
       " 'position': 'Python Developer',\n",
       " 'department': 'Engineering',\n",
       " 'salary': 80000,\n",
       " 'hire_date': '2020-01-01',\n",
       " 'is_manager': False}"
      ]
     },
     "execution_count": 34,
     "metadata": {},
     "output_type": "execute_result"
    }
   ],
   "source": [
    "john_record.__dict__"
   ]
  },
  {
   "cell_type": "code",
   "execution_count": 40,
   "metadata": {},
   "outputs": [
    {
     "data": {
      "text/plain": [
       "{'name': 'Jane Doe', 'job': 'Data Engineer'}"
      ]
     },
     "execution_count": 40,
     "metadata": {},
     "output_type": "execute_result"
    }
   ],
   "source": [
    "class User:\n",
    "     pass #you’ve just used a pass statement as a placeholder, which is Python’s way of doing nothing.\n",
    "jane = User()\n",
    "## the following attributes will be only for jane object but if we created a new object we will find without them\n",
    "jane.name = \"Jane Doe\"\n",
    "jane.job = \"Data Engineer\"\n",
    "jane.__dict__"
   ]
  },
  {
   "cell_type": "code",
   "execution_count": 41,
   "metadata": {},
   "outputs": [
    {
     "data": {
      "text/plain": [
       "mappingproxy({'__module__': '__main__',\n",
       "              '__dict__': <attribute '__dict__' of 'User' objects>,\n",
       "              '__weakref__': <attribute '__weakref__' of 'User' objects>,\n",
       "              '__doc__': None})"
      ]
     },
     "execution_count": 41,
     "metadata": {},
     "output_type": "execute_result"
    }
   ],
   "source": [
    "User.__dict__"
   ]
  },
  {
   "cell_type": "code",
   "execution_count": 43,
   "metadata": {},
   "outputs": [],
   "source": [
    "# Add methods dynamically\n",
    "def __init__(self, name, job):\n",
    "     self.name = name\n",
    "     self.job = job\n",
    "     \n",
    "User.__init__ = __init__"
   ]
  },
  {
   "cell_type": "code",
   "execution_count": 44,
   "metadata": {},
   "outputs": [
    {
     "data": {
      "text/plain": [
       "mappingproxy({'__module__': '__main__',\n",
       "              '__dict__': <attribute '__dict__' of 'User' objects>,\n",
       "              '__weakref__': <attribute '__weakref__' of 'User' objects>,\n",
       "              '__doc__': None,\n",
       "              '__init__': <function __main__.__init__(self, name, job)>})"
      ]
     },
     "execution_count": 44,
     "metadata": {},
     "output_type": "execute_result"
    }
   ],
   "source": [
    "User.__dict__"
   ]
  },
  {
   "cell_type": "markdown",
   "metadata": {},
   "source": [
    "### Property-Based Attributes"
   ]
  },
  {
   "cell_type": "code",
   "execution_count": 93,
   "metadata": {},
   "outputs": [],
   "source": [
    "# circle.py\n",
    "\n",
    "import math\n",
    "\n",
    "class Circle:\n",
    "    def __init__(self, radius):\n",
    "        self.radius = radius\n",
    "\n",
    "    @property #The @property decorator makes radius accessible as a property, so you can use circle.radius to get the radius without needing parentheses.\n",
    "    def radius(self):\n",
    "        \"\"\"This method returns the current value of the radius.\"\"\"\n",
    "        #Even though _radius is not explicitly defined in the __init__ method, it is defined the first time the setter is called when the object is initialized.\n",
    "        return self._radius\n",
    "\n",
    "    @radius.setter #@attr_name.setter\n",
    "    def radius(self, value):\n",
    "        \"\"\"This method sets the value of radius after validating it\"\"\"\n",
    "        # it ensures that the input is either an integer or a float and that it is positive.\n",
    "        # If the validation fails, a ValueError is raised.\n",
    "        if not isinstance(value, int | float) or value <= 0:\n",
    "            raise ValueError(\"positive number expected\")\n",
    "        self._radius = value #actually stores the radius in a private attribute _radius.\n",
    "\n",
    "    def calculate_area(self):\n",
    "        return round(math.pi * self._radius**2, 2)"
   ]
  },
  {
   "cell_type": "code",
   "execution_count": 102,
   "metadata": {},
   "outputs": [
    {
     "data": {
      "text/plain": [
       "10"
      ]
     },
     "execution_count": 102,
     "metadata": {},
     "output_type": "execute_result"
    }
   ],
   "source": [
    "circle_1 = Circle(10)\n",
    "circle_1.radius"
   ]
  },
  {
   "cell_type": "code",
   "execution_count": 103,
   "metadata": {},
   "outputs": [
    {
     "data": {
      "text/plain": [
       "314.16"
      ]
     },
     "execution_count": 103,
     "metadata": {},
     "output_type": "execute_result"
    }
   ],
   "source": [
    "circle_1.calculate_area()"
   ]
  },
  {
   "cell_type": "code",
   "execution_count": null,
   "metadata": {},
   "outputs": [],
   "source": []
  },
  {
   "cell_type": "code",
   "execution_count": null,
   "metadata": {},
   "outputs": [],
   "source": [
    "class Square:\n",
    "    def __init__(self, side):\n",
    "        self.side = side\n",
    "\n",
    "    @property\n",
    "    def side(self):\n",
    "        return self._side\n",
    "\n",
    "    @side.setter\n",
    "    def side(self, value):\n",
    "        if not isinstance(value, int | float) or value <= 0:\n",
    "            raise ValueError(\"positive number expected\")\n",
    "        self._side = value\n",
    "\n",
    "    def calculate_area(self):\n",
    "        return round(self._side**2, 2)"
   ]
  },
  {
   "cell_type": "code",
   "execution_count": 104,
   "metadata": {},
   "outputs": [
    {
     "name": "stdout",
     "output_type": "stream",
     "text": [
      "Alice\n",
      "50000\n",
      "Bob\n",
      "60000\n"
     ]
    }
   ],
   "source": [
    "class Employee:\n",
    "    def __init__(self, name, salary):\n",
    "        self.__name = name  # Private attribute\n",
    "        self.__salary = salary  # Private attribute\n",
    "\n",
    "    # Getter for name\n",
    "    @property\n",
    "    def name(self):\n",
    "        return self.__name\n",
    "\n",
    "    # Setter for name\n",
    "    @name.setter\n",
    "    def name(self, name):\n",
    "        if not isinstance(name, str):\n",
    "            raise ValueError(\"Name must be a string.\")\n",
    "        self.__name = name\n",
    "\n",
    "    # Getter for salary\n",
    "    @property\n",
    "    def salary(self):\n",
    "        return self.__salary\n",
    "\n",
    "    # Setter for salary\n",
    "    @salary.setter\n",
    "    def salary(self, salary):\n",
    "        if salary < 0:\n",
    "            raise ValueError(\"Salary must be a positive number.\")\n",
    "        self.__salary = salary\n",
    "\n",
    "# Example usage\n",
    "emp = Employee(\"Alice\", 50000)\n",
    "print(emp.name)  # Output: Alice\n",
    "print(emp.salary)  # Output: 50000\n",
    "\n",
    "emp.name = \"Bob\"  # Using the setter\n",
    "emp.salary = 60000  # Using the setter\n",
    "print(emp.name)  # Output: Bob\n",
    "print(emp.salary)  # Output: 60000\n"
   ]
  },
  {
   "cell_type": "code",
   "execution_count": 108,
   "metadata": {},
   "outputs": [
    {
     "name": "stdout",
     "output_type": "stream",
     "text": [
      "Bob\n"
     ]
    }
   ],
   "source": [
    "emp.__name = 10\n",
    "print(emp.name)"
   ]
  },
  {
   "cell_type": "markdown",
   "metadata": {},
   "source": [
    "In a Python class, you can define three different types of methods:<br>\n",
    "\n",
    "**Instance methods**, which take the current instance, self, as their first argument<br>\n",
    "**Class methods**, which take the current class, cls, as their first argument<br>\n",
    "**Static methods**, which take neither the class nor the instance<br>"
   ]
  },
  {
   "cell_type": "markdown",
   "metadata": {},
   "source": [
    "### Instance Methods With self"
   ]
  },
  {
   "cell_type": "code",
   "execution_count": 55,
   "metadata": {},
   "outputs": [],
   "source": [
    "# car.py\n",
    "\n",
    "class Car:\n",
    "    def __init__(self, make, model, year, color):\n",
    "        self.make = make\n",
    "        self.model = model\n",
    "        self.year = year\n",
    "        self.color = color\n",
    "        self.started = False\n",
    "        self.speed = 0\n",
    "        self.max_speed = 200\n",
    "\n",
    "    def start(self):\n",
    "        print(\"Starting the car...\")\n",
    "        self.started = True\n",
    "\n",
    "    def stop(self):\n",
    "        print(\"Stopping the car...\")\n",
    "        self.started = False\n",
    "    def __str__(self):\n",
    "        return f\"{self.make}, {self.model}, {self.color}: ({self.year})\""
   ]
  },
  {
   "cell_type": "code",
   "execution_count": 56,
   "metadata": {},
   "outputs": [
    {
     "data": {
      "text/plain": [
       "'Note: Instance methods should act on instance attributes by either accessing them or changing their values. \\nIf you find yourself writing an instance method that doesn’t use self in its body, then that may not be an instance method. \\nIn this case, you should probably use a class method or a static method, depending on your specific needs.'"
      ]
     },
     "execution_count": 56,
     "metadata": {},
     "output_type": "execute_result"
    }
   ],
   "source": [
    "\"\"\"Note: Instance methods should act on instance attributes by either accessing them or changing their values. \n",
    "If you find yourself writing an instance method that doesn’t use self in its body, then that may not be an instance method. \n",
    "In this case, you should probably use a class method or a static method, depending on your specific needs.\"\"\""
   ]
  },
  {
   "cell_type": "code",
   "execution_count": 57,
   "metadata": {},
   "outputs": [
    {
     "name": "stdout",
     "output_type": "stream",
     "text": [
      "Ford, Mustang, Black: (2022)\n"
     ]
    }
   ],
   "source": [
    "ford_mustang = Car(\"Ford\", \"Mustang\", 2022, \"Black\")\n",
    "print(ford_mustang)"
   ]
  },
  {
   "cell_type": "markdown",
   "metadata": {},
   "source": [
    "### Class Methods With @classmethod"
   ]
  },
  {
   "cell_type": "code",
   "execution_count": 59,
   "metadata": {},
   "outputs": [
    {
     "name": "stdout",
     "output_type": "stream",
     "text": [
      "'1984' by George Orwell, 328 pages\n",
      "'The Great Gatsby' by F. Scott Fitzgerald, 180 pages\n"
     ]
    }
   ],
   "source": [
    "class Book:\n",
    "    # Class attribute to keep track of the number of books\n",
    "    total_books = 0\n",
    "\n",
    "    def __init__(self, title, author, pages):\n",
    "        self.title = title\n",
    "        self.author = author\n",
    "        self.pages = pages\n",
    "        Book.total_books += 1\n",
    "\n",
    "    # Instance method\n",
    "    def display_info(self):\n",
    "        return f\"'{self.title}' by {self.author}, {self.pages} pages\"\n",
    "\n",
    "    # Class method to create a Book object from a string\n",
    "    @classmethod\n",
    "    def from_string(cls, book_str):\n",
    "        title, author, pages = book_str.split(',')\n",
    "        return cls(title.strip(), author.strip(), int(pages.strip()))\n",
    "\n",
    "\n",
    "# Example usage\n",
    "# Creating Book instances using the constructor\n",
    "book1 = Book(\"1984\", \"George Orwell\", 328)\n",
    "\n",
    "# Display book information\n",
    "print(book1.display_info())  # Output: '1984' by George Orwell, 328 pages\n",
    "\n",
    "# Creating a Book instance using the class method\n",
    "book_str = \"The Great Gatsby, F. Scott Fitzgerald, 180\"\n",
    "book3 = Book.from_string(book_str)\n",
    "\n",
    "# Display book information\n",
    "print(book3.display_info()) \n"
   ]
  },
  {
   "cell_type": "markdown",
   "metadata": {},
   "source": [
    "### Static Methods With @staticmethod"
   ]
  },
  {
   "cell_type": "code",
   "execution_count": 60,
   "metadata": {},
   "outputs": [
    {
     "name": "stdout",
     "output_type": "stream",
     "text": [
      "8\n",
      "6\n",
      "21\n",
      "5.0\n",
      "True\n",
      "True\n",
      "True\n"
     ]
    }
   ],
   "source": [
    "class MathOperations:\n",
    "    @staticmethod\n",
    "    def add(a, b):\n",
    "        \"\"\"Returns the sum of two numbers.\"\"\"\n",
    "        return a + b\n",
    "\n",
    "    @staticmethod\n",
    "    def subtract(a, b):\n",
    "        \"\"\"Returns the difference between two numbers.\"\"\"\n",
    "        return a - b\n",
    "\n",
    "    @staticmethod\n",
    "    def multiply(a, b):\n",
    "        \"\"\"Returns the product of two numbers.\"\"\"\n",
    "        return a * b\n",
    "\n",
    "    @staticmethod\n",
    "    def divide(a, b):\n",
    "        \"\"\"Returns the quotient of two numbers. Raises ValueError on division by zero.\"\"\"\n",
    "        if b == 0:\n",
    "            raise ValueError(\"Cannot divide by zero!\")\n",
    "        return a / b\n",
    "\n",
    "    @staticmethod\n",
    "    def is_even(number):\n",
    "        \"\"\"Returns True if the number is even, False otherwise.\"\"\"\n",
    "        return number % 2 == 0\n",
    "\n",
    "    @staticmethod\n",
    "    def is_odd(number):\n",
    "        \"\"\"Returns True if the number is odd, False otherwise.\"\"\"\n",
    "        return number % 2 != 0\n",
    "\n",
    "# Example usage\n",
    "print(MathOperations.add(5, 3))         # Output: 8\n",
    "print(MathOperations.subtract(10, 4))   # Output: 6\n",
    "print(MathOperations.multiply(7, 3))    # Output: 21\n",
    "print(MathOperations.divide(15, 3))     # Output: 5.0\n",
    "print(MathOperations.is_even(10))       # Output: True\n",
    "print(MathOperations.is_odd(7))         # Output: True\n",
    "\n",
    "# Static methods can also be called on an instance of the class\n",
    "math_ops = MathOperations()\n",
    "print(math_ops.is_even(4))              # Output: True\n"
   ]
  },
  {
   "cell_type": "code",
   "execution_count": 61,
   "metadata": {},
   "outputs": [
    {
     "data": {
      "text/plain": [
       "'Jane'"
      ]
     },
     "execution_count": 61,
     "metadata": {},
     "output_type": "execute_result"
    }
   ],
   "source": [
    "class Person:\n",
    "    def __init__(self, name):\n",
    "        self.set_name(name)\n",
    "\n",
    "    def get_name(self):\n",
    "        return self._name\n",
    "\n",
    "    def set_name(self, value):\n",
    "        self._name = value\n",
    "\n",
    "jane = Person(\"Jane\")\n",
    "jane.get_name()"
   ]
  },
  {
   "cell_type": "code",
   "execution_count": 62,
   "metadata": {},
   "outputs": [
    {
     "data": {
      "text/plain": [
       "'Jane Doe'"
      ]
     },
     "execution_count": 62,
     "metadata": {},
     "output_type": "execute_result"
    }
   ],
   "source": [
    "jane.set_name(\"Jane Doe\")\n",
    "jane.get_name()"
   ]
  },
  {
   "cell_type": "code",
   "execution_count": 63,
   "metadata": {},
   "outputs": [],
   "source": [
    "# person.py\n",
    "\n",
    "class Person:\n",
    "    def __init__(self, name):\n",
    "        self.name = name\n",
    "\n",
    "    @property\n",
    "    def name(self):\n",
    "        return self._name\n",
    "\n",
    "    @name.setter\n",
    "    def name(self, value):\n",
    "        self._name = value.upper()"
   ]
  },
  {
   "cell_type": "code",
   "execution_count": 65,
   "metadata": {},
   "outputs": [
    {
     "data": {
      "text/plain": [
       "'JANE'"
      ]
     },
     "execution_count": 65,
     "metadata": {},
     "output_type": "execute_result"
    }
   ],
   "source": [
    "jane = Person(\"Jane\")\n",
    "jane.name"
   ]
  },
  {
   "cell_type": "markdown",
   "metadata": {},
   "source": [
    "### Inheritance "
   ]
  },
  {
   "cell_type": "markdown",
   "metadata": {},
   "source": [
    "* is a powerful feature of object-oriented programming.<br>\n",
    "* It consists of creating hierarchical relationships between classes, where child classes inherit attributes and methods from their parent class.<br>\n",
    "* In Python, one class can have multiple parents or, more broadly, ancestors<br>"
   ]
  },
  {
   "cell_type": "code",
   "execution_count": 67,
   "metadata": {},
   "outputs": [],
   "source": [
    "class Vehicle:\n",
    "    def __init__(self, make, model, year):\n",
    "        self.make = make\n",
    "        self.model = model\n",
    "        self.year = year\n",
    "        self._started = False\n",
    "\n",
    "    def start(self):\n",
    "        print(\"Starting engine...\")\n",
    "        self._started = True\n",
    "\n",
    "    def stop(self):\n",
    "        print(\"Stopping engine...\")\n",
    "        self._started = False\n",
    "\n",
    "class Car(Vehicle):\n",
    "    def __init__(self, make, model, year, num_seats):\n",
    "        super().__init__(make, model, year)\n",
    "        self.num_seats = num_seats\n",
    "\n",
    "    def drive(self):\n",
    "        print(f'Driving my \"{self.make} - {self.model}\" on the road')\n",
    "\n",
    "    def __str__(self):\n",
    "        return f'\"{self.make} - {self.model}\" has {self.num_seats} seats'"
   ]
  },
  {
   "cell_type": "code",
   "execution_count": 68,
   "metadata": {},
   "outputs": [
    {
     "name": "stdout",
     "output_type": "stream",
     "text": [
      "Starting engine...\n",
      "Driving my \"Tesla - Model S\" on the road\n",
      "\"Tesla - Model S\" has 5 seats\n"
     ]
    }
   ],
   "source": [
    "tesla = Car(\"Tesla\", \"Model S\", 2022, 5)\n",
    "tesla.start()\n",
    "tesla.drive()\n",
    "print(tesla)"
   ]
  },
  {
   "cell_type": "markdown",
   "metadata": {},
   "source": [
    "### Extended vs Overridden Methods"
   ]
  },
  {
   "cell_type": "markdown",
   "metadata": {},
   "source": [
    "#### Extending Example"
   ]
  },
  {
   "cell_type": "code",
   "execution_count": null,
   "metadata": {},
   "outputs": [],
   "source": [
    "# aircrafts.py\n",
    "\n",
    "class Aircraft:\n",
    "    def __init__(self, thrust, lift, max_speed):\n",
    "        self.thrust = thrust\n",
    "        self.lift = lift\n",
    "        self.max_speed = max_speed\n",
    "\n",
    "    def show_technical_specs(self):\n",
    "        print(f\"Thrust: {self.thrust} kW\")\n",
    "        print(f\"Lift: {self.lift} kg\")\n",
    "        print(f\"Max speed: {self.max_speed} km/h\")\n",
    "\n",
    "class Helicopter(Aircraft):\n",
    "    def __init__(self, thrust, lift, max_speed, num_rotors):\n",
    "        super().__init__(thrust, lift, max_speed)\n",
    "        self.num_rotors = num_rotors\n",
    "\n",
    "    def show_technical_specs(self):\n",
    "        super().show_technical_specs()\n",
    "        print(f\"Number of rotors: {self.num_rotors}\")\n",
    "\n",
    "sikorsky_UH60 = Helicopter(1490, 9979, 278, 2)\n",
    "sikorsky_UH60.show_technical_specs()\n"
   ]
  },
  {
   "cell_type": "markdown",
   "metadata": {},
   "source": [
    "#### Overriding Example"
   ]
  },
  {
   "cell_type": "code",
   "execution_count": null,
   "metadata": {},
   "outputs": [],
   "source": [
    "class Worker:\n",
    "    def __init__(self, name, address, hourly_salary):\n",
    "        self.name = name\n",
    "        self.address = address\n",
    "        self.hourly_salary = hourly_salary\n",
    "\n",
    "    def show_profile(self):\n",
    "        print(\"== Worker profile ==\")\n",
    "        print(f\"Name: {self.name}\")\n",
    "        print(f\"Address: {self.address}\")\n",
    "        print(f\"Hourly salary: {self.hourly_salary}\")\n",
    "\n",
    "    def calculate_payroll(self, hours=40):\n",
    "        return self.hourly_salary * hours\n",
    "    \n",
    "class Manager(Worker):\n",
    "    def __init__(self, name, address, hourly_salary, hourly_bonus):\n",
    "        super().__init__(name, address, hourly_salary)\n",
    "        self.hourly_bonus = hourly_bonus\n",
    "\n",
    "    def calculate_payroll(self, hours=40):\n",
    "        return (self.hourly_salary + self.hourly_bonus) * hours"
   ]
  },
  {
   "cell_type": "code",
   "execution_count": null,
   "metadata": {},
   "outputs": [],
   "source": []
  },
  {
   "cell_type": "code",
   "execution_count": null,
   "metadata": {},
   "outputs": [],
   "source": []
  }
 ],
 "metadata": {
  "kernelspec": {
   "display_name": "base",
   "language": "python",
   "name": "python3"
  },
  "language_info": {
   "codemirror_mode": {
    "name": "ipython",
    "version": 3
   },
   "file_extension": ".py",
   "mimetype": "text/x-python",
   "name": "python",
   "nbconvert_exporter": "python",
   "pygments_lexer": "ipython3",
   "version": "3.11.5"
  }
 },
 "nbformat": 4,
 "nbformat_minor": 2
}
