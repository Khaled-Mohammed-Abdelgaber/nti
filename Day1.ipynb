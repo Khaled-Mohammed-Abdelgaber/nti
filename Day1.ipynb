{
 "cells": [
  {
   "cell_type": "code",
   "execution_count": 26,
   "id": "daa35388",
   "metadata": {},
   "outputs": [
    {
     "name": "stdout",
     "output_type": "stream",
     "text": [
      "hello world\n",
      "hello world\n"
     ]
    }
   ],
   "source": [
    "print ('hello world') # Generate \"hello world\".\n",
    "print(\"hello world\") # Generate \"hello world\". The output is the same when single and double quotation marks are carried in input."
   ]
  },
  {
   "cell_type": "code",
   "execution_count": 27,
   "id": "9fbaf61c",
   "metadata": {},
   "outputs": [
    {
     "name": "stdout",
     "output_type": "stream",
     "text": [
      "Hello Huawei\n",
      "this is the long string \n",
      "     this is the second\n",
      "     the thrid line\n",
      "hello world\n"
     ]
    }
   ],
   "source": [
    "#string using double qoutes \n",
    "print(\"Hello Huawei\")\n",
    "\n",
    "#multiple line string\n",
    "print( '''this is the long string \n",
    "     this is the second\n",
    "     the thrid line''')\n",
    "\n",
    "#when you need to write the string in multiple lines\n",
    "print(\"hello \" \\\n",
    "      \"world\"\n",
    "      )"
   ]
  },
  {
   "cell_type": "code",
   "execution_count": 37,
   "id": "01ae6393",
   "metadata": {},
   "outputs": [
    {
     "name": "stdout",
     "output_type": "stream",
     "text": [
      "1\n"
     ]
    }
   ],
   "source": [
    "print(True+False)# The output is 1. By default, True indicates 1, and False indicates 0."
   ]
  },
  {
   "cell_type": "code",
   "execution_count": 36,
   "id": "1b7b956d",
   "metadata": {},
   "outputs": [
    {
     "name": "stdout",
     "output_type": "stream",
     "text": [
      "True\n"
     ]
    }
   ],
   "source": [
    "print(True or False)# If True is displayed, enter or or perform the OR operation."
   ]
  },
  {
   "cell_type": "code",
   "execution_count": 35,
   "id": "d0949e09",
   "metadata": {},
   "outputs": [
    {
     "name": "stdout",
     "output_type": "stream",
     "text": [
      "2\n"
     ]
    }
   ],
   "source": [
    "print(5//2)# The output is 2, and // is the rounding operator. "
   ]
  },
  {
   "cell_type": "code",
   "execution_count": 42,
   "id": "bbc1a8d0",
   "metadata": {},
   "outputs": [
    {
     "data": {
      "text/plain": [
       "2.5"
      ]
     },
     "execution_count": 42,
     "metadata": {},
     "output_type": "execute_result"
    }
   ],
   "source": [
    "int(5)/int(2) #no casting for the operation"
   ]
  },
  {
   "cell_type": "code",
   "execution_count": 34,
   "id": "5fda2c2b",
   "metadata": {},
   "outputs": [
    {
     "name": "stdout",
     "output_type": "stream",
     "text": [
      "2.5\n"
     ]
    }
   ],
   "source": [
    "print(5/2)# The output is 2.5, and // is the rounding operator.\n"
   ]
  },
  {
   "cell_type": "code",
   "execution_count": 33,
   "id": "8fa06d23",
   "metadata": {},
   "outputs": [
    {
     "name": "stdout",
     "output_type": "stream",
     "text": [
      "1\n"
     ]
    }
   ],
   "source": [
    "print(5%2)# The output is 1, and % is the modulo operator.  "
   ]
  },
  {
   "cell_type": "code",
   "execution_count": 32,
   "id": "d8f33fc0",
   "metadata": {},
   "outputs": [
    {
     "name": "stdout",
     "output_type": "stream",
     "text": [
      "9\n"
     ]
    }
   ],
   "source": [
    "print(3**2) # The output is 9, and ** indicates the power operation. "
   ]
  },
  {
   "cell_type": "code",
   "execution_count": 31,
   "id": "473cfb16",
   "metadata": {},
   "outputs": [
    {
     "name": "stdout",
     "output_type": "stream",
     "text": [
      "6.6\n"
     ]
    }
   ],
   "source": [
    "print(5+1.6) # The output is 6.6. By default, the sum of numbers of different precisions is the number of the highest precision type."
   ]
  },
  {
   "cell_type": "code",
   "execution_count": null,
   "id": "023551f2",
   "metadata": {},
   "outputs": [],
   "source": [
    "#(int, string, and float are in-built data types)"
   ]
  },
  {
   "cell_type": "code",
   "execution_count": 1,
   "id": "2056261c",
   "metadata": {},
   "outputs": [
    {
     "name": "stdout",
     "output_type": "stream",
     "text": [
      "1 2 5\n",
      "6 7 8\n"
     ]
    }
   ],
   "source": [
    "# valid variable name\n",
    "geeks = 1\n",
    "Geeks = 2\n",
    "Ge_e_ks = 5\n",
    "_geeks = 6\n",
    "geeks_ = 7\n",
    "_GEEKS_ = 8\n",
    "\n",
    "print(geeks, Geeks, Ge_e_ks)\n",
    "print(_geeks, geeks_, _GEEKS_)"
   ]
  },
  {
   "cell_type": "code",
   "execution_count": 2,
   "id": "58c512c9",
   "metadata": {},
   "outputs": [
    {
     "name": "stdout",
     "output_type": "stream",
     "text": [
      "45\n",
      "1456.8\n",
      "John\n"
     ]
    }
   ],
   "source": [
    "# An integer assignment\n",
    "age = 45\n",
    "\n",
    "# A floating point\n",
    "salary = 1456.8\n",
    "\n",
    "# A string\n",
    "name = \"John\"\n",
    "\n",
    "print(age)\n",
    "print(salary)\n",
    "print(name)"
   ]
  },
  {
   "cell_type": "code",
   "execution_count": 3,
   "id": "3b2cb427",
   "metadata": {},
   "outputs": [
    {
     "name": "stdout",
     "output_type": "stream",
     "text": [
      "100\n"
     ]
    }
   ],
   "source": [
    "# declaring the var\n",
    "Number = 100\n",
    "\n",
    "# display\n",
    "print( Number)"
   ]
  },
  {
   "cell_type": "code",
   "execution_count": 4,
   "id": "928450d5",
   "metadata": {},
   "outputs": [
    {
     "name": "stdout",
     "output_type": "stream",
     "text": [
      "Before declare:  100\n",
      "After re-declare: 120.3\n"
     ]
    }
   ],
   "source": [
    "# declaring the var\n",
    "Number = 100\n",
    "\n",
    "# display\n",
    "print(\"Before declare: \", Number)\n",
    "\n",
    "# re-declare the var\n",
    "Number = 120.3\n",
    "  \n",
    "print(\"After re-declare:\", Number)"
   ]
  },
  {
   "cell_type": "code",
   "execution_count": 5,
   "id": "1ab91300",
   "metadata": {},
   "outputs": [
    {
     "name": "stdout",
     "output_type": "stream",
     "text": [
      "10\n",
      "10\n",
      "10\n"
     ]
    }
   ],
   "source": [
    "a = b = c = 10\n",
    "\n",
    "print(a)\n",
    "print(b)\n",
    "print(c)"
   ]
  },
  {
   "cell_type": "code",
   "execution_count": 6,
   "id": "a627c6b6",
   "metadata": {},
   "outputs": [
    {
     "name": "stdout",
     "output_type": "stream",
     "text": [
      "1\n",
      "20.2\n",
      "GeeksforGeeks\n"
     ]
    }
   ],
   "source": [
    "a, b, c = 1, 20.2, \"GeeksforGeeks\"\n",
    "\n",
    "print(a)\n",
    "print(b)\n",
    "print(c)"
   ]
  },
  {
   "cell_type": "code",
   "execution_count": 7,
   "id": "d1379ee2",
   "metadata": {},
   "outputs": [
    {
     "name": "stdout",
     "output_type": "stream",
     "text": [
      "GeeksforGeeks\n"
     ]
    }
   ],
   "source": [
    "a = 10\n",
    "a = \"GeeksforGeeks\"\n",
    "\n",
    "print(a)"
   ]
  },
  {
   "cell_type": "code",
   "execution_count": 8,
   "id": "1037acba",
   "metadata": {},
   "outputs": [
    {
     "name": "stdout",
     "output_type": "stream",
     "text": [
      "30\n",
      "GeeksforGeeks\n"
     ]
    }
   ],
   "source": [
    "a = 10\n",
    "b = 20\n",
    "print(a+b)\n",
    "\n",
    "a = \"Geeksfor\"\n",
    "b = \"Geeks\"\n",
    "print(a+b)"
   ]
  },
  {
   "cell_type": "code",
   "execution_count": 9,
   "id": "f7984161",
   "metadata": {},
   "outputs": [
    {
     "ename": "TypeError",
     "evalue": "unsupported operand type(s) for +: 'int' and 'str'",
     "output_type": "error",
     "traceback": [
      "\u001b[1;31m---------------------------------------------------------------------------\u001b[0m",
      "\u001b[1;31mTypeError\u001b[0m                                 Traceback (most recent call last)",
      "Cell \u001b[1;32mIn[9], line 3\u001b[0m\n\u001b[0;32m      1\u001b[0m a \u001b[38;5;241m=\u001b[39m \u001b[38;5;241m10\u001b[39m\n\u001b[0;32m      2\u001b[0m b \u001b[38;5;241m=\u001b[39m \u001b[38;5;124m\"\u001b[39m\u001b[38;5;124mGeeks\u001b[39m\u001b[38;5;124m\"\u001b[39m\n\u001b[1;32m----> 3\u001b[0m \u001b[38;5;28mprint\u001b[39m(a\u001b[38;5;241m+\u001b[39mb)\n",
      "\u001b[1;31mTypeError\u001b[0m: unsupported operand type(s) for +: 'int' and 'str'"
     ]
    }
   ],
   "source": [
    "a = 10\n",
    "b = \"Geeks\"\n",
    "print(a+b)"
   ]
  },
  {
   "cell_type": "code",
   "execution_count": 10,
   "id": "d722897e",
   "metadata": {},
   "outputs": [
    {
     "name": "stdout",
     "output_type": "stream",
     "text": [
      "Welcome geeks\n"
     ]
    }
   ],
   "source": [
    "# This function uses local variable s\n",
    "def f():\n",
    "    s = \"Welcome geeks\"\n",
    "    print(s)\n",
    "\n",
    "\n",
    "f()"
   ]
  },
  {
   "cell_type": "code",
   "execution_count": 11,
   "id": "3a98022c",
   "metadata": {},
   "outputs": [
    {
     "name": "stdout",
     "output_type": "stream",
     "text": [
      "I love Geeksforgeeks\n"
     ]
    }
   ],
   "source": [
    "# This function has a variable with\n",
    "# name same as s\n",
    "def f():\n",
    "    print(s)\n",
    "\n",
    "# Global scope\n",
    "s = \"I love Geeksforgeeks\"\n",
    "f()"
   ]
  },
  {
   "cell_type": "code",
   "execution_count": 12,
   "id": "fe315222",
   "metadata": {},
   "outputs": [
    {
     "name": "stdout",
     "output_type": "stream",
     "text": [
      "Value of x inside a function : 20\n",
      "Value of x outside a function : 20\n"
     ]
    }
   ],
   "source": [
    "x = 15\n",
    "\n",
    "def change():\n",
    "\n",
    "    # using a global keyword\n",
    "    global x\n",
    "\n",
    "    # increment value of a by 5\n",
    "    x = x + 5\n",
    "    print(\"Value of x inside a function :\", x)\n",
    "\n",
    "\n",
    "change()\n",
    "print(\"Value of x outside a function :\", x)"
   ]
  },
  {
   "cell_type": "markdown",
   "id": "54d5e0b3",
   "metadata": {},
   "source": [
    "### Logical operations"
   ]
  },
  {
   "cell_type": "code",
   "execution_count": 14,
   "id": "8868cf6d",
   "metadata": {},
   "outputs": [
    {
     "name": "stdout",
     "output_type": "stream",
     "text": [
      "The numbers are greater than 0\n",
      "Atleast one number is not greater than 0\n"
     ]
    }
   ],
   "source": [
    "a = 10\n",
    "b = 10\n",
    "c = -10\n",
    "if a > 0 and b > 0:\n",
    "    print(\"The numbers are greater than 0\")\n",
    "if a > 0 and b > 0 and c > 0:\n",
    "    print(\"The numbers are greater than 0\")\n",
    "else:\n",
    "    print(\"Atleast one number is not greater than 0\")"
   ]
  },
  {
   "cell_type": "code",
   "execution_count": 15,
   "id": "edc14cd0",
   "metadata": {},
   "outputs": [
    {
     "name": "stdout",
     "output_type": "stream",
     "text": [
      "Atleast one number has boolean value as False\n"
     ]
    }
   ],
   "source": [
    "a = 10\n",
    "b = 12\n",
    "c = 0\n",
    "if a and b and c:\n",
    "    print(\"All the numbers have boolean value as True\")\n",
    "else:\n",
    "    print(\"Atleast one number has boolean value as False\")"
   ]
  },
  {
   "cell_type": "code",
   "execution_count": 16,
   "id": "fec6fc88",
   "metadata": {},
   "outputs": [
    {
     "name": "stdout",
     "output_type": "stream",
     "text": [
      "Either of the number is greater than 0\n",
      "No number is greater than 0\n"
     ]
    }
   ],
   "source": [
    "a = 10\n",
    "b = -10\n",
    "c = 0\n",
    "if a > 0 or b > 0:\n",
    "    print(\"Either of the number is greater than 0\")\n",
    "else:\n",
    "    print(\"No number is greater than 0\")\n",
    "if b > 0 or c > 0:\n",
    "    print(\"Either of the number is greater than 0\")\n",
    "else:\n",
    "    print(\"No number is greater than 0\")\n"
   ]
  },
  {
   "cell_type": "code",
   "execution_count": 17,
   "id": "955c800c",
   "metadata": {},
   "outputs": [
    {
     "name": "stdout",
     "output_type": "stream",
     "text": [
      "Atleast one number has boolean value as True\n"
     ]
    }
   ],
   "source": [
    "a = 10\n",
    "b = 12\n",
    "c = 0\n",
    "if a or b or c:\n",
    "    print(\"Atleast one number has boolean value as True\")\n",
    "else:\n",
    "    print(\"All the numbers have boolean value as False\")"
   ]
  },
  {
   "cell_type": "code",
   "execution_count": 18,
   "id": "fe01b925",
   "metadata": {},
   "outputs": [
    {
     "name": "stdout",
     "output_type": "stream",
     "text": [
      "10 is divisible by either 3 or 5\n"
     ]
    }
   ],
   "source": [
    "a = 10\n",
    "\n",
    "if not a:\n",
    "    print(\"Boolean value of a is True\")\n",
    "if not (a % 3 == 0 or a % 5 == 0):\n",
    "    print(\"10 is not divisible by either 3 or 5\")\n",
    "else:\n",
    "    print(\"10 is divisible by either 3 or 5\")"
   ]
  },
  {
   "cell_type": "code",
   "execution_count": 19,
   "id": "b8932062",
   "metadata": {},
   "outputs": [
    {
     "data": {
      "text/plain": [
       "1"
      ]
     },
     "execution_count": 19,
     "metadata": {},
     "output_type": "execute_result"
    }
   ],
   "source": [
    "result = 5 & 3  # Bitwise AND, result is 1\n",
    "result"
   ]
  },
  {
   "cell_type": "code",
   "execution_count": 25,
   "id": "c4e04135",
   "metadata": {},
   "outputs": [
    {
     "data": {
      "text/plain": [
       "True"
      ]
     },
     "execution_count": 25,
     "metadata": {},
     "output_type": "execute_result"
    }
   ],
   "source": [
    "result = (5 > 3) and (8 > 5) or (2 < 1)  # Evaluates to True\n",
    "result"
   ]
  },
  {
   "cell_type": "code",
   "execution_count": null,
   "id": "30fbcfa3",
   "metadata": {},
   "outputs": [],
   "source": []
  },
  {
   "cell_type": "code",
   "execution_count": null,
   "id": "340c2f66",
   "metadata": {},
   "outputs": [],
   "source": []
  },
  {
   "cell_type": "code",
   "execution_count": 45,
   "id": "823fbca6",
   "metadata": {},
   "outputs": [],
   "source": [
    "################List###########"
   ]
  },
  {
   "cell_type": "code",
   "execution_count": 46,
   "id": "91fbdb69",
   "metadata": {},
   "outputs": [
    {
     "name": "stdout",
     "output_type": "stream",
     "text": [
      "[1, 2, 3]\n"
     ]
    },
    {
     "data": {
      "text/plain": [
       "[1, 2, 3]"
      ]
     },
     "execution_count": 46,
     "metadata": {},
     "output_type": "execute_result"
    }
   ],
   "source": [
    "L1=[1,2,3]#Homogeneous\n",
    "print(L1)\n",
    "L1"
   ]
  },
  {
   "cell_type": "code",
   "execution_count": 47,
   "id": "c690d8bc",
   "metadata": {},
   "outputs": [
    {
     "data": {
      "text/plain": [
       "[1, 'Hello', 23.5, 'a']"
      ]
     },
     "execution_count": 47,
     "metadata": {},
     "output_type": "execute_result"
    }
   ],
   "source": [
    "L2=[1,'Hello',23.5,'a']#Heterogeneous\n",
    "L2"
   ]
  },
  {
   "cell_type": "code",
   "execution_count": 48,
   "id": "5c9eb7ad",
   "metadata": {},
   "outputs": [
    {
     "data": {
      "text/plain": [
       "[]"
      ]
     },
     "execution_count": 48,
     "metadata": {},
     "output_type": "execute_result"
    }
   ],
   "source": [
    "L3=[]#empty\n",
    "L3"
   ]
  },
  {
   "cell_type": "code",
   "execution_count": 49,
   "id": "36b250a0",
   "metadata": {},
   "outputs": [
    {
     "data": {
      "text/plain": [
       "list"
      ]
     },
     "execution_count": 49,
     "metadata": {},
     "output_type": "execute_result"
    }
   ],
   "source": [
    "type(L3)"
   ]
  },
  {
   "cell_type": "code",
   "execution_count": 50,
   "id": "2d4aa9b4",
   "metadata": {},
   "outputs": [
    {
     "data": {
      "text/plain": [
       "[1, [2, 3], 4]"
      ]
     },
     "execution_count": 50,
     "metadata": {},
     "output_type": "execute_result"
    }
   ],
   "source": [
    "L4=[1,[2,3],4]#2D List\n",
    "L4"
   ]
  },
  {
   "cell_type": "code",
   "execution_count": 51,
   "id": "6a3012b0",
   "metadata": {},
   "outputs": [
    {
     "data": {
      "text/plain": [
       "list"
      ]
     },
     "execution_count": 51,
     "metadata": {},
     "output_type": "execute_result"
    }
   ],
   "source": [
    "type(L4)"
   ]
  },
  {
   "cell_type": "code",
   "execution_count": 52,
   "id": "3d9f9488",
   "metadata": {},
   "outputs": [
    {
     "data": {
      "text/plain": [
       "[99, 'Bottle of beer', ['on', 'the', 'wall']]"
      ]
     },
     "execution_count": 52,
     "metadata": {},
     "output_type": "execute_result"
    }
   ],
   "source": [
    "L5=[99,\"Bottle of beer\",[\"on\",\"the\",\"wall\"]]\n",
    "L5"
   ]
  },
  {
   "cell_type": "code",
   "execution_count": 53,
   "id": "9c48e272",
   "metadata": {},
   "outputs": [
    {
     "name": "stdout",
     "output_type": "stream",
     "text": [
      "element of index 0 is:  99\n"
     ]
    }
   ],
   "source": [
    "print(\"element of index 0 is: \",L5[0])"
   ]
  },
  {
   "cell_type": "code",
   "execution_count": 54,
   "id": "f4aabb6f",
   "metadata": {},
   "outputs": [
    {
     "name": "stdout",
     "output_type": "stream",
     "text": [
      "element of index 0 is:  Bottle of beer\n"
     ]
    }
   ],
   "source": [
    "print(\"element of index 0 is: \",L5[1])"
   ]
  },
  {
   "cell_type": "code",
   "execution_count": 55,
   "id": "3605be9a",
   "metadata": {},
   "outputs": [
    {
     "name": "stdout",
     "output_type": "stream",
     "text": [
      "element of index 0 is:  ['on', 'the', 'wall']\n"
     ]
    }
   ],
   "source": [
    "print(\"element of index 0 is: \",L5[2])"
   ]
  },
  {
   "cell_type": "code",
   "execution_count": 56,
   "id": "33e68af0",
   "metadata": {},
   "outputs": [
    {
     "data": {
      "text/plain": [
       "'on'"
      ]
     },
     "execution_count": 56,
     "metadata": {},
     "output_type": "execute_result"
    }
   ],
   "source": [
    "L5[2][0]"
   ]
  },
  {
   "cell_type": "code",
   "execution_count": 57,
   "id": "766e4a57",
   "metadata": {},
   "outputs": [
    {
     "data": {
      "text/plain": [
       "'the'"
      ]
     },
     "execution_count": 57,
     "metadata": {},
     "output_type": "execute_result"
    }
   ],
   "source": [
    "L5[2][1]"
   ]
  },
  {
   "cell_type": "code",
   "execution_count": 58,
   "id": "691cebe2",
   "metadata": {},
   "outputs": [
    {
     "data": {
      "text/plain": [
       "'wall'"
      ]
     },
     "execution_count": 58,
     "metadata": {},
     "output_type": "execute_result"
    }
   ],
   "source": [
    "L5[2][2]"
   ]
  },
  {
   "cell_type": "code",
   "execution_count": 59,
   "id": "4dee968a",
   "metadata": {},
   "outputs": [
    {
     "name": "stdout",
     "output_type": "stream",
     "text": [
      "element of index 0 is:  ['on', 'the', 'wall']\n"
     ]
    }
   ],
   "source": [
    "print(\"element of index 0 is: \",L5[-1])"
   ]
  },
  {
   "cell_type": "code",
   "execution_count": 60,
   "id": "84deb872",
   "metadata": {},
   "outputs": [
    {
     "data": {
      "text/plain": [
       "'wall'"
      ]
     },
     "execution_count": 60,
     "metadata": {},
     "output_type": "execute_result"
    }
   ],
   "source": [
    "L5[-1][-1]"
   ]
  },
  {
   "cell_type": "code",
   "execution_count": 61,
   "id": "c023005f",
   "metadata": {},
   "outputs": [
    {
     "data": {
      "text/plain": [
       "99"
      ]
     },
     "execution_count": 61,
     "metadata": {},
     "output_type": "execute_result"
    }
   ],
   "source": [
    "L5[-3]#L5[0]"
   ]
  },
  {
   "cell_type": "code",
   "execution_count": 62,
   "id": "274acc8b",
   "metadata": {},
   "outputs": [
    {
     "data": {
      "text/plain": [
       "'t'"
      ]
     },
     "execution_count": 62,
     "metadata": {},
     "output_type": "execute_result"
    }
   ],
   "source": [
    "L5[1][3]"
   ]
  },
  {
   "cell_type": "code",
   "execution_count": 63,
   "id": "8fe46861",
   "metadata": {},
   "outputs": [
    {
     "data": {
      "text/plain": [
       "'e'"
      ]
     },
     "execution_count": 63,
     "metadata": {},
     "output_type": "execute_result"
    }
   ],
   "source": [
    "L5[1][-3]"
   ]
  },
  {
   "cell_type": "code",
   "execution_count": 64,
   "id": "3ac4370a",
   "metadata": {},
   "outputs": [
    {
     "data": {
      "text/plain": [
       "['on', 'the', 'wall']"
      ]
     },
     "execution_count": 64,
     "metadata": {},
     "output_type": "execute_result"
    }
   ],
   "source": [
    "L5[len(L5)-1]#L5[2],L5[-1]"
   ]
  },
  {
   "cell_type": "code",
   "execution_count": 65,
   "id": "6abdbc4c",
   "metadata": {},
   "outputs": [
    {
     "data": {
      "text/plain": [
       "[1, 2, 3, 4, 5]"
      ]
     },
     "execution_count": 65,
     "metadata": {},
     "output_type": "execute_result"
    }
   ],
   "source": [
    "L6=[1,2,3,4,5]\n",
    "L6"
   ]
  },
  {
   "cell_type": "code",
   "execution_count": 66,
   "id": "30677f90",
   "metadata": {},
   "outputs": [
    {
     "data": {
      "text/plain": [
       "[2]"
      ]
     },
     "execution_count": 66,
     "metadata": {},
     "output_type": "execute_result"
    }
   ],
   "source": [
    "L6[1:2]"
   ]
  },
  {
   "cell_type": "code",
   "execution_count": 67,
   "id": "398b3f19",
   "metadata": {},
   "outputs": [
    {
     "data": {
      "text/plain": [
       "[2, 3]"
      ]
     },
     "execution_count": 67,
     "metadata": {},
     "output_type": "execute_result"
    }
   ],
   "source": [
    "L6[1:3]"
   ]
  },
  {
   "cell_type": "code",
   "execution_count": 68,
   "id": "6d234dfe",
   "metadata": {},
   "outputs": [
    {
     "data": {
      "text/plain": [
       "[2, 3, 4, 5]"
      ]
     },
     "execution_count": 68,
     "metadata": {},
     "output_type": "execute_result"
    }
   ],
   "source": [
    "L6[1:]"
   ]
  },
  {
   "cell_type": "code",
   "execution_count": 69,
   "id": "ebec8d34",
   "metadata": {},
   "outputs": [
    {
     "data": {
      "text/plain": [
       "[1]"
      ]
     },
     "execution_count": 69,
     "metadata": {},
     "output_type": "execute_result"
    }
   ],
   "source": [
    "L6[:1]"
   ]
  },
  {
   "cell_type": "code",
   "execution_count": 70,
   "id": "0a5d9878",
   "metadata": {},
   "outputs": [
    {
     "data": {
      "text/plain": [
       "[1, 2, 3, 4]"
      ]
     },
     "execution_count": 70,
     "metadata": {},
     "output_type": "execute_result"
    }
   ],
   "source": [
    "L6[:-1]"
   ]
  },
  {
   "cell_type": "code",
   "execution_count": 71,
   "id": "d53b83a6",
   "metadata": {},
   "outputs": [
    {
     "data": {
      "text/plain": [
       "[1, 2, 3, 4, 5]"
      ]
     },
     "execution_count": 71,
     "metadata": {},
     "output_type": "execute_result"
    }
   ],
   "source": [
    "L6"
   ]
  },
  {
   "cell_type": "code",
   "execution_count": 72,
   "id": "e166c18f",
   "metadata": {},
   "outputs": [
    {
     "data": {
      "text/plain": [
       "[1, 2, 3, 4, 5, 7]"
      ]
     },
     "execution_count": 72,
     "metadata": {},
     "output_type": "execute_result"
    }
   ],
   "source": [
    "L6.append(7)\n",
    "L6"
   ]
  },
  {
   "cell_type": "code",
   "execution_count": 73,
   "id": "721c2715",
   "metadata": {},
   "outputs": [],
   "source": [
    "x=[1,2,3]\n",
    "y=[4,5]"
   ]
  },
  {
   "cell_type": "code",
   "execution_count": 74,
   "id": "61210978",
   "metadata": {},
   "outputs": [
    {
     "data": {
      "text/plain": [
       "[1, 2, 3, [4, 5]]"
      ]
     },
     "execution_count": 74,
     "metadata": {},
     "output_type": "execute_result"
    }
   ],
   "source": [
    "x.append(y)\n",
    "x"
   ]
  },
  {
   "cell_type": "code",
   "execution_count": 75,
   "id": "dec05833",
   "metadata": {},
   "outputs": [],
   "source": [
    "x=[1,2,3]\n",
    "y=[4,5]"
   ]
  },
  {
   "cell_type": "code",
   "execution_count": 76,
   "id": "a211f8ca",
   "metadata": {},
   "outputs": [
    {
     "data": {
      "text/plain": [
       "[1, 2, 3, 4, 5]"
      ]
     },
     "execution_count": 76,
     "metadata": {},
     "output_type": "execute_result"
    }
   ],
   "source": [
    "x.extend(y)\n",
    "x"
   ]
  },
  {
   "cell_type": "code",
   "execution_count": 77,
   "id": "b19762e2",
   "metadata": {},
   "outputs": [],
   "source": [
    "x=[1,2,3]\n",
    "y=[4,5]"
   ]
  },
  {
   "cell_type": "code",
   "execution_count": 78,
   "id": "ad9c990e",
   "metadata": {},
   "outputs": [
    {
     "name": "stdout",
     "output_type": "stream",
     "text": [
      "[1, 2, 3, 4, 5]\n"
     ]
    }
   ],
   "source": [
    "for i in y:\n",
    "    x.append(i)\n",
    "print(x)"
   ]
  },
  {
   "cell_type": "code",
   "execution_count": 79,
   "id": "b3ee4563",
   "metadata": {},
   "outputs": [
    {
     "data": {
      "text/plain": [
       "[1, 2, 3, 4, 5]"
      ]
     },
     "execution_count": 79,
     "metadata": {},
     "output_type": "execute_result"
    }
   ],
   "source": [
    "x=[1,2,3]\n",
    "y=[4,5]\n",
    "x+y"
   ]
  },
  {
   "cell_type": "code",
   "execution_count": 80,
   "id": "2cafe2ad",
   "metadata": {},
   "outputs": [
    {
     "data": {
      "text/plain": [
       "[40, 1, 2, 3]"
      ]
     },
     "execution_count": 80,
     "metadata": {},
     "output_type": "execute_result"
    }
   ],
   "source": [
    "x=[1,2,3]\n",
    "x.insert(0,40)#to insert at specific index\n",
    "x"
   ]
  },
  {
   "cell_type": "code",
   "execution_count": 81,
   "id": "6c6160f8",
   "metadata": {},
   "outputs": [
    {
     "data": {
      "text/plain": [
       "[40, 1, 2]"
      ]
     },
     "execution_count": 81,
     "metadata": {},
     "output_type": "execute_result"
    }
   ],
   "source": [
    "x.pop()#to remove the last element in the list\n",
    "x"
   ]
  },
  {
   "cell_type": "code",
   "execution_count": 82,
   "id": "ecdddcdc",
   "metadata": {},
   "outputs": [
    {
     "data": {
      "text/plain": [
       "[40, 2]"
      ]
     },
     "execution_count": 82,
     "metadata": {},
     "output_type": "execute_result"
    }
   ],
   "source": [
    "x.pop(1)#to remove the element at index 1 from the list\n",
    "x"
   ]
  },
  {
   "cell_type": "code",
   "execution_count": 83,
   "id": "dbbd81bb",
   "metadata": {},
   "outputs": [
    {
     "name": "stdout",
     "output_type": "stream",
     "text": [
      "Not Empty List\n"
     ]
    }
   ],
   "source": [
    "if len(x)==0 :\n",
    "    print(\"Empty List\")\n",
    "else:\n",
    "    print(\"Not Empty List\")"
   ]
  },
  {
   "cell_type": "code",
   "execution_count": 4,
   "id": "1550be1b",
   "metadata": {},
   "outputs": [
    {
     "data": {
      "text/plain": [
       "[4, 5, 4, 3, 2, 1]"
      ]
     },
     "execution_count": 4,
     "metadata": {},
     "output_type": "execute_result"
    }
   ],
   "source": [
    "x=[1,2,3,4,5,4]\n",
    "x.reverse()\n",
    "x"
   ]
  },
  {
   "cell_type": "code",
   "execution_count": 5,
   "id": "2225f5e4",
   "metadata": {},
   "outputs": [
    {
     "data": {
      "text/plain": [
       "[5, 4, 3, 2, 1]"
      ]
     },
     "execution_count": 5,
     "metadata": {},
     "output_type": "execute_result"
    }
   ],
   "source": [
    "x.remove(4) # to rmove 4 from the list [the first one]\n",
    "x"
   ]
  },
  {
   "cell_type": "code",
   "execution_count": 6,
   "id": "fd4d442a",
   "metadata": {},
   "outputs": [
    {
     "ename": "NameError",
     "evalue": "name 'x' is not defined",
     "output_type": "error",
     "traceback": [
      "\u001b[1;31m---------------------------------------------------------------------------\u001b[0m",
      "\u001b[1;31mNameError\u001b[0m                                 Traceback (most recent call last)",
      "Cell \u001b[1;32mIn[6], line 2\u001b[0m\n\u001b[0;32m      1\u001b[0m \u001b[38;5;28;01mdel\u001b[39;00m(x) \u001b[38;5;66;03m# to delete a variable from the memory\u001b[39;00m\n\u001b[1;32m----> 2\u001b[0m x\n",
      "\u001b[1;31mNameError\u001b[0m: name 'x' is not defined"
     ]
    }
   ],
   "source": [
    "del(x) # to delete a variable from the memory\n",
    "x"
   ]
  },
  {
   "cell_type": "code",
   "execution_count": 11,
   "id": "d81d5dba",
   "metadata": {},
   "outputs": [
    {
     "name": "stdout",
     "output_type": "stream",
     "text": [
      "False\n",
      "True\n"
     ]
    }
   ],
   "source": [
    "# Python program to demonstrate\n",
    "# is keyword\n",
    " \n",
    "x = [\"a\", \"b\", \"c\", \"d\"]\n",
    " \n",
    "y = [\"a\", \"b\", \"c\", \"d\"]\n",
    " \n",
    "print(x is y)\n",
    "print(x == y)"
   ]
  },
  {
   "cell_type": "code",
   "execution_count": 17,
   "id": "31e73a8e",
   "metadata": {},
   "outputs": [
    {
     "data": {
      "text/plain": [
       "[1, 2, 3, 4]"
      ]
     },
     "execution_count": 17,
     "metadata": {},
     "output_type": "execute_result"
    }
   ],
   "source": [
    "#1\n",
    "x=[1,2,3,4]\n",
    "y1=x[:]\n",
    "y1"
   ]
  },
  {
   "cell_type": "code",
   "execution_count": 18,
   "id": "b5952e9d",
   "metadata": {},
   "outputs": [
    {
     "data": {
      "text/plain": [
       "False"
      ]
     },
     "execution_count": 18,
     "metadata": {},
     "output_type": "execute_result"
    }
   ],
   "source": [
    "y1 is x # false here means that y1 and x are different places in memory"
   ]
  },
  {
   "cell_type": "code",
   "execution_count": 19,
   "id": "8483e0e2",
   "metadata": {},
   "outputs": [
    {
     "name": "stdout",
     "output_type": "stream",
     "text": [
      "y1 is : [1, 2, 3, 4]\n",
      "y1 is : [1, 2, 3, 100]\n",
      "x is : [1, 2, 3, 4]\n"
     ]
    }
   ],
   "source": [
    "print(\"y1 is :\",y1)\n",
    "y1[-1]=100\n",
    "print(\"y1 is :\",y1)\n",
    "print(\"x is :\",x)"
   ]
  },
  {
   "cell_type": "code",
   "execution_count": 20,
   "id": "7e6f89d9",
   "metadata": {},
   "outputs": [
    {
     "data": {
      "text/plain": [
       "[1, 2, 3, 4]"
      ]
     },
     "execution_count": 20,
     "metadata": {},
     "output_type": "execute_result"
    }
   ],
   "source": [
    "x=[1,2,3,4]\n",
    "y=x # here will refer to the same place in memory\n",
    "y"
   ]
  },
  {
   "cell_type": "code",
   "execution_count": 21,
   "id": "a5a3d713",
   "metadata": {},
   "outputs": [
    {
     "data": {
      "text/plain": [
       "True"
      ]
     },
     "execution_count": 21,
     "metadata": {},
     "output_type": "execute_result"
    }
   ],
   "source": [
    "y is x # true here confirm on the previous"
   ]
  },
  {
   "cell_type": "code",
   "execution_count": 22,
   "id": "71776d2e",
   "metadata": {},
   "outputs": [
    {
     "name": "stdout",
     "output_type": "stream",
     "text": [
      "y is : [1, 2, 3, 4]\n",
      "y is : [1, 2, 3, 100]\n",
      "x is : [1, 2, 3, 100]\n"
     ]
    }
   ],
   "source": [
    "print(\"y is :\",y)\n",
    "y[-1]=100\n",
    "print(\"y is :\",y)\n",
    "print(\"x is :\",x)"
   ]
  },
  {
   "cell_type": "code",
   "execution_count": 23,
   "id": "15c37619",
   "metadata": {},
   "outputs": [
    {
     "data": {
      "text/plain": [
       "[1, 2, 3, 4]"
      ]
     },
     "execution_count": 23,
     "metadata": {},
     "output_type": "execute_result"
    }
   ],
   "source": [
    "#2\n",
    "x=[1,2,3,4]\n",
    "y2=list(x)\n",
    "y2"
   ]
  },
  {
   "cell_type": "code",
   "execution_count": 24,
   "id": "d3cb7427",
   "metadata": {},
   "outputs": [
    {
     "data": {
      "text/plain": [
       "False"
      ]
     },
     "execution_count": 24,
     "metadata": {},
     "output_type": "execute_result"
    }
   ],
   "source": [
    "x is y2"
   ]
  },
  {
   "cell_type": "code",
   "execution_count": 21,
   "id": "dd3bd1a6",
   "metadata": {},
   "outputs": [
    {
     "data": {
      "text/plain": [
       "[]"
      ]
     },
     "execution_count": 21,
     "metadata": {},
     "output_type": "execute_result"
    }
   ],
   "source": [
    "result = [] and \"Non-empty\"  # Returns []\n",
    "result"
   ]
  },
  {
   "cell_type": "code",
   "execution_count": 23,
   "id": "02fc39a9",
   "metadata": {},
   "outputs": [
    {
     "data": {
      "text/plain": [
       "'Non-empty'"
      ]
     },
     "execution_count": 23,
     "metadata": {},
     "output_type": "execute_result"
    }
   ],
   "source": [
    "result = [] or \"Non-empty\"  # Returns \"Non-empty\"\n",
    "result"
   ]
  },
  {
   "cell_type": "code",
   "execution_count": 24,
   "id": "3f8801c1",
   "metadata": {},
   "outputs": [
    {
     "data": {
      "text/plain": [
       "True"
      ]
     },
     "execution_count": 24,
     "metadata": {},
     "output_type": "execute_result"
    }
   ],
   "source": [
    "result = not []  # Returns True\n",
    "result"
   ]
  },
  {
   "cell_type": "code",
   "execution_count": null,
   "id": "71a810a6",
   "metadata": {},
   "outputs": [],
   "source": [
    "# !, |, & -----------> bitwise operators\n",
    "#&& , ||  -----------> not valid operators"
   ]
  },
  {
   "cell_type": "code",
   "execution_count": 91,
   "id": "478e4004",
   "metadata": {},
   "outputs": [],
   "source": [
    "if True & False:\n",
    "    print(\"dsa\")"
   ]
  },
  {
   "cell_type": "code",
   "execution_count": null,
   "id": "573a6ecf",
   "metadata": {},
   "outputs": [],
   "source": []
  },
  {
   "cell_type": "code",
   "execution_count": null,
   "id": "13a87d79",
   "metadata": {},
   "outputs": [],
   "source": []
  },
  {
   "cell_type": "code",
   "execution_count": null,
   "id": "556013ed",
   "metadata": {},
   "outputs": [],
   "source": []
  },
  {
   "cell_type": "code",
   "execution_count": 42,
   "id": "7691f6cd",
   "metadata": {},
   "outputs": [
    {
     "data": {
      "text/plain": [
       "[1, 2, 3, 4]"
      ]
     },
     "execution_count": 42,
     "metadata": {},
     "output_type": "execute_result"
    }
   ],
   "source": [
    "#3\n",
    "import copy\n",
    "x=[1,2,3,4]\n",
    "y3=copy.copy(x)\n",
    "y3"
   ]
  },
  {
   "cell_type": "code",
   "execution_count": 43,
   "id": "0e16683a",
   "metadata": {},
   "outputs": [
    {
     "data": {
      "text/plain": [
       "([-100, 2, 3, 4], [1, 2, 3, 4])"
      ]
     },
     "execution_count": 43,
     "metadata": {},
     "output_type": "execute_result"
    }
   ],
   "source": [
    "y3[0] = -100\n",
    "y3 , x"
   ]
  },
  {
   "cell_type": "code",
   "execution_count": 44,
   "id": "68127d8f",
   "metadata": {},
   "outputs": [
    {
     "data": {
      "text/plain": [
       "[1, 2, 3, 4]"
      ]
     },
     "execution_count": 44,
     "metadata": {},
     "output_type": "execute_result"
    }
   ],
   "source": [
    "#3\n",
    "import copy\n",
    "x=[1,2,3,4]\n",
    "y4=copy.deepcopy(x)\n",
    "y4"
   ]
  },
  {
   "cell_type": "code",
   "execution_count": 45,
   "id": "d5f7a4be",
   "metadata": {},
   "outputs": [
    {
     "data": {
      "text/plain": [
       "([-100, 2, 3, 4], [1, 2, 3, 4])"
      ]
     },
     "execution_count": 45,
     "metadata": {},
     "output_type": "execute_result"
    }
   ],
   "source": [
    "y4[0] = -100\n",
    "y4 , x"
   ]
  },
  {
   "cell_type": "code",
   "execution_count": 47,
   "id": "e052f794",
   "metadata": {},
   "outputs": [
    {
     "name": "stdout",
     "output_type": "stream",
     "text": [
      "x is  [1, 2, 3, [7, 5]]\n",
      "y is  [100, 2, 3, [7, 5]]\n"
     ]
    }
   ],
   "source": [
    "x=[1,2,3,[4,5]]\n",
    "y=copy.copy(x)\n",
    "y[-1][0]=7\n",
    "y[0] = 100\n",
    "print(\"x is \",x)\n",
    "print(\"y is \",y)"
   ]
  },
  {
   "cell_type": "code",
   "execution_count": 49,
   "id": "dfb5be97",
   "metadata": {},
   "outputs": [
    {
     "name": "stdout",
     "output_type": "stream",
     "text": [
      "x is  [1, 2, 3, [4, 5]]\n",
      "y is  [100, 2, 3, [7, 5]]\n"
     ]
    }
   ],
   "source": [
    "x=[1,2,3,[4,5]]\n",
    "y=copy.deepcopy(x)\n",
    "y[-1][0]=7\n",
    "y[0] = 100\n",
    "print(\"x is \",x)\n",
    "print(\"y is \",y)"
   ]
  },
  {
   "cell_type": "code",
   "execution_count": 50,
   "id": "c045f988",
   "metadata": {},
   "outputs": [
    {
     "name": "stdout",
     "output_type": "stream",
     "text": [
      "max of x: 5\n",
      "min of x: 2\n"
     ]
    }
   ],
   "source": [
    "x=[2,3,4,5]\n",
    "print(\"max of x:\",max(x))\n",
    "print(\"min of x:\",min(x))"
   ]
  },
  {
   "cell_type": "code",
   "execution_count": 51,
   "id": "3be55bf1",
   "metadata": {},
   "outputs": [
    {
     "data": {
      "text/plain": [
       "list"
      ]
     },
     "execution_count": 51,
     "metadata": {},
     "output_type": "execute_result"
    }
   ],
   "source": [
    "x=[1,2,3,4]\n",
    "type(x)"
   ]
  },
  {
   "cell_type": "code",
   "execution_count": 52,
   "id": "328a9e30",
   "metadata": {},
   "outputs": [
    {
     "data": {
      "text/plain": [
       "[1, 2, 3, 100]"
      ]
     },
     "execution_count": 52,
     "metadata": {},
     "output_type": "execute_result"
    }
   ],
   "source": [
    "x[-1]=100\n",
    "x"
   ]
  },
  {
   "cell_type": "code",
   "execution_count": null,
   "id": "83b5f68c",
   "metadata": {},
   "outputs": [],
   "source": [
    "################Tuple###########"
   ]
  },
  {
   "cell_type": "markdown",
   "id": "3c937be7",
   "metadata": {},
   "source": [
    "faster than lists\n",
    "memory efficient than list\n",
    "can be used as a dictionary keys  because they are immutable\n",
    "when function return multiple values they tread as a tuple"
   ]
  },
  {
   "cell_type": "code",
   "execution_count": 53,
   "id": "0b47de0d",
   "metadata": {},
   "outputs": [
    {
     "data": {
      "text/plain": [
       "tuple"
      ]
     },
     "execution_count": 53,
     "metadata": {},
     "output_type": "execute_result"
    }
   ],
   "source": [
    "x=(1,2,3,4)\n",
    "type(x)"
   ]
  },
  {
   "cell_type": "code",
   "execution_count": 58,
   "id": "d6592564",
   "metadata": {},
   "outputs": [
    {
     "ename": "TypeError",
     "evalue": "'tuple' object does not support item assignment",
     "output_type": "error",
     "traceback": [
      "\u001b[1;31m---------------------------------------------------------------------------\u001b[0m",
      "\u001b[1;31mTypeError\u001b[0m                                 Traceback (most recent call last)",
      "Cell \u001b[1;32mIn[58], line 1\u001b[0m\n\u001b[1;32m----> 1\u001b[0m x[\u001b[38;5;241m-\u001b[39m\u001b[38;5;241m1\u001b[39m]\u001b[38;5;241m=\u001b[39m\u001b[38;5;241m100\u001b[39m\n",
      "\u001b[1;31mTypeError\u001b[0m: 'tuple' object does not support item assignment"
     ]
    }
   ],
   "source": [
    "x[-1]=100"
   ]
  },
  {
   "cell_type": "code",
   "execution_count": 59,
   "id": "23eac38e",
   "metadata": {},
   "outputs": [
    {
     "data": {
      "text/plain": [
       "tuple"
      ]
     },
     "execution_count": 59,
     "metadata": {},
     "output_type": "execute_result"
    }
   ],
   "source": [
    "x=(1,)\n",
    "type(x)"
   ]
  },
  {
   "cell_type": "code",
   "execution_count": 60,
   "id": "6fd7b372",
   "metadata": {},
   "outputs": [
    {
     "data": {
      "text/plain": [
       "(1, 2, 3)"
      ]
     },
     "execution_count": 60,
     "metadata": {},
     "output_type": "execute_result"
    }
   ],
   "source": [
    "x=(1,2,3,4)\n",
    "x[:-1]"
   ]
  },
  {
   "cell_type": "code",
   "execution_count": 61,
   "id": "e9fc1718",
   "metadata": {},
   "outputs": [
    {
     "data": {
      "text/plain": [
       "(1, 2, 3, 4, [6])"
      ]
     },
     "execution_count": 61,
     "metadata": {},
     "output_type": "execute_result"
    }
   ],
   "source": [
    "x=(1,2,3,4,[6])#we can change the list not the tuple\n",
    "x"
   ]
  },
  {
   "cell_type": "code",
   "execution_count": 62,
   "id": "1362627f",
   "metadata": {},
   "outputs": [
    {
     "data": {
      "text/plain": [
       "(1, 2, 3, 4, [100])"
      ]
     },
     "execution_count": 62,
     "metadata": {},
     "output_type": "execute_result"
    }
   ],
   "source": [
    "x[-1][0]=100\n",
    "x"
   ]
  },
  {
   "cell_type": "code",
   "execution_count": 63,
   "id": "4ce8da63",
   "metadata": {},
   "outputs": [
    {
     "data": {
      "text/plain": [
       "(1, 2, 3, 4, [100, 200, 300])"
      ]
     },
     "execution_count": 63,
     "metadata": {},
     "output_type": "execute_result"
    }
   ],
   "source": [
    "x[-1].extend([200,300])\n",
    "x"
   ]
  },
  {
   "cell_type": "code",
   "execution_count": null,
   "id": "1a26acb0",
   "metadata": {},
   "outputs": [],
   "source": [
    "################Dictionary###########"
   ]
  },
  {
   "cell_type": "code",
   "execution_count": 52,
   "id": "833b14a1",
   "metadata": {},
   "outputs": [
    {
     "data": {
      "text/plain": [
       "{'name': 'ahmed', 'age': 27}"
      ]
     },
     "execution_count": 52,
     "metadata": {},
     "output_type": "execute_result"
    }
   ],
   "source": [
    "d1={\"name\":\"ahmed\",\"age\":27}\n",
    "d1"
   ]
  },
  {
   "cell_type": "code",
   "execution_count": 53,
   "id": "62ea15a0",
   "metadata": {},
   "outputs": [
    {
     "data": {
      "text/plain": [
       "{'name': 27}"
      ]
     },
     "execution_count": 53,
     "metadata": {},
     "output_type": "execute_result"
    }
   ],
   "source": [
    "d1={\"name\":\"ahmed\",\"name\":27}\n",
    "d1"
   ]
  },
  {
   "cell_type": "code",
   "execution_count": 54,
   "id": "d9738aeb",
   "metadata": {},
   "outputs": [
    {
     "data": {
      "text/plain": [
       "27"
      ]
     },
     "execution_count": 54,
     "metadata": {},
     "output_type": "execute_result"
    }
   ],
   "source": [
    "d1[\"name\"]"
   ]
  },
  {
   "cell_type": "code",
   "execution_count": 55,
   "id": "a5c116f3",
   "metadata": {},
   "outputs": [
    {
     "data": {
      "text/plain": [
       "{1: 'ahmed', 1.5: 27}"
      ]
     },
     "execution_count": 55,
     "metadata": {},
     "output_type": "execute_result"
    }
   ],
   "source": [
    "d1={1:\"ahmed\",1.5:27}\n",
    "d1"
   ]
  },
  {
   "cell_type": "code",
   "execution_count": 56,
   "id": "8b203d8b",
   "metadata": {},
   "outputs": [
    {
     "data": {
      "text/plain": [
       "27"
      ]
     },
     "execution_count": 56,
     "metadata": {},
     "output_type": "execute_result"
    }
   ],
   "source": [
    "d1[1.5]"
   ]
  },
  {
   "cell_type": "code",
   "execution_count": 57,
   "id": "1961d820",
   "metadata": {},
   "outputs": [
    {
     "data": {
      "text/plain": [
       "dict"
      ]
     },
     "execution_count": 57,
     "metadata": {},
     "output_type": "execute_result"
    }
   ],
   "source": [
    "type(d1)"
   ]
  },
  {
   "cell_type": "code",
   "execution_count": 58,
   "id": "dd3246ea",
   "metadata": {},
   "outputs": [
    {
     "data": {
      "text/plain": [
       "dict_keys([1, 1.5])"
      ]
     },
     "execution_count": 58,
     "metadata": {},
     "output_type": "execute_result"
    }
   ],
   "source": [
    "d1.keys()"
   ]
  },
  {
   "cell_type": "code",
   "execution_count": 59,
   "id": "92c752ac",
   "metadata": {},
   "outputs": [
    {
     "data": {
      "text/plain": [
       "dict_values(['ahmed', 27])"
      ]
     },
     "execution_count": 59,
     "metadata": {},
     "output_type": "execute_result"
    }
   ],
   "source": [
    "d1.values()"
   ]
  },
  {
   "cell_type": "code",
   "execution_count": 60,
   "id": "ec9b390f",
   "metadata": {},
   "outputs": [
    {
     "data": {
      "text/plain": [
       "{'one': 1, 'two': 2, 'three': 3}"
      ]
     },
     "execution_count": 60,
     "metadata": {},
     "output_type": "execute_result"
    }
   ],
   "source": [
    "#first method\n",
    "d1={'one':1,'two':2,'three':3}\n",
    "d1"
   ]
  },
  {
   "cell_type": "code",
   "execution_count": 61,
   "id": "5620b2c6",
   "metadata": {},
   "outputs": [
    {
     "data": {
      "text/plain": [
       "{'one': [1, 2, 'ahmed'], 'two': 2, 'three': 3}"
      ]
     },
     "execution_count": 61,
     "metadata": {},
     "output_type": "execute_result"
    }
   ],
   "source": [
    "d1={'one':[1,2,\"ahmed\"],'two':2,'three':3}\n",
    "d1"
   ]
  },
  {
   "cell_type": "code",
   "execution_count": 62,
   "id": "73a22792",
   "metadata": {},
   "outputs": [
    {
     "data": {
      "text/plain": [
       "{'one': 1, 'two': 2, 'three': 3}"
      ]
     },
     "execution_count": 62,
     "metadata": {},
     "output_type": "execute_result"
    }
   ],
   "source": [
    "#second method\n",
    "d2=dict(one=1,two=2,three=3)\n",
    "d2"
   ]
  },
  {
   "cell_type": "code",
   "execution_count": 63,
   "id": "53ae2831",
   "metadata": {},
   "outputs": [
    {
     "data": {
      "text/plain": [
       "{'one': [1, 2, 'ahmed'], 'two': 2, 'three': 3}"
      ]
     },
     "execution_count": 63,
     "metadata": {},
     "output_type": "execute_result"
    }
   ],
   "source": [
    "d2=dict(one=[1,2,\"ahmed\"],two=2,three=3)\n",
    "d2"
   ]
  },
  {
   "cell_type": "code",
   "execution_count": 64,
   "id": "0dc87272",
   "metadata": {},
   "outputs": [
    {
     "data": {
      "text/plain": [
       "{'one': 1, 'two': 2, 'three': 3}"
      ]
     },
     "execution_count": 64,
     "metadata": {},
     "output_type": "execute_result"
    }
   ],
   "source": [
    "#third method\n",
    "d3=dict([('one',1),('two',2),('three',3)])\n",
    "d3"
   ]
  },
  {
   "cell_type": "code",
   "execution_count": 65,
   "id": "10d0540f",
   "metadata": {},
   "outputs": [
    {
     "name": "stdout",
     "output_type": "stream",
     "text": [
      "<zip object at 0x0000028DA8D5A540>\n"
     ]
    }
   ],
   "source": [
    "print(zip(['one','two','three'],[1,2,3])) # will return the memory location where zip object stored"
   ]
  },
  {
   "cell_type": "code",
   "execution_count": 66,
   "id": "5655bbdf",
   "metadata": {},
   "outputs": [
    {
     "data": {
      "text/plain": [
       "[('one', 1), ('two', 2), ('three', 3)]"
      ]
     },
     "execution_count": 66,
     "metadata": {},
     "output_type": "execute_result"
    }
   ],
   "source": [
    "list(zip(['one','two','three'],[1,2,3]))"
   ]
  },
  {
   "cell_type": "code",
   "execution_count": 67,
   "id": "c91205e2",
   "metadata": {},
   "outputs": [
    {
     "data": {
      "text/plain": [
       "{'one': 1, 'two': 2, 'three': 3}"
      ]
     },
     "execution_count": 67,
     "metadata": {},
     "output_type": "execute_result"
    }
   ],
   "source": [
    "#fourth method\n",
    "d4=dict(zip(['one','two','three'],[1,2,3]))\n",
    "d4"
   ]
  },
  {
   "cell_type": "code",
   "execution_count": 68,
   "id": "b5ba0568",
   "metadata": {},
   "outputs": [
    {
     "data": {
      "text/plain": [
       "{'one': 1, 'two': 2, 'three': 3}"
      ]
     },
     "execution_count": 68,
     "metadata": {},
     "output_type": "execute_result"
    }
   ],
   "source": [
    "#fifth method\n",
    "d5=dict({'one':1,'two':2,'three':3})\n",
    "d5"
   ]
  },
  {
   "cell_type": "code",
   "execution_count": 69,
   "id": "cd4e9747",
   "metadata": {},
   "outputs": [
    {
     "name": "stdout",
     "output_type": "stream",
     "text": [
      "False\n"
     ]
    }
   ],
   "source": [
    "print(d1==d2==d3==d4==d5)"
   ]
  },
  {
   "cell_type": "markdown",
   "id": "d1e8f6f7",
   "metadata": {},
   "source": [
    "### LOOPS"
   ]
  },
  {
   "cell_type": "code",
   "execution_count": 71,
   "id": "b252ba07",
   "metadata": {},
   "outputs": [
    {
     "name": "stdout",
     "output_type": "stream",
     "text": [
      "0\n",
      "1\n",
      "2\n",
      "3\n"
     ]
    }
   ],
   "source": [
    "for i in [0,1,2,3]:\n",
    "    print(i)"
   ]
  },
  {
   "cell_type": "code",
   "execution_count": 72,
   "id": "40662f21",
   "metadata": {},
   "outputs": [
    {
     "name": "stdout",
     "output_type": "stream",
     "text": [
      "100\n",
      "1\n",
      "2\n",
      "3\n"
     ]
    }
   ],
   "source": [
    "for i in [100,1,2,3]:\n",
    "    print(i)"
   ]
  },
  {
   "cell_type": "code",
   "execution_count": 73,
   "id": "54eabc2b",
   "metadata": {},
   "outputs": [
    {
     "name": "stdout",
     "output_type": "stream",
     "text": [
      "huawei\n",
      "3\n",
      "nti\n"
     ]
    }
   ],
   "source": [
    "for i in [\"huawei\",3,\"nti\"]:\n",
    "    print(i)"
   ]
  },
  {
   "cell_type": "code",
   "execution_count": 74,
   "id": "6d3206bd",
   "metadata": {},
   "outputs": [
    {
     "name": "stdout",
     "output_type": "stream",
     "text": [
      "0\n",
      "1\n",
      "2\n",
      "3\n",
      "4\n",
      "5\n",
      "6\n",
      "7\n",
      "8\n",
      "9\n"
     ]
    }
   ],
   "source": [
    "for i in range(10):\n",
    "    print(i)"
   ]
  },
  {
   "cell_type": "code",
   "execution_count": 75,
   "id": "f0bc8bb9",
   "metadata": {},
   "outputs": [
    {
     "name": "stdout",
     "output_type": "stream",
     "text": [
      "4\n",
      "5\n",
      "6\n",
      "7\n",
      "8\n",
      "9\n"
     ]
    }
   ],
   "source": [
    "for i in range(4,10):\n",
    "    print(i)"
   ]
  },
  {
   "cell_type": "code",
   "execution_count": 76,
   "id": "b13e2db0",
   "metadata": {},
   "outputs": [
    {
     "name": "stdout",
     "output_type": "stream",
     "text": [
      "4\n",
      "6\n",
      "8\n"
     ]
    }
   ],
   "source": [
    "for i in range(4,10,2):\n",
    "    print(i)"
   ]
  },
  {
   "cell_type": "code",
   "execution_count": 77,
   "id": "70630f04",
   "metadata": {},
   "outputs": [
    {
     "data": {
      "text/plain": [
       "[range(0, 10)]"
      ]
     },
     "execution_count": 77,
     "metadata": {},
     "output_type": "execute_result"
    }
   ],
   "source": [
    "x=[range(10)]\n",
    "x"
   ]
  },
  {
   "cell_type": "markdown",
   "id": "b51b3ae6",
   "metadata": {},
   "source": [
    "### List Comprehension"
   ]
  },
  {
   "cell_type": "markdown",
   "id": "cfd57454",
   "metadata": {},
   "source": [
    "newList = [ expression(element) for element in oldList if condition ] "
   ]
  },
  {
   "cell_type": "code",
   "execution_count": 82,
   "id": "a74c0950",
   "metadata": {},
   "outputs": [
    {
     "data": {
      "text/plain": [
       "[0, 1, 2, 3, 4, 5, 6, 7, 8, 9]"
      ]
     },
     "execution_count": 82,
     "metadata": {},
     "output_type": "execute_result"
    }
   ],
   "source": [
    "x=[i for i in range(10)]\n",
    "x"
   ]
  },
  {
   "cell_type": "code",
   "execution_count": 83,
   "id": "e84d5720",
   "metadata": {},
   "outputs": [
    {
     "data": {
      "text/plain": [
       "[4, 6, 8]"
      ]
     },
     "execution_count": 83,
     "metadata": {},
     "output_type": "execute_result"
    }
   ],
   "source": [
    "x=[i for i in range(4,10,2)]\n",
    "x"
   ]
  },
  {
   "cell_type": "code",
   "execution_count": 84,
   "id": "580083f5",
   "metadata": {},
   "outputs": [
    {
     "data": {
      "text/plain": [
       "[16, 36, 64]"
      ]
     },
     "execution_count": 84,
     "metadata": {},
     "output_type": "execute_result"
    }
   ],
   "source": [
    "x=[i*i for i in range(4,10,2)]\n",
    "x"
   ]
  },
  {
   "cell_type": "code",
   "execution_count": 85,
   "id": "d4d0aa06",
   "metadata": {},
   "outputs": [
    {
     "data": {
      "text/plain": [
       "[8, 48]"
      ]
     },
     "execution_count": 85,
     "metadata": {},
     "output_type": "execute_result"
    }
   ],
   "source": [
    "x=[i*j for i,j in [(2,4),(6,8)]]\n",
    "x"
   ]
  },
  {
   "cell_type": "code",
   "execution_count": 86,
   "id": "1a2be5ef",
   "metadata": {},
   "outputs": [
    {
     "data": {
      "text/plain": [
       "[['Nancy', 'Engineer'],\n",
       " ['Ahmed', 'CEO'],\n",
       " ['Farida', 'hr'],\n",
       " ['Rayan', 'Accountant']]"
      ]
     },
     "execution_count": 86,
     "metadata": {},
     "output_type": "execute_result"
    }
   ],
   "source": [
    "data=[(\"Nancy\",\"Engineer\",37),(\"Ahmed\",\"CEO\",40),(\"Farida\",\"hr\",27),(\"Rayan\",\"Accountant\",24)]\n",
    "name=[ [x,y] for x,y,z in data]\n",
    "name"
   ]
  },
  {
   "cell_type": "code",
   "execution_count": 87,
   "id": "4072662f",
   "metadata": {},
   "outputs": [
    {
     "data": {
      "text/plain": [
       "{'Nancy': 'Engineer', 'Ahmed': 'CEO', 'Farida': 'hr', 'Rayan': 'Accountant'}"
      ]
     },
     "execution_count": 87,
     "metadata": {},
     "output_type": "execute_result"
    }
   ],
   "source": [
    "\n",
    "data=[(\"Nancy\",\"Engineer\",37),(\"Ahmed\",\"CEO\",40),(\"Farida\",\"hr\",27),(\"Rayan\",\"Accountant\",24)]\n",
    "Employee={name:job for name,job,Age in data } \n",
    "Employee"
   ]
  },
  {
   "cell_type": "code",
   "execution_count": null,
   "id": "491e2603",
   "metadata": {},
   "outputs": [],
   "source": [
    "print (Employee[\"Nancy\"])"
   ]
  },
  {
   "cell_type": "code",
   "execution_count": null,
   "id": "c50e86bc",
   "metadata": {},
   "outputs": [],
   "source": [
    "#print (Employee[\"Nanc\"])"
   ]
  },
  {
   "cell_type": "code",
   "execution_count": null,
   "id": "4ebe9338",
   "metadata": {},
   "outputs": [],
   "source": [
    "print (Employee.get(\"Nancy\"))"
   ]
  },
  {
   "cell_type": "code",
   "execution_count": null,
   "id": "5f47fa05",
   "metadata": {},
   "outputs": [],
   "source": [
    "print (Employee.get(\"Nanc\"))"
   ]
  },
  {
   "cell_type": "code",
   "execution_count": null,
   "id": "2cac2cf9",
   "metadata": {},
   "outputs": [],
   "source": [
    "print (Employee.get(\"Nanc\",\"Not in my Staff\"))"
   ]
  },
  {
   "cell_type": "code",
   "execution_count": null,
   "id": "d09b9cdf",
   "metadata": {},
   "outputs": [],
   "source": [
    "print (Employee.get(\"Nancy\",\"Not in my Staff\"))"
   ]
  },
  {
   "cell_type": "code",
   "execution_count": null,
   "id": "3bc5e4a8",
   "metadata": {},
   "outputs": [],
   "source": [
    "import copy\n",
    "emp=Employee.copy()\n",
    "emp[\"Rayan\"]=\"Doctor\"\n",
    "print(\"Employee as dic is \",Employee)\n",
    "print(\"emp      as dic is \",emp)"
   ]
  },
  {
   "cell_type": "code",
   "execution_count": null,
   "id": "44939d28",
   "metadata": {},
   "outputs": [],
   "source": [
    "X=Employee.copy()\n",
    "X"
   ]
  },
  {
   "cell_type": "code",
   "execution_count": null,
   "id": "c0222649",
   "metadata": {},
   "outputs": [],
   "source": [
    "X[\"Rayan\"]"
   ]
  },
  {
   "cell_type": "code",
   "execution_count": null,
   "id": "d3e7e8ed",
   "metadata": {},
   "outputs": [],
   "source": [
    "X[\"Rayan\"]=\"Manager\""
   ]
  },
  {
   "cell_type": "code",
   "execution_count": null,
   "id": "6c4f2055",
   "metadata": {},
   "outputs": [],
   "source": [
    "X"
   ]
  },
  {
   "cell_type": "code",
   "execution_count": null,
   "id": "e512ad81",
   "metadata": {},
   "outputs": [],
   "source": [
    "Employee"
   ]
  },
  {
   "cell_type": "code",
   "execution_count": null,
   "id": "f7b57cd0",
   "metadata": {},
   "outputs": [],
   "source": [
    "Employee.keys()"
   ]
  },
  {
   "cell_type": "code",
   "execution_count": null,
   "id": "c74e6c35",
   "metadata": {},
   "outputs": [],
   "source": [
    "Employee.values()"
   ]
  },
  {
   "cell_type": "code",
   "execution_count": null,
   "id": "d6696f80",
   "metadata": {},
   "outputs": [],
   "source": [
    "Employee.items()"
   ]
  },
  {
   "cell_type": "code",
   "execution_count": null,
   "id": "85853b73",
   "metadata": {},
   "outputs": [],
   "source": [
    "X.clear()\n",
    "X.items()"
   ]
  },
  {
   "cell_type": "code",
   "execution_count": null,
   "id": "40a60e26",
   "metadata": {},
   "outputs": [],
   "source": [
    "del(X)\n",
    "X.items()"
   ]
  },
  {
   "cell_type": "code",
   "execution_count": null,
   "id": "6381157f",
   "metadata": {},
   "outputs": [],
   "source": [
    "################String###########"
   ]
  },
  {
   "cell_type": "code",
   "execution_count": null,
   "id": "0dbccad8",
   "metadata": {},
   "outputs": [],
   "source": [
    "s1='String'\n",
    "print(s1)"
   ]
  },
  {
   "cell_type": "code",
   "execution_count": null,
   "id": "8c521cf2",
   "metadata": {},
   "outputs": [],
   "source": [
    "s2=\"Hello Python\"\n",
    "print(s2)"
   ]
  },
  {
   "cell_type": "code",
   "execution_count": null,
   "id": "8528f706",
   "metadata": {},
   "outputs": [],
   "source": [
    "s1[-1]"
   ]
  },
  {
   "cell_type": "code",
   "execution_count": null,
   "id": "2404a5b9",
   "metadata": {},
   "outputs": [],
   "source": [
    "s1[:-1]"
   ]
  },
  {
   "cell_type": "code",
   "execution_count": null,
   "id": "d228a753",
   "metadata": {},
   "outputs": [],
   "source": [
    "s1[0:]#s1[:],s1"
   ]
  },
  {
   "cell_type": "code",
   "execution_count": null,
   "id": "b4238587",
   "metadata": {},
   "outputs": [],
   "source": [
    "s1[2:]"
   ]
  },
  {
   "cell_type": "code",
   "execution_count": null,
   "id": "d9cf27fd",
   "metadata": {},
   "outputs": [],
   "source": [
    "sss='python \n",
    "\"Hello World\" \n",
    "string'\n",
    "print(sss)"
   ]
  },
  {
   "cell_type": "code",
   "execution_count": null,
   "id": "10a35657",
   "metadata": {},
   "outputs": [],
   "source": [
    "sss='''python \n",
    "\"Hello World\" \n",
    "string'''\n",
    "print(sss)"
   ]
  },
  {
   "cell_type": "code",
   "execution_count": null,
   "id": "cf14b1ec",
   "metadata": {},
   "outputs": [],
   "source": [
    "print('this is a long string')"
   ]
  },
  {
   "cell_type": "code",
   "execution_count": null,
   "id": "a0aae273",
   "metadata": {},
   "outputs": [],
   "source": [
    "raw ='www\\\\SVN_CODE\\V900R17C00_TRP\\omu\\src'\n",
    "print(raw)"
   ]
  },
  {
   "cell_type": "code",
   "execution_count": null,
   "id": "393ef1f8",
   "metadata": {},
   "outputs": [],
   "source": [
    "rawStr = r'www:\\\\SVN_CODE\\V900R17C00_TRP\\omu\\src'\n",
    "print(rawStr)"
   ]
  },
  {
   "cell_type": "code",
   "execution_count": null,
   "id": "5b9c09fa",
   "metadata": {},
   "outputs": [],
   "source": [
    "print(\"%c\" % 98)"
   ]
  },
  {
   "cell_type": "code",
   "execution_count": null,
   "id": "66226eb8",
   "metadata": {},
   "outputs": [],
   "source": [
    "print(\"%d\" % 98)"
   ]
  },
  {
   "cell_type": "code",
   "execution_count": null,
   "id": "ce3f684a",
   "metadata": {},
   "outputs": [],
   "source": [
    "print(\"%i\" % 98)"
   ]
  },
  {
   "cell_type": "code",
   "execution_count": null,
   "id": "ef07fe4a",
   "metadata": {},
   "outputs": [],
   "source": [
    "print(\"%f\" % 98)"
   ]
  },
  {
   "cell_type": "code",
   "execution_count": null,
   "id": "44a90c5e",
   "metadata": {},
   "outputs": [],
   "source": [
    "print(\"%10.3f\" % 2.5)"
   ]
  },
  {
   "cell_type": "code",
   "execution_count": null,
   "id": "f73d14e2",
   "metadata": {},
   "outputs": [],
   "source": [
    "print(\"%15.4f\" % 2.5)"
   ]
  },
  {
   "cell_type": "code",
   "execution_count": null,
   "id": "dd91c3c0",
   "metadata": {
    "scrolled": true
   },
   "outputs": [],
   "source": [
    "s = 'I' + ' '+ 'want'+ ' ' + 'Python' + '.'\n",
    "print(s)"
   ]
  },
  {
   "cell_type": "code",
   "execution_count": null,
   "id": "d7c70b4f",
   "metadata": {},
   "outputs": [],
   "source": [
    "ss='I want Python '*3\n",
    "print(ss)"
   ]
  },
  {
   "cell_type": "code",
   "execution_count": null,
   "id": "accac4ae",
   "metadata": {},
   "outputs": [],
   "source": [
    "del(ss)"
   ]
  },
  {
   "cell_type": "code",
   "execution_count": null,
   "id": "a3ff7ef7",
   "metadata": {},
   "outputs": [],
   "source": [
    "################  If  ###########"
   ]
  },
  {
   "cell_type": "code",
   "execution_count": null,
   "id": "931bd7c8",
   "metadata": {},
   "outputs": [],
   "source": [
    "score=input(\"please enter score : \")\n",
    "score=float(score)\n",
    "try :\n",
    "  if 100 >= score >= 90 :\n",
    "    print(\"Excellent\")\n",
    "  elif 90 > score >= 80 :\n",
    "    print(\"Very Good\")\n",
    "  elif 80 > score >= 70 :\n",
    "    print(\"Good\")\n",
    "  elif 70 > score >= 50 :\n",
    "    print(\"Medium\")\n",
    "  else :\n",
    "    print(\"Bad\")\n",
    "except Exception:\n",
    "  print(\"Enter a correct Score.\")"
   ]
  },
  {
   "cell_type": "code",
   "execution_count": null,
   "id": "e165bb5b",
   "metadata": {},
   "outputs": [],
   "source": [
    "################ Nested for ###########"
   ]
  },
  {
   "cell_type": "code",
   "execution_count": null,
   "id": "1b6a539b",
   "metadata": {},
   "outputs": [],
   "source": [
    "for i in range(1,10):\n",
    "  for j in range(1,i+1):\n",
    "    print (\"%d * %d = %2d\"%(i,j,i*j),end= \"   \")\n",
    "  print()"
   ]
  },
  {
   "cell_type": "code",
   "execution_count": null,
   "id": "c659b3b5",
   "metadata": {},
   "outputs": [],
   "source": [
    "################ while ###########"
   ]
  },
  {
   "cell_type": "code",
   "execution_count": null,
   "id": "5a1d39f0",
   "metadata": {},
   "outputs": [],
   "source": [
    "i=90\n",
    "while (i<100):\n",
    "    i+=1\n",
    "    print(i)"
   ]
  },
  {
   "cell_type": "code",
   "execution_count": null,
   "id": "88e27e3e",
   "metadata": {},
   "outputs": [],
   "source": [
    "i=90\n",
    "while (True):\n",
    "    i+=1\n",
    "    if i==100:\n",
    "        break\n",
    "    print(i)"
   ]
  },
  {
   "cell_type": "code",
   "execution_count": null,
   "id": "6da64570",
   "metadata": {},
   "outputs": [],
   "source": [
    "i=90\n",
    "while (True):\n",
    "  i+=1\n",
    "  if i==95 :\n",
    "    continue\n",
    "  if i == 100 :\n",
    "    break\n",
    "  print(i)"
   ]
  },
  {
   "cell_type": "code",
   "execution_count": null,
   "id": "251e1b85",
   "metadata": {},
   "outputs": [],
   "source": [
    "################ Functions ###########"
   ]
  },
  {
   "cell_type": "code",
   "execution_count": null,
   "id": "35989292",
   "metadata": {},
   "outputs": [],
   "source": [
    "x='123'\n",
    "type(x)"
   ]
  },
  {
   "cell_type": "code",
   "execution_count": null,
   "id": "7a7fb3a3",
   "metadata": {},
   "outputs": [],
   "source": [
    "int('123')"
   ]
  },
  {
   "cell_type": "code",
   "execution_count": null,
   "id": "8c38b3ea",
   "metadata": {},
   "outputs": [],
   "source": [
    "int(12.36)"
   ]
  },
  {
   "cell_type": "code",
   "execution_count": null,
   "id": "be08b60c",
   "metadata": {},
   "outputs": [],
   "source": [
    "float('123')"
   ]
  },
  {
   "cell_type": "code",
   "execution_count": null,
   "id": "8ae9a4ea",
   "metadata": {},
   "outputs": [],
   "source": [
    "str(12.36)"
   ]
  },
  {
   "cell_type": "code",
   "execution_count": null,
   "id": "46203224",
   "metadata": {},
   "outputs": [],
   "source": [
    "str(100)"
   ]
  },
  {
   "cell_type": "code",
   "execution_count": null,
   "id": "485d6089",
   "metadata": {},
   "outputs": [],
   "source": [
    "bool(0)"
   ]
  },
  {
   "cell_type": "code",
   "execution_count": null,
   "id": "0be06c33",
   "metadata": {},
   "outputs": [],
   "source": [
    "bool('')"
   ]
  },
  {
   "cell_type": "code",
   "execution_count": null,
   "id": "503d5e85",
   "metadata": {},
   "outputs": [],
   "source": [
    "bool([])"
   ]
  },
  {
   "cell_type": "code",
   "execution_count": null,
   "id": "ad82a2c6",
   "metadata": {},
   "outputs": [],
   "source": [
    "bool(\"a\")"
   ]
  },
  {
   "cell_type": "code",
   "execution_count": null,
   "id": "485cac53",
   "metadata": {},
   "outputs": [],
   "source": [
    "bool(2)"
   ]
  },
  {
   "cell_type": "code",
   "execution_count": null,
   "id": "f15fff72",
   "metadata": {},
   "outputs": [],
   "source": [
    "bool([2,3])"
   ]
  },
  {
   "cell_type": "code",
   "execution_count": null,
   "id": "db5284a1",
   "metadata": {},
   "outputs": [],
   "source": [
    "abs(-9)"
   ]
  },
  {
   "cell_type": "code",
   "execution_count": null,
   "id": "dee57592",
   "metadata": {},
   "outputs": [],
   "source": [
    "x=abs"
   ]
  },
  {
   "cell_type": "code",
   "execution_count": null,
   "id": "6493f9cb",
   "metadata": {},
   "outputs": [],
   "source": [
    "x(-9)"
   ]
  },
  {
   "cell_type": "code",
   "execution_count": null,
   "id": "a9ac4b50",
   "metadata": {},
   "outputs": [],
   "source": [
    "def fun1():\n",
    "    print(\"Hello Fun1\")"
   ]
  },
  {
   "cell_type": "code",
   "execution_count": null,
   "id": "b4e2fe28",
   "metadata": {},
   "outputs": [],
   "source": [
    "fun1()"
   ]
  },
  {
   "cell_type": "code",
   "execution_count": null,
   "id": "c9d4a091",
   "metadata": {},
   "outputs": [],
   "source": [
    "def fun2(x):\n",
    "    print(\"Hello Fun2\")\n",
    "    return x*x"
   ]
  },
  {
   "cell_type": "code",
   "execution_count": null,
   "id": "aab8a836",
   "metadata": {},
   "outputs": [],
   "source": [
    "print(fun2(5))"
   ]
  },
  {
   "cell_type": "code",
   "execution_count": null,
   "id": "cb2d1582",
   "metadata": {},
   "outputs": [],
   "source": [
    "y=fun2(5)\n",
    "print(y)"
   ]
  },
  {
   "cell_type": "code",
   "execution_count": null,
   "id": "5dcf3dc3",
   "metadata": {},
   "outputs": [],
   "source": [
    "def fun3(x):\n",
    "    return x*x ,int(x*x)"
   ]
  },
  {
   "cell_type": "code",
   "execution_count": null,
   "id": "68a5c53d",
   "metadata": {},
   "outputs": [],
   "source": [
    "fun3(5.5)"
   ]
  },
  {
   "cell_type": "code",
   "execution_count": null,
   "id": "6da25e7e",
   "metadata": {},
   "outputs": [],
   "source": [
    "y,y1=fun3(5.5)\n",
    "print(\"y is :\",y)\n",
    "print(\"y1 is :\",y1)"
   ]
  },
  {
   "cell_type": "code",
   "execution_count": null,
   "id": "5ef3014f",
   "metadata": {},
   "outputs": [],
   "source": [
    "def fun4():\n",
    "    pass"
   ]
  },
  {
   "cell_type": "code",
   "execution_count": 91,
   "id": "aef214ac",
   "metadata": {},
   "outputs": [],
   "source": [
    "def my_abs(x):\n",
    "    if x>=0:\n",
    "        return x\n",
    "    else:\n",
    "        return -x"
   ]
  },
  {
   "cell_type": "code",
   "execution_count": 88,
   "id": "cfedfc47",
   "metadata": {},
   "outputs": [
    {
     "data": {
      "text/plain": [
       "9"
      ]
     },
     "execution_count": 88,
     "metadata": {},
     "output_type": "execute_result"
    }
   ],
   "source": [
    "my_abs(-9)"
   ]
  },
  {
   "cell_type": "code",
   "execution_count": 89,
   "id": "0bdf378e",
   "metadata": {},
   "outputs": [
    {
     "data": {
      "text/plain": [
       "9"
      ]
     },
     "execution_count": 89,
     "metadata": {},
     "output_type": "execute_result"
    }
   ],
   "source": [
    "x=my_abs\n",
    "x(-9)"
   ]
  },
  {
   "cell_type": "code",
   "execution_count": 1,
   "id": "90868df0",
   "metadata": {},
   "outputs": [],
   "source": [
    "def my_abs(x):\n",
    "    pass\n",
    "    if x>=0:\n",
    "        return x\n",
    "    else:\n",
    "        return -x"
   ]
  },
  {
   "cell_type": "code",
   "execution_count": 2,
   "id": "06560afd",
   "metadata": {},
   "outputs": [
    {
     "name": "stdout",
     "output_type": "stream",
     "text": [
      "Not Valid Datatype\n"
     ]
    }
   ],
   "source": [
    "try:\n",
    "    my_abs('122')\n",
    "except:\n",
    "    print('Not Valid Datatype')\n",
    "        "
   ]
  },
  {
   "cell_type": "code",
   "execution_count": 4,
   "id": "c16934b3",
   "metadata": {},
   "outputs": [
    {
     "data": {
      "text/plain": [
       "30"
      ]
     },
     "execution_count": 4,
     "metadata": {},
     "output_type": "execute_result"
    }
   ],
   "source": [
    "def fun1(x,x1=10):\n",
    "    y=x+x1\n",
    "    return y\n",
    "\n",
    "fun1(20)"
   ]
  },
  {
   "cell_type": "code",
   "execution_count": 5,
   "id": "70e1d343",
   "metadata": {},
   "outputs": [
    {
     "data": {
      "text/plain": [
       "40"
      ]
     },
     "execution_count": 5,
     "metadata": {},
     "output_type": "execute_result"
    }
   ],
   "source": [
    "fun1(20,20)"
   ]
  },
  {
   "cell_type": "code",
   "execution_count": 6,
   "id": "484bf862",
   "metadata": {},
   "outputs": [
    {
     "data": {
      "text/plain": [
       "50"
      ]
     },
     "execution_count": 6,
     "metadata": {},
     "output_type": "execute_result"
    }
   ],
   "source": [
    "fun1(x1=30,x=20)"
   ]
  },
  {
   "cell_type": "code",
   "execution_count": 7,
   "id": "61f6af23",
   "metadata": {},
   "outputs": [
    {
     "data": {
      "text/plain": [
       "50"
      ]
     },
     "execution_count": 7,
     "metadata": {},
     "output_type": "execute_result"
    }
   ],
   "source": [
    "fun1(30,20)"
   ]
  },
  {
   "cell_type": "code",
   "execution_count": 8,
   "id": "8f0de38c",
   "metadata": {},
   "outputs": [
    {
     "data": {
      "text/plain": [
       "(50, (40, 50, 60))"
      ]
     },
     "execution_count": 8,
     "metadata": {},
     "output_type": "execute_result"
    }
   ],
   "source": [
    "def fun1(x,x1=10,*arg):\n",
    "    y=x+x1\n",
    "    return y,arg\n",
    "\n",
    "fun1(20,30,40,50,60)"
   ]
  },
  {
   "cell_type": "code",
   "execution_count": 9,
   "id": "67c5b8d0",
   "metadata": {},
   "outputs": [
    {
     "data": {
      "text/plain": [
       "(50, [1600, 2500, 3600])"
      ]
     },
     "execution_count": 9,
     "metadata": {},
     "output_type": "execute_result"
    }
   ],
   "source": [
    "def fun1(x,x1=10,*arg):\n",
    "    y=x+x1\n",
    "    z=[i*i for i in list(arg)]\n",
    "    return y,z\n",
    "\n",
    "fun1(20,30,40,50,60)"
   ]
  },
  {
   "cell_type": "code",
   "execution_count": 10,
   "id": "b741ffea",
   "metadata": {},
   "outputs": [
    {
     "data": {
      "text/plain": [
       "(50, [1600, 2500, 3600, 100])"
      ]
     },
     "execution_count": 10,
     "metadata": {},
     "output_type": "execute_result"
    }
   ],
   "source": [
    "fun1(20,30,40,50,60,10)"
   ]
  },
  {
   "cell_type": "code",
   "execution_count": 12,
   "id": "fad2fca1",
   "metadata": {},
   "outputs": [
    {
     "data": {
      "text/plain": [
       "(50, [1600, 2500, 3600], {'age': 30, 'sal': 3000})"
      ]
     },
     "execution_count": 12,
     "metadata": {},
     "output_type": "execute_result"
    }
   ],
   "source": [
    "def fun1(x,x1=10,*arg,**k):\n",
    "    y=x+x1\n",
    "    z=[i*i for i in list(arg)]\n",
    "    return y,z,k\n",
    "\n",
    "fun1(20,30,40,50,60,age=30,sal=3000)"
   ]
  },
  {
   "cell_type": "code",
   "execution_count": 13,
   "id": "86d917c5",
   "metadata": {},
   "outputs": [
    {
     "data": {
      "text/plain": [
       "{1: 39, 'a': 40}"
      ]
     },
     "execution_count": 13,
     "metadata": {},
     "output_type": "execute_result"
    }
   ],
   "source": [
    "d={1:39,\"a\":40}\n",
    "d"
   ]
  },
  {
   "cell_type": "code",
   "execution_count": 14,
   "id": "96df2ccd",
   "metadata": {},
   "outputs": [
    {
     "data": {
      "text/plain": [
       "(50, [1600, 2500, 3600], {'name': 'ahmed', 'age': 30})"
      ]
     },
     "execution_count": 14,
     "metadata": {},
     "output_type": "execute_result"
    }
   ],
   "source": [
    "fun1(20,30,40,50,60,name=\"ahmed\",age=30)"
   ]
  },
  {
   "cell_type": "code",
   "execution_count": 18,
   "id": "4458522e",
   "metadata": {},
   "outputs": [
    {
     "data": {
      "text/plain": [
       "(50, [1600, 2500, 3600], {'name': ['ahmed', 10], 'age': 30})"
      ]
     },
     "execution_count": 18,
     "metadata": {},
     "output_type": "execute_result"
    }
   ],
   "source": [
    "fun1(20,30,40,50,60,name=[\"ahmed\",10],age=30)"
   ]
  },
  {
   "cell_type": "code",
   "execution_count": 23,
   "id": "906465a8",
   "metadata": {},
   "outputs": [],
   "source": [
    "def fact(n):\n",
    "    return fact_iter(n,1)\n",
    "def fact_iter(num,prod):\n",
    "    if num == 1 :\n",
    "        return prod\n",
    "    return fact_iter(num-1,num * prod)"
   ]
  },
  {
   "cell_type": "code",
   "execution_count": 24,
   "id": "ebda1f75",
   "metadata": {},
   "outputs": [
    {
     "data": {
      "text/plain": [
       "6"
      ]
     },
     "execution_count": 24,
     "metadata": {},
     "output_type": "execute_result"
    }
   ],
   "source": [
    "fact(3)"
   ]
  },
  {
   "cell_type": "code",
   "execution_count": 25,
   "id": "2d00147f",
   "metadata": {},
   "outputs": [
    {
     "data": {
      "text/plain": [
       "[1, 2, 3]"
      ]
     },
     "execution_count": 25,
     "metadata": {},
     "output_type": "execute_result"
    }
   ],
   "source": [
    "x=[1,2,3]\n",
    "type(x)\n",
    "x"
   ]
  },
  {
   "cell_type": "code",
   "execution_count": 26,
   "id": "13469ca4",
   "metadata": {},
   "outputs": [
    {
     "data": {
      "text/plain": [
       "(1, 2, 3)"
      ]
     },
     "execution_count": 26,
     "metadata": {},
     "output_type": "execute_result"
    }
   ],
   "source": [
    "x=tuple(x)\n",
    "x"
   ]
  },
  {
   "cell_type": "code",
   "execution_count": 27,
   "id": "0140b3d9",
   "metadata": {},
   "outputs": [
    {
     "data": {
      "text/plain": [
       "'nti'"
      ]
     },
     "execution_count": 27,
     "metadata": {},
     "output_type": "execute_result"
    }
   ],
   "source": [
    "x=\"nti\"\n",
    "x"
   ]
  },
  {
   "cell_type": "code",
   "execution_count": 28,
   "id": "41a1bc43",
   "metadata": {},
   "outputs": [
    {
     "data": {
      "text/plain": [
       "'NTI'"
      ]
     },
     "execution_count": 28,
     "metadata": {},
     "output_type": "execute_result"
    }
   ],
   "source": [
    "x.upper()"
   ]
  },
  {
   "cell_type": "code",
   "execution_count": 29,
   "id": "e4fe8fec",
   "metadata": {},
   "outputs": [],
   "source": [
    "class my_class():\n",
    "    def init():\n",
    "        pass\n",
    "    def get_name():\n",
    "        pass\n",
    "    def set_name():\n",
    "        pass"
   ]
  },
  {
   "cell_type": "code",
   "execution_count": 30,
   "id": "c6c6fb4a",
   "metadata": {},
   "outputs": [],
   "source": [
    "a=my_class()"
   ]
  },
  {
   "cell_type": "code",
   "execution_count": 1,
   "id": "215703f7",
   "metadata": {},
   "outputs": [],
   "source": [
    "class my_class():\n",
    "    def init(self,x):\n",
    "        print(x)\n",
    "    def get_name():\n",
    "        pass\n",
    "    def set_name():\n",
    "        pass"
   ]
  },
  {
   "cell_type": "code",
   "execution_count": 2,
   "id": "bd79d11e",
   "metadata": {},
   "outputs": [
    {
     "name": "stdout",
     "output_type": "stream",
     "text": [
      "10\n"
     ]
    }
   ],
   "source": [
    "a=my_class()\n",
    "a.init(10)"
   ]
  },
  {
   "cell_type": "code",
   "execution_count": 13,
   "id": "b896916c",
   "metadata": {},
   "outputs": [],
   "source": [
    "class my_class():\n",
    "    var1=200\n",
    "    __var2=100\n",
    "    def __init__(self,name,age):\n",
    "        self.name=name\n",
    "        self.age=age\n",
    "    def get_name(self):\n",
    "        return self.name,self.age\n",
    "    def set_name(self,name):\n",
    "        self.name=name"
   ]
  },
  {
   "cell_type": "code",
   "execution_count": 14,
   "id": "28c84bb8",
   "metadata": {},
   "outputs": [],
   "source": [
    "a=my_class(\"Nancy\",30)\n",
    "b=my_class(\"Rayan\",20)"
   ]
  },
  {
   "cell_type": "code",
   "execution_count": 15,
   "id": "ce8a892d",
   "metadata": {},
   "outputs": [
    {
     "name": "stdout",
     "output_type": "stream",
     "text": [
      "('Nancy', 30)\n"
     ]
    }
   ],
   "source": [
    "print(a.get_name())"
   ]
  },
  {
   "cell_type": "code",
   "execution_count": 16,
   "id": "8451a99b",
   "metadata": {},
   "outputs": [
    {
     "name": "stdout",
     "output_type": "stream",
     "text": [
      "('Rayan', 20)\n"
     ]
    }
   ],
   "source": [
    "print(b.get_name())"
   ]
  },
  {
   "cell_type": "code",
   "execution_count": 17,
   "id": "08550ca7",
   "metadata": {},
   "outputs": [
    {
     "name": "stdout",
     "output_type": "stream",
     "text": [
      "('Farida', 30)\n"
     ]
    }
   ],
   "source": [
    "a.set_name(\"Farida\")\n",
    "print(a.get_name())"
   ]
  },
  {
   "cell_type": "code",
   "execution_count": 18,
   "id": "175b13d4",
   "metadata": {},
   "outputs": [
    {
     "name": "stdout",
     "output_type": "stream",
     "text": [
      "200\n"
     ]
    }
   ],
   "source": [
    "print(a.var1)"
   ]
  },
  {
   "cell_type": "code",
   "execution_count": 19,
   "id": "67132e74",
   "metadata": {},
   "outputs": [
    {
     "ename": "AttributeError",
     "evalue": "'my_class' object has no attribute '__var2'",
     "output_type": "error",
     "traceback": [
      "\u001b[1;31m---------------------------------------------------------------------------\u001b[0m",
      "\u001b[1;31mAttributeError\u001b[0m                            Traceback (most recent call last)",
      "\u001b[1;32m<ipython-input-19-98775eb20aa1>\u001b[0m in \u001b[0;36m<module>\u001b[1;34m\u001b[0m\n\u001b[1;32m----> 1\u001b[1;33m \u001b[0mprint\u001b[0m\u001b[1;33m(\u001b[0m\u001b[0ma\u001b[0m\u001b[1;33m.\u001b[0m\u001b[0m__var2\u001b[0m\u001b[1;33m)\u001b[0m\u001b[1;33m\u001b[0m\u001b[1;33m\u001b[0m\u001b[0m\n\u001b[0m",
      "\u001b[1;31mAttributeError\u001b[0m: 'my_class' object has no attribute '__var2'"
     ]
    }
   ],
   "source": [
    "print(a.__var2)"
   ]
  },
  {
   "cell_type": "code",
   "execution_count": 20,
   "id": "f4f0cc7c",
   "metadata": {},
   "outputs": [],
   "source": [
    "import time as t\n",
    "from time import sleep\n",
    "from time import *"
   ]
  },
  {
   "cell_type": "code",
   "execution_count": 21,
   "id": "9f62e879",
   "metadata": {},
   "outputs": [
    {
     "name": "stdout",
     "output_type": "stream",
     "text": [
      "0\n",
      "1\n",
      "2\n",
      "3\n",
      "4\n",
      "5\n",
      "6\n",
      "7\n",
      "8\n",
      "9\n"
     ]
    }
   ],
   "source": [
    "for i in range(10):\n",
    "  sleep(0.5)\n",
    "  print(i)"
   ]
  },
  {
   "cell_type": "code",
   "execution_count": 22,
   "id": "25e5951c",
   "metadata": {},
   "outputs": [
    {
     "name": "stdout",
     "output_type": "stream",
     "text": [
      "    August 2021\n",
      "Mo Tu We Th Fr Sa Su\n",
      "                   1\n",
      " 2  3  4  5  6  7  8\n",
      " 9 10 11 12 13 14 15\n",
      "16 17 18 19 20 21 22\n",
      "23 24 25 26 27 28 29\n",
      "30 31\n",
      "\n"
     ]
    }
   ],
   "source": [
    "import calendar as cal\n",
    "print(cal.month(2021,8))"
   ]
  },
  {
   "cell_type": "code",
   "execution_count": 23,
   "id": "55746e42",
   "metadata": {},
   "outputs": [
    {
     "name": "stdout",
     "output_type": "stream",
     "text": [
      "                                  2021\n",
      "\n",
      "      January                   February                   March\n",
      "Mo Tu We Th Fr Sa Su      Mo Tu We Th Fr Sa Su      Mo Tu We Th Fr Sa Su\n",
      "             1  2  3       1  2  3  4  5  6  7       1  2  3  4  5  6  7\n",
      " 4  5  6  7  8  9 10       8  9 10 11 12 13 14       8  9 10 11 12 13 14\n",
      "11 12 13 14 15 16 17      15 16 17 18 19 20 21      15 16 17 18 19 20 21\n",
      "18 19 20 21 22 23 24      22 23 24 25 26 27 28      22 23 24 25 26 27 28\n",
      "25 26 27 28 29 30 31                                29 30 31\n",
      "\n",
      "       April                      May                       June\n",
      "Mo Tu We Th Fr Sa Su      Mo Tu We Th Fr Sa Su      Mo Tu We Th Fr Sa Su\n",
      "          1  2  3  4                      1  2          1  2  3  4  5  6\n",
      " 5  6  7  8  9 10 11       3  4  5  6  7  8  9       7  8  9 10 11 12 13\n",
      "12 13 14 15 16 17 18      10 11 12 13 14 15 16      14 15 16 17 18 19 20\n",
      "19 20 21 22 23 24 25      17 18 19 20 21 22 23      21 22 23 24 25 26 27\n",
      "26 27 28 29 30            24 25 26 27 28 29 30      28 29 30\n",
      "                          31\n",
      "\n",
      "        July                     August                  September\n",
      "Mo Tu We Th Fr Sa Su      Mo Tu We Th Fr Sa Su      Mo Tu We Th Fr Sa Su\n",
      "          1  2  3  4                         1             1  2  3  4  5\n",
      " 5  6  7  8  9 10 11       2  3  4  5  6  7  8       6  7  8  9 10 11 12\n",
      "12 13 14 15 16 17 18       9 10 11 12 13 14 15      13 14 15 16 17 18 19\n",
      "19 20 21 22 23 24 25      16 17 18 19 20 21 22      20 21 22 23 24 25 26\n",
      "26 27 28 29 30 31         23 24 25 26 27 28 29      27 28 29 30\n",
      "                          30 31\n",
      "\n",
      "      October                   November                  December\n",
      "Mo Tu We Th Fr Sa Su      Mo Tu We Th Fr Sa Su      Mo Tu We Th Fr Sa Su\n",
      "             1  2  3       1  2  3  4  5  6  7             1  2  3  4  5\n",
      " 4  5  6  7  8  9 10       8  9 10 11 12 13 14       6  7  8  9 10 11 12\n",
      "11 12 13 14 15 16 17      15 16 17 18 19 20 21      13 14 15 16 17 18 19\n",
      "18 19 20 21 22 23 24      22 23 24 25 26 27 28      20 21 22 23 24 25 26\n",
      "25 26 27 28 29 30 31      29 30                     27 28 29 30 31\n",
      "None\n"
     ]
    }
   ],
   "source": [
    "print(cal.prcal(2021))"
   ]
  },
  {
   "cell_type": "code",
   "execution_count": 1,
   "id": "a3c018b3",
   "metadata": {},
   "outputs": [
    {
     "name": "stdout",
     "output_type": "stream",
     "text": [
      "2021-08-09 23:27:39\n"
     ]
    }
   ],
   "source": [
    "import time\n",
    "# Format into 2016-03-20 11:45:39\n",
    "print(time.strftime(\"%Y-%m-%d %H:%M:%S\", time.localtime()))"
   ]
  },
  {
   "cell_type": "code",
   "execution_count": 4,
   "id": "139c7a83",
   "metadata": {},
   "outputs": [
    {
     "name": "stdout",
     "output_type": "stream",
     "text": [
      "(0, 3)\n"
     ]
    }
   ],
   "source": [
    "import re\n",
    "print(re.match('www', 'www.google.com').span())"
   ]
  },
  {
   "cell_type": "code",
   "execution_count": 7,
   "id": "fe8ca9f3",
   "metadata": {},
   "outputs": [
    {
     "name": "stdout",
     "output_type": "stream",
     "text": [
      "None\n"
     ]
    }
   ],
   "source": [
    "print(re.match('www', 'awww.google.com'))"
   ]
  },
  {
   "cell_type": "code",
   "execution_count": 10,
   "id": "f2d0bcd6",
   "metadata": {},
   "outputs": [
    {
     "name": "stdout",
     "output_type": "stream",
     "text": [
      "(4, 7)\n"
     ]
    }
   ],
   "source": [
    "print(re.search('com', 'www.com.google.com').span())"
   ]
  },
  {
   "cell_type": "code",
   "execution_count": 11,
   "id": "e61e68d5",
   "metadata": {},
   "outputs": [],
   "source": [
    "s,d=re.search('com', 'www.com.google.com').span()\n"
   ]
  },
  {
   "cell_type": "code",
   "execution_count": 13,
   "id": "2b0fd062",
   "metadata": {},
   "outputs": [
    {
     "data": {
      "text/plain": [
       "7"
      ]
     },
     "execution_count": 13,
     "metadata": {},
     "output_type": "execute_result"
    }
   ],
   "source": [
    "d"
   ]
  },
  {
   "cell_type": "code",
   "execution_count": 16,
   "id": "b475758b",
   "metadata": {},
   "outputs": [
    {
     "name": "stdout",
     "output_type": "stream",
     "text": [
      "<re.Match object; span=(0, 5), match='Start'>\n",
      "(0, 5)\n",
      "Start\n"
     ]
    }
   ],
   "source": [
    "sentence='Start a sentence and then bring it to end'\n",
    "pattern=re.compile(r'start',re.I)\n",
    "matches=pattern.search(sentence)\n",
    "print(matches)\n",
    "print(matches.span())\n",
    "print(matches.group())"
   ]
  },
  {
   "cell_type": "code",
   "execution_count": 3,
   "id": "68bca797",
   "metadata": {},
   "outputs": [
    {
     "name": "stdout",
     "output_type": "stream",
     "text": [
      "Please input:4\n",
      "Your input is: 4\n"
     ]
    }
   ],
   "source": [
    "str1 = input(\"Please input:\") \n",
    "print(\"Your input is:\", str1)\n"
   ]
  },
  {
   "cell_type": "code",
   "execution_count": 4,
   "id": "5202303a",
   "metadata": {},
   "outputs": [
    {
     "data": {
      "text/plain": [
       "str"
      ]
     },
     "execution_count": 4,
     "metadata": {},
     "output_type": "execute_result"
    }
   ],
   "source": [
    "type(str1)"
   ]
  },
  {
   "cell_type": "code",
   "execution_count": 7,
   "id": "cfe251d3",
   "metadata": {},
   "outputs": [
    {
     "data": {
      "text/plain": [
       "'E:\\\\foo.txt'"
      ]
     },
     "execution_count": 7,
     "metadata": {},
     "output_type": "execute_result"
    }
   ],
   "source": [
    "fo=open(\"E:\\\\foo.txt\",\"w\")\n",
    "fo.name"
   ]
  },
  {
   "cell_type": "code",
   "execution_count": 8,
   "id": "fad98502",
   "metadata": {},
   "outputs": [],
   "source": [
    "fo.close()"
   ]
  },
  {
   "cell_type": "code",
   "execution_count": 1,
   "id": "e35717b9",
   "metadata": {},
   "outputs": [
    {
     "data": {
      "text/plain": [
       "'E:\\\\fooo.txt'"
      ]
     },
     "execution_count": 1,
     "metadata": {},
     "output_type": "execute_result"
    }
   ],
   "source": [
    "fo=open(\"E:\\\\fooo.txt\",\"w\")\n",
    "fo.name"
   ]
  },
  {
   "cell_type": "code",
   "execution_count": 2,
   "id": "6119adbd",
   "metadata": {},
   "outputs": [
    {
     "data": {
      "text/plain": [
       "False"
      ]
     },
     "execution_count": 2,
     "metadata": {},
     "output_type": "execute_result"
    }
   ],
   "source": [
    "fo.closed"
   ]
  },
  {
   "cell_type": "code",
   "execution_count": 3,
   "id": "6937f5e1",
   "metadata": {},
   "outputs": [],
   "source": [
    "fo.close()"
   ]
  },
  {
   "cell_type": "code",
   "execution_count": 4,
   "id": "e47e9d5b",
   "metadata": {},
   "outputs": [
    {
     "data": {
      "text/plain": [
       "True"
      ]
     },
     "execution_count": 4,
     "metadata": {},
     "output_type": "execute_result"
    }
   ],
   "source": [
    "fo.closed"
   ]
  },
  {
   "cell_type": "code",
   "execution_count": 9,
   "id": "11ce4b70",
   "metadata": {},
   "outputs": [],
   "source": [
    "fo=open(\"E:\\\\fooo.txt\",\"w\")\n",
    "for i in range(100):\n",
    "    fo.write(\"www.google.com ! \\t very good search end ! \\n \")\n",
    "fo.close()\n"
   ]
  },
  {
   "cell_type": "code",
   "execution_count": 12,
   "id": "d7794968",
   "metadata": {},
   "outputs": [],
   "source": [
    "fo=open(\"E:\\\\fooo.txt\",\"w\")\n",
    "for i in range(5):\n",
    "    fo.write(\"Hello ! \\t World! \\n \")\n",
    "fo.close()"
   ]
  },
  {
   "cell_type": "code",
   "execution_count": 13,
   "id": "c68d3939",
   "metadata": {},
   "outputs": [
    {
     "name": "stdout",
     "output_type": "stream",
     "text": [
      "Hello ! \t World! \n",
      " Hello ! \t World! \n",
      " Hello ! \t World! \n",
      " Hello ! \t World! \n",
      " Hello ! \t World! \n",
      " \n"
     ]
    }
   ],
   "source": [
    "fo=open(\"E:\\\\fooo.txt\",\"r\")\n",
    "\n",
    "str1=fo.read()\n",
    "print(str1)\n",
    "fo.close()"
   ]
  },
  {
   "cell_type": "code",
   "execution_count": 17,
   "id": "5f25b6f3",
   "metadata": {},
   "outputs": [
    {
     "name": "stdout",
     "output_type": "stream",
     "text": [
      "['Hello ! \\t World! \\n']\n"
     ]
    }
   ],
   "source": [
    "fo=open(\"E:\\\\fooo.txt\",\"r\")\n",
    "\n",
    "str1=fo.readlines(2)\n",
    "print(str1)\n",
    "fo.close()"
   ]
  },
  {
   "cell_type": "code",
   "execution_count": 18,
   "id": "faa9ed71",
   "metadata": {},
   "outputs": [],
   "source": [
    "import os"
   ]
  },
  {
   "cell_type": "code",
   "execution_count": 20,
   "id": "3bbf1344",
   "metadata": {},
   "outputs": [],
   "source": [
    "os.remove(\"E:\\\\test.txt\")"
   ]
  },
  {
   "cell_type": "code",
   "execution_count": null,
   "id": "6ed5b523",
   "metadata": {},
   "outputs": [],
   "source": []
  }
 ],
 "metadata": {
  "kernelspec": {
   "display_name": "Python 3 (ipykernel)",
   "language": "python",
   "name": "python3"
  },
  "language_info": {
   "codemirror_mode": {
    "name": "ipython",
    "version": 3
   },
   "file_extension": ".py",
   "mimetype": "text/x-python",
   "name": "python",
   "nbconvert_exporter": "python",
   "pygments_lexer": "ipython3",
   "version": "3.11.5"
  }
 },
 "nbformat": 4,
 "nbformat_minor": 5
}
