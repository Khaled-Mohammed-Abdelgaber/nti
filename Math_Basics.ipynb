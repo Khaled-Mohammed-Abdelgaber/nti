{
  "cells": [
    {
      "cell_type": "code",
      "execution_count": 1,
      "metadata": {
        "id": "KuF-Qccrx4qF"
      },
      "outputs": [],
      "source": [
        "import numpy as np"
      ]
    },
    {
      "cell_type": "code",
      "execution_count": 2,
      "metadata": {
        "id": "77Klkdd6yGH1"
      },
      "outputs": [],
      "source": [
        "import math"
      ]
    },
    {
      "cell_type": "code",
      "execution_count": 5,
      "metadata": {
        "colab": {
          "base_uri": "https://localhost:8080/"
        },
        "id": "7u5WEPjbyQ_i",
        "outputId": "dc15338f-c267-48b4-e15a-ce05440f42e4"
      },
      "outputs": [
        {
          "data": {
            "text/plain": [
              "-43"
            ]
          },
          "execution_count": 5,
          "metadata": {},
          "output_type": "execute_result"
        }
      ],
      "source": [
        "math.ceil(-43.12) #Smallest integer not less than x"
      ]
    },
    {
      "cell_type": "code",
      "execution_count": 4,
      "metadata": {
        "colab": {
          "base_uri": "https://localhost:8080/"
        },
        "id": "5xUeVrbjyV1M",
        "outputId": "fb14947c-8706-4cb0-81c6-2789705f87cb"
      },
      "outputs": [
        {
          "data": {
            "text/plain": [
              "-43"
            ]
          },
          "execution_count": 4,
          "metadata": {
            "tags": []
          },
          "output_type": "execute_result"
        }
      ],
      "source": [
        "math.trunc(-43.12)#truncates a number to its integer part, removing the fractional part without rounding."
      ]
    },
    {
      "cell_type": "code",
      "execution_count": 5,
      "metadata": {
        "colab": {
          "base_uri": "https://localhost:8080/"
        },
        "id": "w_ZU7VPIycMj",
        "outputId": "9a00f45b-4aec-496b-c31e-7a2487dbbafb"
      },
      "outputs": [
        {
          "data": {
            "text/plain": [
              "12"
            ]
          },
          "execution_count": 5,
          "metadata": {
            "tags": []
          },
          "output_type": "execute_result"
        }
      ],
      "source": [
        "math.floor(12.33)#returns the largest integer less than or equal to a given number."
      ]
    },
    {
      "cell_type": "code",
      "execution_count": 6,
      "metadata": {
        "colab": {
          "base_uri": "https://localhost:8080/"
        },
        "id": "MuVPKiIjyhFZ",
        "outputId": "64f7f3c0-d348-4edd-cbf4-41856a1bd352"
      },
      "outputs": [
        {
          "data": {
            "text/plain": [
              "12"
            ]
          },
          "execution_count": 6,
          "metadata": {
            "tags": []
          },
          "output_type": "execute_result"
        }
      ],
      "source": [
        "math.trunc(12.33)"
      ]
    },
    {
      "cell_type": "code",
      "execution_count": 7,
      "metadata": {
        "colab": {
          "base_uri": "https://localhost:8080/"
        },
        "id": "f-8gEsEMymyv",
        "outputId": "b031e217-cfef-4655-f755-ddd39a852bf8"
      },
      "outputs": [
        {
          "data": {
            "text/plain": [
              "3.141592653589793"
            ]
          },
          "execution_count": 7,
          "metadata": {
            "tags": []
          },
          "output_type": "execute_result"
        }
      ],
      "source": [
        "math.pi #22/7"
      ]
    },
    {
      "cell_type": "code",
      "execution_count": 8,
      "metadata": {
        "colab": {
          "base_uri": "https://localhost:8080/"
        },
        "id": "-QBWlWvpy5Q0",
        "outputId": "907b7c67-81bd-424b-f93d-cf52150cc9ad"
      },
      "outputs": [
        {
          "data": {
            "text/plain": [
              "0.5000000000000001"
            ]
          },
          "execution_count": 8,
          "metadata": {
            "tags": []
          },
          "output_type": "execute_result"
        }
      ],
      "source": [
        "math.cos(math.pi/3)# math.cos treat angle as a radian angle"
      ]
    },
    {
      "cell_type": "code",
      "execution_count": 9,
      "metadata": {
        "colab": {
          "base_uri": "https://localhost:8080/"
        },
        "id": "8_HIerXQzLzX",
        "outputId": "62ec1349-76e4-42db-83e6-073b81b0923c"
      },
      "outputs": [
        {
          "data": {
            "text/plain": [
              "0.7071067811865476"
            ]
          },
          "execution_count": 9,
          "metadata": {
            "tags": []
          },
          "output_type": "execute_result"
        }
      ],
      "source": [
        "math.cos(math.pi/4)"
      ]
    },
    {
      "cell_type": "code",
      "execution_count": 10,
      "metadata": {
        "colab": {
          "base_uri": "https://localhost:8080/"
        },
        "id": "NB-cbyqdzRXs",
        "outputId": "abb84c8b-f873-4a00-dff3-dcbc1dbcb1bf"
      },
      "outputs": [
        {
          "data": {
            "text/plain": [
              "1.7320508075688767"
            ]
          },
          "execution_count": 10,
          "metadata": {
            "tags": []
          },
          "output_type": "execute_result"
        }
      ],
      "source": [
        "math.tan(math.pi/3)"
      ]
    },
    {
      "cell_type": "code",
      "execution_count": 11,
      "metadata": {
        "colab": {
          "base_uri": "https://localhost:8080/"
        },
        "id": "IdZT_LIUzalY",
        "outputId": "96d1f3f4-0229-4eef-cbe4-216741e186b7"
      },
      "outputs": [
        {
          "data": {
            "text/plain": [
              "45.0"
            ]
          },
          "execution_count": 11,
          "metadata": {
            "tags": []
          },
          "output_type": "execute_result"
        }
      ],
      "source": [
        "math.degrees(math.pi/4)#convert from radian to degrees"
      ]
    },
    {
      "cell_type": "code",
      "execution_count": 12,
      "metadata": {
        "colab": {
          "base_uri": "https://localhost:8080/"
        },
        "id": "XmNuZWlMzZ_j",
        "outputId": "a699dbdb-222d-47fd-f017-b89eb444f862"
      },
      "outputs": [
        {
          "data": {
            "text/plain": [
              "180.0"
            ]
          },
          "execution_count": 12,
          "metadata": {
            "tags": []
          },
          "output_type": "execute_result"
        }
      ],
      "source": [
        "math.degrees(math.pi)"
      ]
    },
    {
      "cell_type": "code",
      "execution_count": 13,
      "metadata": {
        "colab": {
          "base_uri": "https://localhost:8080/"
        },
        "id": "HWTG97OTzljc",
        "outputId": "2170fcc5-66ea-4afc-8023-adea1a2fbf72"
      },
      "outputs": [
        {
          "data": {
            "text/plain": [
              "3.141592653589793"
            ]
          },
          "execution_count": 13,
          "metadata": {
            "tags": []
          },
          "output_type": "execute_result"
        }
      ],
      "source": [
        "math.radians(180)#convert from degrees to radians"
      ]
    },
    {
      "cell_type": "code",
      "execution_count": 14,
      "metadata": {
        "colab": {
          "base_uri": "https://localhost:8080/"
        },
        "id": "3IU3-3VMzqdu",
        "outputId": "1704f475-4257-42a6-d85c-e92cb262a4a3"
      },
      "outputs": [
        {
          "data": {
            "text/plain": [
              "0.7853981633974483"
            ]
          },
          "execution_count": 14,
          "metadata": {
            "tags": []
          },
          "output_type": "execute_result"
        }
      ],
      "source": [
        "math.radians(45)"
      ]
    },
    {
      "cell_type": "code",
      "execution_count": 21,
      "metadata": {
        "colab": {
          "base_uri": "https://localhost:8080/"
        },
        "id": "V1q2q4QZz1Gm",
        "outputId": "6d688170-9c4d-4445-d080-c610e724cdfc"
      },
      "outputs": [
        {
          "data": {
            "text/plain": [
              "0.3420201433256688"
            ]
          },
          "execution_count": 21,
          "metadata": {
            "tags": []
          },
          "output_type": "execute_result"
        }
      ],
      "source": [
        "math.cos(math.radians(70))"
      ]
    },
    {
      "cell_type": "code",
      "execution_count": 22,
      "metadata": {
        "colab": {
          "base_uri": "https://localhost:8080/"
        },
        "id": "amicKYWQ0j6P",
        "outputId": "1dfab164-2aca-4d01-870b-354fcb7aa505"
      },
      "outputs": [
        {
          "data": {
            "text/plain": [
              "5.0"
            ]
          },
          "execution_count": 22,
          "metadata": {
            "tags": []
          },
          "output_type": "execute_result"
        }
      ],
      "source": [
        "math.hypot(3,4) #Computes the Euclidean norm for the 2D vector (3, 4) sqrt(3^2 + 4^2)"
      ]
    },
    {
      "cell_type": "code",
      "execution_count": 25,
      "metadata": {
        "colab": {
          "base_uri": "https://localhost:8080/"
        },
        "id": "yQk4o-tD049l",
        "outputId": "96a503a6-f1be-40ff-b33f-ac46e2bdaa7a"
      },
      "outputs": [
        {
          "data": {
            "text/plain": [
              "2.718281828459045"
            ]
          },
          "execution_count": 25,
          "metadata": {
            "tags": []
          },
          "output_type": "execute_result"
        }
      ],
      "source": [
        "math.exp(1) #  e^1"
      ]
    },
    {
      "cell_type": "code",
      "execution_count": 6,
      "metadata": {
        "colab": {
          "base_uri": "https://localhost:8080/"
        },
        "id": "kwzMqokb1HMx",
        "outputId": "4afe7221-2ace-4206-bc32-6b434a8e9617"
      },
      "outputs": [
        {
          "data": {
            "text/plain": [
              "0.003"
            ]
          },
          "execution_count": 6,
          "metadata": {},
          "output_type": "execute_result"
        }
      ],
      "source": [
        "math.fabs(-0.003)# returns the absolute value of a number as a floating-point number."
      ]
    },
    {
      "cell_type": "code",
      "execution_count": 7,
      "metadata": {},
      "outputs": [
        {
          "data": {
            "text/plain": [
              "3.0"
            ]
          },
          "execution_count": 7,
          "metadata": {},
          "output_type": "execute_result"
        }
      ],
      "source": [
        "math.fabs(-3)"
      ]
    },
    {
      "cell_type": "code",
      "execution_count": 8,
      "metadata": {
        "colab": {
          "base_uri": "https://localhost:8080/"
        },
        "id": "Db-R_oFO1SP2",
        "outputId": "3d172059-1085-426b-f1e7-a1a92b68823b"
      },
      "outputs": [
        {
          "data": {
            "text/plain": [
              "0.003"
            ]
          },
          "execution_count": 8,
          "metadata": {},
          "output_type": "execute_result"
        }
      ],
      "source": [
        "abs(-0.003)"
      ]
    },
    {
      "cell_type": "code",
      "execution_count": 9,
      "metadata": {},
      "outputs": [
        {
          "data": {
            "text/plain": [
              "3"
            ]
          },
          "execution_count": 9,
          "metadata": {},
          "output_type": "execute_result"
        }
      ],
      "source": [
        "abs(-3)"
      ]
    },
    {
      "cell_type": "code",
      "execution_count": 10,
      "metadata": {
        "colab": {
          "base_uri": "https://localhost:8080/"
        },
        "id": "-XbvDx-c1WDb",
        "outputId": "9945de22-00e5-43fd-d9c3-f14c6964dcf4"
      },
      "outputs": [
        {
          "data": {
            "text/plain": [
              "True"
            ]
          },
          "execution_count": 10,
          "metadata": {},
          "output_type": "execute_result"
        }
      ],
      "source": [
        "abs(-0.003)==math.fabs(-0.003)"
      ]
    },
    {
      "cell_type": "code",
      "execution_count": 30,
      "metadata": {
        "colab": {
          "base_uri": "https://localhost:8080/"
        },
        "id": "mFfA6rNr1a9G",
        "outputId": "ce9d15da-978e-486b-d39b-99e435fb774b"
      },
      "outputs": [
        {
          "data": {
            "text/plain": [
              "6"
            ]
          },
          "execution_count": 30,
          "metadata": {
            "tags": []
          },
          "output_type": "execute_result"
        }
      ],
      "source": [
        "math.factorial(3)"
      ]
    },
    {
      "cell_type": "code",
      "execution_count": 13,
      "metadata": {
        "colab": {
          "base_uri": "https://localhost:8080/"
        },
        "id": "UXWdYB5y1kY3",
        "outputId": "f7f53318-441f-4313-c9d3-f05c763dae3c"
      },
      "outputs": [
        {
          "data": {
            "text/plain": [
              "17.0"
            ]
          },
          "execution_count": 13,
          "metadata": {},
          "output_type": "execute_result"
        }
      ],
      "source": [
        "math.fsum((2,4,5,6))#used to compute the sum of a sequence of floating-point numbers with higher precision than the built-in sum() function."
      ]
    },
    {
      "cell_type": "code",
      "execution_count": 33,
      "metadata": {
        "colab": {
          "base_uri": "https://localhost:8080/"
        },
        "id": "6tVH6ENM1y55",
        "outputId": "fc62e851-71f8-4e66-a34c-5ed5afe16dc8"
      },
      "outputs": [
        {
          "data": {
            "text/plain": [
              "2.0"
            ]
          },
          "execution_count": 33,
          "metadata": {
            "tags": []
          },
          "output_type": "execute_result"
        }
      ],
      "source": [
        "math.fmod(20,3)#remider in floating"
      ]
    },
    {
      "cell_type": "code",
      "execution_count": 35,
      "metadata": {
        "colab": {
          "base_uri": "https://localhost:8080/"
        },
        "id": "ElB7XCML2BNX",
        "outputId": "69cd815a-a225-434a-9378-3398df6554f7"
      },
      "outputs": [
        {
          "data": {
            "text/plain": [
              "2.302585092994046"
            ]
          },
          "execution_count": 35,
          "metadata": {
            "tags": []
          },
          "output_type": "execute_result"
        }
      ],
      "source": [
        "math.log(10)#natural logarithm (base e) of a given number"
      ]
    },
    {
      "cell_type": "code",
      "execution_count": 36,
      "metadata": {
        "colab": {
          "base_uri": "https://localhost:8080/"
        },
        "id": "BLkAgqef2aQc",
        "outputId": "90fed7c3-1412-4c24-fac8-f851205a2be2"
      },
      "outputs": [
        {
          "data": {
            "text/plain": [
              "10.000000000000002"
            ]
          },
          "execution_count": 36,
          "metadata": {
            "tags": []
          },
          "output_type": "execute_result"
        }
      ],
      "source": [
        "math.exp(2.302585092994046) # e^power"
      ]
    },
    {
      "cell_type": "code",
      "execution_count": 45,
      "metadata": {
        "colab": {
          "base_uri": "https://localhost:8080/"
        },
        "id": "opvbjHJY2zld",
        "outputId": "66796058-1b40-423e-c86d-8d99a8deac0d"
      },
      "outputs": [
        {
          "data": {
            "text/plain": [
              "3.0"
            ]
          },
          "execution_count": 45,
          "metadata": {
            "tags": []
          },
          "output_type": "execute_result"
        }
      ],
      "source": [
        "math.log2(8)#base 2"
      ]
    },
    {
      "cell_type": "code",
      "execution_count": 43,
      "metadata": {
        "colab": {
          "base_uri": "https://localhost:8080/"
        },
        "id": "qXNkMu3j3Mb2",
        "outputId": "21fd82b0-b03f-4a9d-b914-a873c2c6337a"
      },
      "outputs": [
        {
          "data": {
            "text/plain": [
              "3.0"
            ]
          },
          "execution_count": 43,
          "metadata": {
            "tags": []
          },
          "output_type": "execute_result"
        }
      ],
      "source": [
        "math.log(8,2)# (value , base )"
      ]
    },
    {
      "cell_type": "code",
      "execution_count": 46,
      "metadata": {
        "colab": {
          "base_uri": "https://localhost:8080/"
        },
        "id": "vqfuV4L43WTN",
        "outputId": "9a2a6965-d19d-4b90-b022-717e7e4b4523"
      },
      "outputs": [
        {
          "data": {
            "text/plain": [
              "2.0"
            ]
          },
          "execution_count": 46,
          "metadata": {
            "tags": []
          },
          "output_type": "execute_result"
        }
      ],
      "source": [
        "math.log10(100)#base 10"
      ]
    },
    {
      "cell_type": "code",
      "execution_count": 47,
      "metadata": {
        "colab": {
          "base_uri": "https://localhost:8080/"
        },
        "id": "ovtM-azg3b0A",
        "outputId": "7898ef33-9dc9-4bb3-eced-8b267b83446e"
      },
      "outputs": [
        {
          "data": {
            "text/plain": [
              "2.0"
            ]
          },
          "execution_count": 47,
          "metadata": {
            "tags": []
          },
          "output_type": "execute_result"
        }
      ],
      "source": [
        "math.log(100,10)"
      ]
    },
    {
      "cell_type": "code",
      "execution_count": 15,
      "metadata": {
        "id": "inEsFzKL3gPs"
      },
      "outputs": [
        {
          "data": {
            "text/plain": [
              "1.791759469228055"
            ]
          },
          "execution_count": 15,
          "metadata": {},
          "output_type": "execute_result"
        }
      ],
      "source": [
        "x = 5\n",
        "math.log1p(x) #to compute the natural logarithm of 1 + x (i.e., ln(1+x)). This function is particularly useful when x is very small, as it provides better accuracy than computing math.log(1 + x) directly."
      ]
    },
    {
      "cell_type": "code",
      "execution_count": 16,
      "metadata": {
        "colab": {
          "base_uri": "https://localhost:8080/"
        },
        "id": "nIblKkD73n9t",
        "outputId": "9fa927ba-b8e4-41f8-9c77-fe1d7c0e351b"
      },
      "outputs": [
        {
          "data": {
            "text/plain": [
              "1.0"
            ]
          },
          "execution_count": 16,
          "metadata": {},
          "output_type": "execute_result"
        }
      ],
      "source": [
        "math.log(2.718281828459045)"
      ]
    },
    {
      "cell_type": "code",
      "execution_count": 17,
      "metadata": {
        "colab": {
          "base_uri": "https://localhost:8080/"
        },
        "id": "65qqiccL36qL",
        "outputId": "a11da72a-cc39-4052-dc04-ac226293340d"
      },
      "outputs": [
        {
          "data": {
            "text/plain": [
              "1.0"
            ]
          },
          "execution_count": 17,
          "metadata": {},
          "output_type": "execute_result"
        }
      ],
      "source": [
        "math.log1p(1.718281828459045)"
      ]
    },
    {
      "cell_type": "code",
      "execution_count": 18,
      "metadata": {
        "colab": {
          "base_uri": "https://localhost:8080/"
        },
        "id": "qjiLGAYa4ui2",
        "outputId": "5b9fbb2b-79e9-43a8-a514-e77caf30a211"
      },
      "outputs": [
        {
          "data": {
            "text/plain": [
              "-5.5"
            ]
          },
          "execution_count": 18,
          "metadata": {},
          "output_type": "execute_result"
        }
      ],
      "source": [
        "math.copysign(5.5,-10)#take the sign of the second number and multiply it with the first number"
      ]
    },
    {
      "cell_type": "code",
      "execution_count": 55,
      "metadata": {
        "colab": {
          "base_uri": "https://localhost:8080/"
        },
        "id": "3VPjgdir49XD",
        "outputId": "788189ca-074e-47ae-e704-9dd34f2618b4"
      },
      "outputs": [
        {
          "data": {
            "text/plain": [
              "15"
            ]
          },
          "execution_count": 55,
          "metadata": {
            "tags": []
          },
          "output_type": "execute_result"
        }
      ],
      "source": [
        "math.gcd(15,30)#function is intended to compute the greatest common divisor (GCD) of two integers. "
      ]
    },
    {
      "cell_type": "code",
      "execution_count": 19,
      "metadata": {
        "id": "4KkvORg984t5"
      },
      "outputs": [],
      "source": [
        "# this function take a number and get the all divisors\n",
        "def get_divisors(n):\n",
        "  f=[]\n",
        "  for i in range(1, int(n / 2) + 1):\n",
        "        if n % i == 0: \n",
        "          f.append(i)   \n",
        "  return f"
      ]
    },
    {
      "cell_type": "code",
      "execution_count": 20,
      "metadata": {
        "colab": {
          "base_uri": "https://localhost:8080/"
        },
        "id": "SR2iK4Cl89LD",
        "outputId": "50957f83-06a9-4c72-840d-b1108e5a71e9"
      },
      "outputs": [
        {
          "data": {
            "text/plain": [
              "[1, 2, 4, 5, 10, 20, 25, 50]"
            ]
          },
          "execution_count": 20,
          "metadata": {},
          "output_type": "execute_result"
        }
      ],
      "source": [
        "get_divisors(100)"
      ]
    },
    {
      "cell_type": "code",
      "execution_count": 90,
      "metadata": {
        "colab": {
          "base_uri": "https://localhost:8080/"
        },
        "id": "3XOJlr97-dj-",
        "outputId": "dc2cac71-1313-4a0f-cbce-d5d17b989a4a"
      },
      "outputs": [
        {
          "data": {
            "text/plain": [
              "32.0"
            ]
          },
          "execution_count": 90,
          "metadata": {
            "tags": []
          },
          "output_type": "execute_result"
        }
      ],
      "source": [
        "math.pow(2,5)"
      ]
    },
    {
      "cell_type": "code",
      "execution_count": 92,
      "metadata": {
        "colab": {
          "base_uri": "https://localhost:8080/"
        },
        "id": "UDLI6kdV_01r",
        "outputId": "e3fd4e68-a9d9-451c-ecb3-9600bde4aa4d"
      },
      "outputs": [
        {
          "data": {
            "text/plain": [
              "1.0"
            ]
          },
          "execution_count": 92,
          "metadata": {
            "tags": []
          },
          "output_type": "execute_result"
        }
      ],
      "source": [
        "math.pow(1,5)"
      ]
    },
    {
      "cell_type": "code",
      "execution_count": 91,
      "metadata": {
        "colab": {
          "base_uri": "https://localhost:8080/"
        },
        "id": "IMJqaBVr_1-V",
        "outputId": "61767c6a-0ccc-4ed7-970e-684b75fa24ed"
      },
      "outputs": [
        {
          "data": {
            "text/plain": [
              "1.0"
            ]
          },
          "execution_count": 91,
          "metadata": {
            "tags": []
          },
          "output_type": "execute_result"
        }
      ],
      "source": [
        "math.pow(100,0)"
      ]
    },
    {
      "cell_type": "code",
      "execution_count": 93,
      "metadata": {
        "colab": {
          "base_uri": "https://localhost:8080/"
        },
        "id": "0hk6e0pj_5et",
        "outputId": "c83846a4-b6cc-4cb0-c800-e671692c5b0a"
      },
      "outputs": [
        {
          "data": {
            "text/plain": [
              "0.0"
            ]
          },
          "execution_count": 93,
          "metadata": {
            "tags": []
          },
          "output_type": "execute_result"
        }
      ],
      "source": [
        "math.pow(0,100)"
      ]
    },
    {
      "cell_type": "code",
      "execution_count": 96,
      "metadata": {
        "colab": {
          "base_uri": "https://localhost:8080/"
        },
        "id": "NgZIHVKs_9jZ",
        "outputId": "3442e330-639d-4650-cd5e-35ca3563038c"
      },
      "outputs": [
        {
          "data": {
            "text/plain": [
              "32"
            ]
          },
          "execution_count": 96,
          "metadata": {
            "tags": []
          },
          "output_type": "execute_result"
        }
      ],
      "source": [
        "2**5"
      ]
    },
    {
      "cell_type": "code",
      "execution_count": 21,
      "metadata": {
        "colab": {
          "base_uri": "https://localhost:8080/"
        },
        "id": "6FiZAM5zAQ41",
        "outputId": "c8aa6b80-0cf9-48ea-be7a-558423dfb06a"
      },
      "outputs": [
        {
          "data": {
            "text/plain": [
              "32"
            ]
          },
          "execution_count": 21,
          "metadata": {},
          "output_type": "execute_result"
        }
      ],
      "source": [
        "#built in function in python similar to math.pow()\n",
        "pow(2,5)##2**5/5##math.pow(2,5) "
      ]
    },
    {
      "cell_type": "code",
      "execution_count": 29,
      "metadata": {
        "colab": {
          "base_uri": "https://localhost:8080/"
        },
        "id": "_nY8mBcRBLYH",
        "outputId": "a1933446-42c9-4a15-9ba1-4c1e708e52f6"
      },
      "outputs": [
        {
          "data": {
            "text/plain": [
              "0.6297170000034384"
            ]
          },
          "execution_count": 29,
          "metadata": {},
          "output_type": "execute_result"
        }
      ],
      "source": [
        "#timeit is a module in Python's standard library that provides a simple way to time small bits of Python code. \n",
        "import timeit\n",
        "\"\"\" function is used to measure the execution time of a small piece of code. In your example, you are measuring the time it takes to compute 10**300. \n",
        "The globals=globals() argument allows the code to access the global namespace, which is necessary if the code snippet relies on global variables or functions.\"\"\"\n",
        "timeit.timeit(\"10**300\",globals=globals())"
      ]
    },
    {
      "cell_type": "code",
      "execution_count": 37,
      "metadata": {
        "colab": {
          "base_uri": "https://localhost:8080/"
        },
        "id": "z9elllYwBcDF",
        "outputId": "dc593878-ff37-40ed-c09a-ce44208343cb"
      },
      "outputs": [
        {
          "data": {
            "text/plain": [
              "0.6532481000031112"
            ]
          },
          "execution_count": 37,
          "metadata": {},
          "output_type": "execute_result"
        }
      ],
      "source": [
        "timeit.timeit(\"pow(10,300)\",globals=globals())"
      ]
    },
    {
      "cell_type": "code",
      "execution_count": 44,
      "metadata": {
        "colab": {
          "base_uri": "https://localhost:8080/"
        },
        "id": "oWVcNxItBvQb",
        "outputId": "331d0530-4456-4a16-d3e0-6ca50a11f59b"
      },
      "outputs": [
        {
          "data": {
            "text/plain": [
              "0.1154102000000421"
            ]
          },
          "execution_count": 44,
          "metadata": {},
          "output_type": "execute_result"
        }
      ],
      "source": [
        "timeit.timeit(\"math.pow(10,300)\",setup=\"import math\")"
      ]
    },
    {
      "cell_type": "code",
      "execution_count": 45,
      "metadata": {
        "colab": {
          "base_uri": "https://localhost:8080/"
        },
        "id": "SLFWAtHsCLRi",
        "outputId": "42fd60f2-736c-44de-cfa0-7f53381973c7"
      },
      "outputs": [
        {
          "data": {
            "text/plain": [
              "10.0"
            ]
          },
          "execution_count": 45,
          "metadata": {},
          "output_type": "execute_result"
        }
      ],
      "source": [
        "math.sqrt(100)"
      ]
    },
    {
      "cell_type": "code",
      "execution_count": 46,
      "metadata": {
        "colab": {
          "base_uri": "https://localhost:8080/"
        },
        "id": "jItddo9sCqdD",
        "outputId": "171ceee5-aef0-4093-a83b-a36b71444f3d"
      },
      "outputs": [
        {
          "data": {
            "text/plain": [
              "(2+3j)"
            ]
          },
          "execution_count": 46,
          "metadata": {},
          "output_type": "execute_result"
        }
      ],
      "source": [
        "import cmath #The cmath module provides functions to work with complex numbers.\n",
        "c=2+3j\n",
        "c"
      ]
    },
    {
      "cell_type": "code",
      "execution_count": 47,
      "metadata": {
        "colab": {
          "base_uri": "https://localhost:8080/"
        },
        "id": "bq8XBp_VC_1e",
        "outputId": "62929bb3-73fd-4ddb-ec88-03fb528cd7b4"
      },
      "outputs": [
        {
          "data": {
            "text/plain": [
              "complex"
            ]
          },
          "execution_count": 47,
          "metadata": {},
          "output_type": "execute_result"
        }
      ],
      "source": [
        "type(c)"
      ]
    },
    {
      "cell_type": "code",
      "execution_count": 48,
      "metadata": {
        "colab": {
          "base_uri": "https://localhost:8080/"
        },
        "id": "nTXxYOQlDD_0",
        "outputId": "b0a2222b-8a33-4b6b-e177-956dbfe218a8"
      },
      "outputs": [
        {
          "data": {
            "text/plain": [
              "(1.6741492280355401+0.8959774761298381j)"
            ]
          },
          "execution_count": 48,
          "metadata": {},
          "output_type": "execute_result"
        }
      ],
      "source": [
        "cmath.sqrt(c)"
      ]
    },
    {
      "cell_type": "code",
      "execution_count": 115,
      "metadata": {
        "colab": {
          "base_uri": "https://localhost:8080/"
        },
        "id": "ie09CBsVDKwm",
        "outputId": "faf15e24-41bd-405a-86e6-f2f33ffac0be"
      },
      "outputs": [
        {
          "data": {
            "text/plain": [
              "(1.850219859070546+1.417871630745722j)"
            ]
          },
          "execution_count": 115,
          "metadata": {
            "tags": []
          },
          "output_type": "execute_result"
        }
      ],
      "source": [
        "cmath.log(c,2)"
      ]
    },
    {
      "cell_type": "code",
      "execution_count": 116,
      "metadata": {
        "colab": {
          "base_uri": "https://localhost:8080/"
        },
        "id": "EQADGLTRDYgs",
        "outputId": "3fe1f993-f947-408f-e053-e9f9230517e8"
      },
      "outputs": [
        {
          "data": {
            "text/plain": [
              "(-7.315110094901103+1.0427436562359045j)"
            ]
          },
          "execution_count": 116,
          "metadata": {
            "tags": []
          },
          "output_type": "execute_result"
        }
      ],
      "source": [
        "cmath.exp(c)"
      ]
    },
    {
      "cell_type": "code",
      "execution_count": 51,
      "metadata": {},
      "outputs": [
        {
          "name": "stdout",
          "output_type": "stream",
          "text": [
            "Magnitude of c: 3.605551275463989\n",
            "Phase of c: 0.982793723247329 radians\n",
            "Real part of c: 2.0\n",
            "Imaginary part of c: 3.0\n",
            "Addition: (3+5j)\n",
            "Subtraction: (1+1j)\n",
            "Multiplication: (-4+7j)\n",
            "Division: (1.6-0.2j)\n",
            "Exponential of c: (-7.315110094901103+1.0427436562359045j)\n",
            "Natural logarithm of c: (1.2824746787307684+0.982793723247329j)\n",
            "Logarithm base 10 of c: (0.5569716761534184+0.42682189085546657j)\n",
            "Polar form of c: (3.605551275463989, 0.982793723247329)\n",
            "Rectangular form of c: (2+2.9999999999999996j)\n"
          ]
        }
      ],
      "source": [
        "import cmath\n",
        "\n",
        "c = 2 + 3j\n",
        "\n",
        "# Basic operations\n",
        "magnitude = abs(c)\n",
        "phase = cmath.phase(c)\n",
        "real_part = c.real\n",
        "imag_part = c.imag\n",
        "\n",
        "print(f\"Magnitude of c: {magnitude}\")\n",
        "print(f\"Phase of c: {phase} radians\")\n",
        "print(f\"Real part of c: {real_part}\")\n",
        "print(f\"Imaginary part of c: {imag_part}\")\n",
        "\n",
        "# Mathematical operations\n",
        "c_add = c + (1 + 2j)\n",
        "c_sub = c - (1 + 2j)\n",
        "c_mul = c * (1 + 2j)\n",
        "c_div = c / (1 + 2j)\n",
        "\n",
        "print(f\"Addition: {c_add}\")\n",
        "print(f\"Subtraction: {c_sub}\")\n",
        "print(f\"Multiplication: {c_mul}\")\n",
        "print(f\"Division: {c_div}\")\n",
        "\n",
        "\n",
        "\n",
        "# Exponential and logarithmic functions\n",
        "exp = cmath.exp(c)\n",
        "log = cmath.log(c)\n",
        "log10 = cmath.log10(c)\n",
        "\n",
        "print(f\"Exponential of c: {exp}\")\n",
        "print(f\"Natural logarithm of c: {log}\")\n",
        "print(f\"Logarithm base 10 of c: {log10}\")\n",
        "\n",
        "# Polar and rectangular conversion\n",
        "polar = cmath.polar(c)\n",
        "rectangular = cmath.rect(magnitude, phase)\n",
        "\n",
        "print(f\"Polar form of c: {polar}\")\n",
        "print(f\"Rectangular form of c: {rectangular}\")"
      ]
    },
    {
      "cell_type": "code",
      "execution_count": 53,
      "metadata": {
        "colab": {
          "base_uri": "https://localhost:8080/"
        },
        "id": "bukXfgQ_ERYs",
        "outputId": "52a6603a-2a59-4d15-9dd6-aa358f704ee1"
      },
      "outputs": [
        {
          "data": {
            "text/plain": [
              "numpy.ndarray"
            ]
          },
          "execution_count": 53,
          "metadata": {},
          "output_type": "execute_result"
        }
      ],
      "source": [
        "import numpy as np\n",
        "a=np.array([1,2,3,4])\n",
        "type(a)"
      ]
    },
    {
      "cell_type": "code",
      "execution_count": 54,
      "metadata": {
        "colab": {
          "base_uri": "https://localhost:8080/"
        },
        "id": "U4GfXTYfE1ca",
        "outputId": "19f6c729-0bb6-4eaf-f0d5-3a6475ada9bf"
      },
      "outputs": [
        {
          "name": "stdout",
          "output_type": "stream",
          "text": [
            "[1 2 3 4]\n"
          ]
        }
      ],
      "source": [
        "print(a)"
      ]
    },
    {
      "cell_type": "code",
      "execution_count": 55,
      "metadata": {
        "colab": {
          "base_uri": "https://localhost:8080/"
        },
        "id": "Z06TEwgREk34",
        "outputId": "6dc91e41-526b-4fe5-f9ea-d6e714139cb6"
      },
      "outputs": [
        {
          "data": {
            "text/plain": [
              "(4,)"
            ]
          },
          "execution_count": 55,
          "metadata": {},
          "output_type": "execute_result"
        }
      ],
      "source": [
        "a.shape"
      ]
    },
    {
      "cell_type": "code",
      "execution_count": 56,
      "metadata": {
        "colab": {
          "base_uri": "https://localhost:8080/"
        },
        "id": "Y_TnitxdEu0R",
        "outputId": "737f3516-7083-41a8-a4d8-ac3d38107f65"
      },
      "outputs": [
        {
          "data": {
            "text/plain": [
              "list"
            ]
          },
          "execution_count": 56,
          "metadata": {},
          "output_type": "execute_result"
        }
      ],
      "source": [
        "b=[1,2,3,4]\n",
        "type(b)"
      ]
    },
    {
      "cell_type": "code",
      "execution_count": 57,
      "metadata": {
        "colab": {
          "base_uri": "https://localhost:8080/"
        },
        "id": "8hl3pqTdFAIb",
        "outputId": "0244bf70-14af-4794-d51e-e128bbb72ee2"
      },
      "outputs": [
        {
          "name": "stdout",
          "output_type": "stream",
          "text": [
            "[1, 2, 3, 4]\n"
          ]
        }
      ],
      "source": [
        "print(b)"
      ]
    },
    {
      "cell_type": "code",
      "execution_count": 58,
      "metadata": {
        "colab": {
          "base_uri": "https://localhost:8080/"
        },
        "id": "xYhSbvTPFEyb",
        "outputId": "85894319-d542-43f9-dccd-281b59dc3674"
      },
      "outputs": [
        {
          "name": "stdout",
          "output_type": "stream",
          "text": [
            "[[1 2 4]\n",
            " [4 5 6]]\n"
          ]
        }
      ],
      "source": [
        "A=np.array([[1,2,4],[4,5,6]])\n",
        "print(A)"
      ]
    },
    {
      "cell_type": "code",
      "execution_count": 59,
      "metadata": {
        "colab": {
          "base_uri": "https://localhost:8080/"
        },
        "id": "_sCsGo9dFRtC",
        "outputId": "993adb26-3b8d-47ae-a581-66b8f5261750"
      },
      "outputs": [
        {
          "name": "stdout",
          "output_type": "stream",
          "text": [
            " type :  <class 'numpy.ndarray'>\n",
            " Dim :  2\n",
            " Shape :  (2, 3)\n"
          ]
        }
      ],
      "source": [
        "print(\" type : \",type(A))\n",
        "print(\" Dim : \",A.ndim)\n",
        "print(\" Shape : \",A.shape)"
      ]
    },
    {
      "cell_type": "code",
      "execution_count": 60,
      "metadata": {
        "colab": {
          "base_uri": "https://localhost:8080/"
        },
        "id": "PUgJtDBhFXmc",
        "outputId": "671573ec-bad8-45ed-93a1-95b3462f904c"
      },
      "outputs": [
        {
          "data": {
            "text/plain": [
              "2"
            ]
          },
          "execution_count": 60,
          "metadata": {},
          "output_type": "execute_result"
        }
      ],
      "source": [
        "A.ndim"
      ]
    },
    {
      "cell_type": "code",
      "execution_count": 61,
      "metadata": {
        "colab": {
          "base_uri": "https://localhost:8080/"
        },
        "id": "U7rtFV68Fa9p",
        "outputId": "cb1d2d83-2637-469e-f8e4-e823fb767e19"
      },
      "outputs": [
        {
          "data": {
            "text/plain": [
              "(2, 3)"
            ]
          },
          "execution_count": 61,
          "metadata": {},
          "output_type": "execute_result"
        }
      ],
      "source": [
        "A.shape"
      ]
    },
    {
      "cell_type": "code",
      "execution_count": 62,
      "metadata": {
        "colab": {
          "base_uri": "https://localhost:8080/"
        },
        "id": "III06ew_FwUk",
        "outputId": "d8f51105-f11f-419a-adfc-8ebe5e2828a5"
      },
      "outputs": [
        {
          "data": {
            "text/plain": [
              "array([0., 0., 0., 0., 0.])"
            ]
          },
          "execution_count": 62,
          "metadata": {},
          "output_type": "execute_result"
        }
      ],
      "source": [
        "A=np.zeros(5)\n",
        "A"
      ]
    },
    {
      "cell_type": "code",
      "execution_count": 63,
      "metadata": {
        "colab": {
          "base_uri": "https://localhost:8080/"
        },
        "id": "0hTKK2vVF7zC",
        "outputId": "1da28b69-9818-4536-f0f7-e8fbfb99f0a1"
      },
      "outputs": [
        {
          "data": {
            "text/plain": [
              "array([[0., 0.],\n",
              "       [0., 0.],\n",
              "       [0., 0.]])"
            ]
          },
          "execution_count": 63,
          "metadata": {},
          "output_type": "execute_result"
        }
      ],
      "source": [
        "B=np.zeros((3,2))\n",
        "B"
      ]
    },
    {
      "cell_type": "code",
      "execution_count": 64,
      "metadata": {
        "colab": {
          "base_uri": "https://localhost:8080/"
        },
        "id": "XO8kj2d1GGLm",
        "outputId": "dd82d550-16c8-4b19-d79c-6dc614f04eea"
      },
      "outputs": [
        {
          "name": "stdout",
          "output_type": "stream",
          "text": [
            "(2, 3)\n"
          ]
        },
        {
          "data": {
            "text/plain": [
              "array([[0, 0, 0],\n",
              "       [0, 0, 0]])"
            ]
          },
          "execution_count": 64,
          "metadata": {},
          "output_type": "execute_result"
        }
      ],
      "source": [
        "A=np.array([[1,2,4],[4,5,6]])\n",
        "print(A.shape)\n",
        "C=np.zeros_like(A)\n",
        "C"
      ]
    },
    {
      "cell_type": "code",
      "execution_count": 65,
      "metadata": {
        "colab": {
          "base_uri": "https://localhost:8080/"
        },
        "id": "Ied0nI97HC29",
        "outputId": "82eda34b-5bc2-44de-8750-af3c029e5321"
      },
      "outputs": [
        {
          "data": {
            "text/plain": [
              "array([1., 1., 1., 1., 1.])"
            ]
          },
          "execution_count": 65,
          "metadata": {},
          "output_type": "execute_result"
        }
      ],
      "source": [
        "a=np.ones(5)\n",
        "a"
      ]
    },
    {
      "cell_type": "code",
      "execution_count": 66,
      "metadata": {
        "colab": {
          "base_uri": "https://localhost:8080/"
        },
        "id": "0KlGTzONHMtR",
        "outputId": "3f816676-bb63-4cf6-d14c-fe2b91beb13b"
      },
      "outputs": [
        {
          "data": {
            "text/plain": [
              "array([[1., 1., 1.],\n",
              "       [1., 1., 1.],\n",
              "       [1., 1., 1.]])"
            ]
          },
          "execution_count": 66,
          "metadata": {},
          "output_type": "execute_result"
        }
      ],
      "source": [
        "b=np.ones((3,3))\n",
        "b"
      ]
    },
    {
      "cell_type": "code",
      "execution_count": 67,
      "metadata": {
        "colab": {
          "base_uri": "https://localhost:8080/"
        },
        "id": "cFg5x78mHZpM",
        "outputId": "a09f0fbb-1324-4ce6-b234-f83e205e7c0a"
      },
      "outputs": [
        {
          "name": "stdout",
          "output_type": "stream",
          "text": [
            "(2, 3)\n"
          ]
        },
        {
          "data": {
            "text/plain": [
              "array([[1, 1, 1],\n",
              "       [1, 1, 1]])"
            ]
          },
          "execution_count": 67,
          "metadata": {},
          "output_type": "execute_result"
        }
      ],
      "source": [
        "A=np.array([[1,2,4],[4,5,6]])\n",
        "print(A.shape)\n",
        "C=np.ones_like(A)\n",
        "C"
      ]
    },
    {
      "cell_type": "code",
      "execution_count": 68,
      "metadata": {
        "colab": {
          "base_uri": "https://localhost:8080/"
        },
        "id": "--aqm5YVHlhf",
        "outputId": "a1822760-5aa5-4d1e-9b92-4e9da2af1a8e"
      },
      "outputs": [
        {
          "data": {
            "text/plain": [
              "array([ 0,  1,  2,  3,  4,  5,  6,  7,  8,  9, 10, 11])"
            ]
          },
          "execution_count": 68,
          "metadata": {},
          "output_type": "execute_result"
        }
      ],
      "source": [
        "a=np.arange(12)\n",
        "a"
      ]
    },
    {
      "cell_type": "code",
      "execution_count": 69,
      "metadata": {
        "colab": {
          "base_uri": "https://localhost:8080/"
        },
        "id": "rPAUMTICH0RK",
        "outputId": "70c06de6-7a15-43fd-f4c9-a7b517c068de"
      },
      "outputs": [
        {
          "data": {
            "text/plain": [
              "dtype('int32')"
            ]
          },
          "execution_count": 69,
          "metadata": {},
          "output_type": "execute_result"
        }
      ],
      "source": [
        "a=np.arange(0,40,8)\n",
        "a.dtype"
      ]
    },
    {
      "cell_type": "code",
      "execution_count": 70,
      "metadata": {},
      "outputs": [
        {
          "data": {
            "text/plain": [
              "array([ 0,  8, 16, 24, 32])"
            ]
          },
          "execution_count": 70,
          "metadata": {},
          "output_type": "execute_result"
        }
      ],
      "source": [
        "a"
      ]
    },
    {
      "cell_type": "code",
      "execution_count": 72,
      "metadata": {
        "colab": {
          "base_uri": "https://localhost:8080/"
        },
        "id": "jwnPekxmIN6l",
        "outputId": "0c2fa482-5fed-49db-bb82-da7a57602fd6"
      },
      "outputs": [
        {
          "name": "stdout",
          "output_type": "stream",
          "text": [
            "float64\n",
            "16\n"
          ]
        }
      ],
      "source": [
        "b=np.eye(4)\n",
        "print(b.dtype)\n",
        "print(b.size)"
      ]
    },
    {
      "cell_type": "code",
      "execution_count": 73,
      "metadata": {
        "colab": {
          "base_uri": "https://localhost:8080/"
        },
        "id": "qCqp4YD2Kb8R",
        "outputId": "b5ac2953-63af-4dcc-aab9-aaa0383eb569"
      },
      "outputs": [
        {
          "data": {
            "text/plain": [
              "array([0. , 0.1, 0.2, 0.3, 0.4, 0.5, 0.6, 0.7, 0.8, 0.9, 1. ])"
            ]
          },
          "execution_count": 73,
          "metadata": {},
          "output_type": "execute_result"
        }
      ],
      "source": [
        "A=np.linspace(0,1,11)\n",
        "A"
      ]
    },
    {
      "cell_type": "code",
      "execution_count": 74,
      "metadata": {
        "colab": {
          "base_uri": "https://localhost:8080/"
        },
        "id": "bfmyYo74LGu3",
        "outputId": "6e8a6bb8-e849-4170-ff3d-762920c5f3a0"
      },
      "outputs": [
        {
          "data": {
            "text/plain": [
              "array([0. , 0.5, 1. , 1.5, 2. , 2.5, 3. , 3.5, 4. , 4.5, 5. ])"
            ]
          },
          "execution_count": 74,
          "metadata": {},
          "output_type": "execute_result"
        }
      ],
      "source": [
        "A=np.linspace(0,5,11)\n",
        "A"
      ]
    },
    {
      "cell_type": "code",
      "execution_count": 75,
      "metadata": {
        "colab": {
          "base_uri": "https://localhost:8080/"
        },
        "id": "R_8B27hKLOU3",
        "outputId": "3561dfc7-2387-416e-fb29-f5d73582d732"
      },
      "outputs": [
        {
          "data": {
            "text/plain": [
              "1.0"
            ]
          },
          "execution_count": 75,
          "metadata": {},
          "output_type": "execute_result"
        }
      ],
      "source": [
        "A[2]"
      ]
    },
    {
      "cell_type": "code",
      "execution_count": 76,
      "metadata": {
        "colab": {
          "base_uri": "https://localhost:8080/"
        },
        "id": "Z3n3UDKjLYAS",
        "outputId": "6a4bd51a-d2c9-4074-86f3-f9cad28709ba"
      },
      "outputs": [
        {
          "data": {
            "text/plain": [
              "5.0"
            ]
          },
          "execution_count": 76,
          "metadata": {},
          "output_type": "execute_result"
        }
      ],
      "source": [
        "A[-1]"
      ]
    },
    {
      "cell_type": "code",
      "execution_count": 77,
      "metadata": {
        "colab": {
          "base_uri": "https://localhost:8080/"
        },
        "id": "7PV6ziiTLc-F",
        "outputId": "b19e1b57-0039-4f21-9a81-85465ee29274"
      },
      "outputs": [
        {
          "name": "stdout",
          "output_type": "stream",
          "text": [
            "2\n"
          ]
        },
        {
          "data": {
            "text/plain": [
              "array([[1, 2, 3],\n",
              "       [4, 5, 6],\n",
              "       [7, 8, 9]])"
            ]
          },
          "execution_count": 77,
          "metadata": {},
          "output_type": "execute_result"
        }
      ],
      "source": [
        "B=np.array([[1,2,3],[4,5,6],[7,8,9]])\n",
        "print(B.ndim)\n",
        "B"
      ]
    },
    {
      "cell_type": "code",
      "execution_count": 161,
      "metadata": {
        "colab": {
          "base_uri": "https://localhost:8080/"
        },
        "id": "T-MuKUXGLo0A",
        "outputId": "6cb342e1-c1bb-48ff-d45a-d2b9c66f96d1"
      },
      "outputs": [
        {
          "data": {
            "text/plain": [
              "6"
            ]
          },
          "execution_count": 161,
          "metadata": {
            "tags": []
          },
          "output_type": "execute_result"
        }
      ],
      "source": [
        "B[1,2]"
      ]
    },
    {
      "cell_type": "code",
      "execution_count": 78,
      "metadata": {
        "colab": {
          "base_uri": "https://localhost:8080/"
        },
        "id": "P2jWmTOpL3YV",
        "outputId": "ed54a999-38d5-4183-a22b-e3906150aa3f"
      },
      "outputs": [
        {
          "data": {
            "text/plain": [
              "9"
            ]
          },
          "execution_count": 78,
          "metadata": {},
          "output_type": "execute_result"
        }
      ],
      "source": [
        "B[-1,-1]"
      ]
    },
    {
      "cell_type": "code",
      "execution_count": 79,
      "metadata": {
        "colab": {
          "base_uri": "https://localhost:8080/"
        },
        "id": "Ks0SsbQkL-br",
        "outputId": "6c5fd390-b6c3-40c5-b84c-0054c49116cd"
      },
      "outputs": [
        {
          "data": {
            "text/plain": [
              "array([7, 8, 9])"
            ]
          },
          "execution_count": 79,
          "metadata": {},
          "output_type": "execute_result"
        }
      ],
      "source": [
        "B[2,:]"
      ]
    },
    {
      "cell_type": "code",
      "execution_count": 81,
      "metadata": {
        "colab": {
          "base_uri": "https://localhost:8080/"
        },
        "id": "8mzRaRGkMJHt",
        "outputId": "d3595601-7194-4719-edd1-693679c7f09e"
      },
      "outputs": [
        {
          "data": {
            "text/plain": [
              "1"
            ]
          },
          "execution_count": 81,
          "metadata": {},
          "output_type": "execute_result"
        }
      ],
      "source": [
        "Col=B[1,]\n",
        "Col.ndim\n"
      ]
    },
    {
      "cell_type": "code",
      "execution_count": 82,
      "metadata": {},
      "outputs": [
        {
          "data": {
            "text/plain": [
              "array([4, 5, 6])"
            ]
          },
          "execution_count": 82,
          "metadata": {},
          "output_type": "execute_result"
        }
      ],
      "source": [
        "Col"
      ]
    },
    {
      "cell_type": "code",
      "execution_count": 83,
      "metadata": {
        "colab": {
          "base_uri": "https://localhost:8080/"
        },
        "id": "S6ybE6oTNHMY",
        "outputId": "0f66a696-2f30-4340-be64-ef27ba68b6f9"
      },
      "outputs": [
        {
          "name": "stdout",
          "output_type": "stream",
          "text": [
            "2\n",
            "(4, 5)\n",
            "[[1 2 3 2 2]\n",
            " [4 5 6 4 4]\n",
            " [7 8 9 1 1]\n",
            " [4 5 3 1 1]]\n"
          ]
        }
      ],
      "source": [
        "B=np.array([[1,2,3,2,2],[4,5,6,4,4],[7,8,9,1,1],[4,5,3,1,1]])\n",
        "print(B.ndim)\n",
        "print(B.shape)\n",
        "print(B)"
      ]
    },
    {
      "cell_type": "code",
      "execution_count": 84,
      "metadata": {
        "colab": {
          "base_uri": "https://localhost:8080/"
        },
        "id": "edJFcMkPNeB5",
        "outputId": "ac2aa44f-80fb-4887-96e8-0a7e934ff097"
      },
      "outputs": [
        {
          "data": {
            "text/plain": [
              "array([[6, 4, 4],\n",
              "       [9, 1, 1]])"
            ]
          },
          "execution_count": 84,
          "metadata": {},
          "output_type": "execute_result"
        }
      ],
      "source": [
        "sub_b=B[1:3,2:5]\n",
        "sub_b"
      ]
    },
    {
      "cell_type": "code",
      "execution_count": 189,
      "metadata": {
        "colab": {
          "base_uri": "https://localhost:8080/"
        },
        "id": "T78DxFmEOYPa",
        "outputId": "d8162c34-18c7-4b1d-f7e1-ecad643945d9"
      },
      "outputs": [
        {
          "data": {
            "text/plain": [
              "array([[6, 4, 4],\n",
              "       [9, 1, 1],\n",
              "       [3, 1, 1]])"
            ]
          },
          "execution_count": 189,
          "metadata": {
            "tags": []
          },
          "output_type": "execute_result"
        }
      ],
      "source": [
        "sub_b=B[1:,2:]\n",
        "sub_b"
      ]
    },
    {
      "cell_type": "code",
      "execution_count": 85,
      "metadata": {
        "colab": {
          "base_uri": "https://localhost:8080/"
        },
        "id": "FbjAkWTZipSn",
        "outputId": "9fa1a0ed-fc3a-4c77-aa5c-b9bc5c71b0be"
      },
      "outputs": [
        {
          "name": "stdout",
          "output_type": "stream",
          "text": [
            "[[4 5 6 4 4]]\n"
          ]
        },
        {
          "data": {
            "text/plain": [
              "array([23])"
            ]
          },
          "execution_count": 85,
          "metadata": {},
          "output_type": "execute_result"
        }
      ],
      "source": [
        "B=np.array([[1,2,3,2,2],[4,5,6,4,4],[7,8,9,1,1],[4,5,3,1,1]])\n",
        "sub_b=B[1:2,:]\n",
        "print(sub_b)\n",
        "np.sum(sub_b,axis=1)"
      ]
    },
    {
      "cell_type": "code",
      "execution_count": 86,
      "metadata": {
        "colab": {
          "base_uri": "https://localhost:8080/"
        },
        "id": "806kIjRuOg0u",
        "outputId": "cf5c81a5-881d-4b83-c510-2c6726c62816"
      },
      "outputs": [
        {
          "data": {
            "text/plain": [
              "(1, 5)"
            ]
          },
          "execution_count": 86,
          "metadata": {},
          "output_type": "execute_result"
        }
      ],
      "source": [
        "sub_b.shape"
      ]
    },
    {
      "cell_type": "code",
      "execution_count": 87,
      "metadata": {
        "colab": {
          "base_uri": "https://localhost:8080/"
        },
        "id": "LQWFPbPxOudv",
        "outputId": "31c2dcba-8094-422a-9081-40dbfd5782c9"
      },
      "outputs": [
        {
          "name": "stdout",
          "output_type": "stream",
          "text": [
            "2\n",
            "(3, 3)\n",
            "[[1 1 1]\n",
            " [2 2 2]\n",
            " [3 3 3]]\n"
          ]
        }
      ],
      "source": [
        "x=np.array([1,1,1])\n",
        "y=np.array([2,2,2])\n",
        "z=np.array([3,3,3])\n",
        "vstack=np.vstack((x,y,z))\n",
        "print(vstack.ndim)\n",
        "print(vstack.shape)\n",
        "print(vstack)"
      ]
    },
    {
      "cell_type": "code",
      "execution_count": 89,
      "metadata": {
        "colab": {
          "base_uri": "https://localhost:8080/"
        },
        "id": "ZiGP_syPPYRW",
        "outputId": "378b3c4c-2903-4770-f9ae-3ac21ef6e5a6"
      },
      "outputs": [
        {
          "name": "stdout",
          "output_type": "stream",
          "text": [
            "1\n",
            "[1 1 1 2 2 2 3 3 3]\n"
          ]
        }
      ],
      "source": [
        "x=np.array([1,1,1])\n",
        "y=np.array([2,2,2])\n",
        "z=np.array([3,3,3])\n",
        "hstack=np.hstack((x,y,z))\n",
        "print(hstack.ndim)\n",
        "print(hstack)"
      ]
    },
    {
      "cell_type": "code",
      "execution_count": 90,
      "metadata": {
        "id": "RwYPHu-wPxij"
      },
      "outputs": [],
      "source": [
        "A=np.ones((2,2))\n",
        "B=2*np.ones((2,2))\n",
        "C=3*np.ones((2,2))\n",
        "D=4*np.ones((2,2))"
      ]
    },
    {
      "cell_type": "code",
      "execution_count": 91,
      "metadata": {
        "colab": {
          "base_uri": "https://localhost:8080/"
        },
        "id": "j4B9ef1UQCYQ",
        "outputId": "50483b62-31c1-4208-dd2f-d2509d5a2448"
      },
      "outputs": [
        {
          "data": {
            "text/plain": [
              "array([[1., 1., 2., 2.],\n",
              "       [1., 1., 2., 2.]])"
            ]
          },
          "execution_count": 91,
          "metadata": {},
          "output_type": "execute_result"
        }
      ],
      "source": [
        "A_B=np.hstack((A,B))\n",
        "A_B"
      ]
    },
    {
      "cell_type": "code",
      "execution_count": 92,
      "metadata": {
        "colab": {
          "base_uri": "https://localhost:8080/"
        },
        "id": "PmqowbyzQVjK",
        "outputId": "dd383174-b4f6-4db9-a3cd-3fce7430fab9"
      },
      "outputs": [
        {
          "data": {
            "text/plain": [
              "array([[3., 3., 4., 4.],\n",
              "       [3., 3., 4., 4.]])"
            ]
          },
          "execution_count": 92,
          "metadata": {},
          "output_type": "execute_result"
        }
      ],
      "source": [
        "C_D=np.hstack((C,D))\n",
        "C_D"
      ]
    },
    {
      "cell_type": "code",
      "execution_count": 93,
      "metadata": {
        "colab": {
          "base_uri": "https://localhost:8080/"
        },
        "id": "MV1ep94VQaWJ",
        "outputId": "abf0aca3-f802-419d-c7da-5099ae0047c2"
      },
      "outputs": [
        {
          "data": {
            "text/plain": [
              "array([[1., 1., 2., 2.],\n",
              "       [1., 1., 2., 2.],\n",
              "       [3., 3., 4., 4.],\n",
              "       [3., 3., 4., 4.]])"
            ]
          },
          "execution_count": 93,
          "metadata": {},
          "output_type": "execute_result"
        }
      ],
      "source": [
        "T=np.vstack((A_B,C_D))\n",
        "T"
      ]
    },
    {
      "cell_type": "code",
      "execution_count": 94,
      "metadata": {
        "id": "ZVC9xtrBQoaK"
      },
      "outputs": [],
      "source": [
        "a=np.array([1,2,3])\n",
        "b=np.array([1,0,-1])"
      ]
    },
    {
      "cell_type": "code",
      "execution_count": 95,
      "metadata": {
        "colab": {
          "base_uri": "https://localhost:8080/"
        },
        "id": "ZjFKi3O7X2pX",
        "outputId": "f28dd86c-57fb-4f87-e598-bdd961ad83f8"
      },
      "outputs": [
        {
          "data": {
            "text/plain": [
              "array([2, 2, 2])"
            ]
          },
          "execution_count": 95,
          "metadata": {},
          "output_type": "execute_result"
        }
      ],
      "source": [
        "c=a+b\n",
        "c"
      ]
    },
    {
      "cell_type": "code",
      "execution_count": 96,
      "metadata": {
        "colab": {
          "base_uri": "https://localhost:8080/"
        },
        "id": "MUU4O3OiX-Nf",
        "outputId": "ce7149f7-8f6c-4275-d50a-98c70d661d1d"
      },
      "outputs": [
        {
          "data": {
            "text/plain": [
              "array([0, 2, 4])"
            ]
          },
          "execution_count": 96,
          "metadata": {},
          "output_type": "execute_result"
        }
      ],
      "source": [
        "c=a-b\n",
        "c"
      ]
    },
    {
      "cell_type": "code",
      "execution_count": 97,
      "metadata": {
        "colab": {
          "base_uri": "https://localhost:8080/"
        },
        "id": "IWnI-JYOYBXV",
        "outputId": "9193d981-0974-4357-c1b6-b902ddeb42e1"
      },
      "outputs": [
        {
          "data": {
            "text/plain": [
              "array([ 1,  0, -3])"
            ]
          },
          "execution_count": 97,
          "metadata": {},
          "output_type": "execute_result"
        }
      ],
      "source": [
        "c=a*b\n",
        "c"
      ]
    },
    {
      "cell_type": "code",
      "execution_count": 98,
      "metadata": {
        "colab": {
          "base_uri": "https://localhost:8080/"
        },
        "id": "QCfo5HLxYGWx",
        "outputId": "f94c4f7b-c9a3-4618-a326-b0e9cfc5ec34"
      },
      "outputs": [
        {
          "data": {
            "text/plain": [
              "array([ 1.        ,  0.        , -0.33333333])"
            ]
          },
          "execution_count": 98,
          "metadata": {},
          "output_type": "execute_result"
        }
      ],
      "source": [
        "c=b/a\n",
        "c"
      ]
    },
    {
      "cell_type": "code",
      "execution_count": 99,
      "metadata": {
        "colab": {
          "base_uri": "https://localhost:8080/"
        },
        "id": "cjz5be6yYVIp",
        "outputId": "5dd4fcce-b463-413f-d807-e2c195ff7024"
      },
      "outputs": [
        {
          "data": {
            "text/plain": [
              "array([1, 4, 9])"
            ]
          },
          "execution_count": 99,
          "metadata": {},
          "output_type": "execute_result"
        }
      ],
      "source": [
        "a**2"
      ]
    },
    {
      "cell_type": "code",
      "execution_count": 100,
      "metadata": {
        "colab": {
          "base_uri": "https://localhost:8080/"
        },
        "id": "ZdKMsd9ZYeBQ",
        "outputId": "6536a5f9-f8c5-47e0-e288-4c284698a283"
      },
      "outputs": [
        {
          "name": "stdout",
          "output_type": "stream",
          "text": [
            "x [[ 3  1]\n",
            " [ 2 -1]]\n",
            "y [[ 2 -2]\n",
            " [ 5  1]]\n"
          ]
        },
        {
          "data": {
            "text/plain": [
              "array([[ 5, -1],\n",
              "       [ 7,  0]])"
            ]
          },
          "execution_count": 100,
          "metadata": {},
          "output_type": "execute_result"
        }
      ],
      "source": [
        "x=np.array([[3,1],[2,-1]])\n",
        "y=np.array([[2,-2],[5,1]])\n",
        "print(\"x\",x)\n",
        "print(\"y\",y)\n",
        "z=x+y\n",
        "z"
      ]
    },
    {
      "cell_type": "code",
      "execution_count": 101,
      "metadata": {
        "colab": {
          "base_uri": "https://localhost:8080/"
        },
        "id": "WHQdFU6RY5Hi",
        "outputId": "773e3557-c935-4132-ded3-1a9822222663"
      },
      "outputs": [
        {
          "data": {
            "text/plain": [
              "array([[ 6, -2],\n",
              "       [10, -1]])"
            ]
          },
          "execution_count": 101,
          "metadata": {},
          "output_type": "execute_result"
        }
      ],
      "source": [
        "z=x*y\n",
        "z"
      ]
    },
    {
      "cell_type": "code",
      "execution_count": 102,
      "metadata": {
        "colab": {
          "base_uri": "https://localhost:8080/"
        },
        "id": "mz_o3uFXY8Ie",
        "outputId": "829f85f0-4a38-4dc3-ad71-b5ef1e2533e2"
      },
      "outputs": [
        {
          "data": {
            "text/plain": [
              "array([[9, 1],\n",
              "       [4, 1]])"
            ]
          },
          "execution_count": 102,
          "metadata": {},
          "output_type": "execute_result"
        }
      ],
      "source": [
        "x**2"
      ]
    },
    {
      "cell_type": "code",
      "execution_count": 103,
      "metadata": {
        "colab": {
          "base_uri": "https://localhost:8080/"
        },
        "id": "1am7BwFSZBav",
        "outputId": "f027b727-7625-4361-966a-ca96f16ebde6"
      },
      "outputs": [
        {
          "data": {
            "text/plain": [
              "array([[11, -5],\n",
              "       [-1, -5]])"
            ]
          },
          "execution_count": 103,
          "metadata": {},
          "output_type": "execute_result"
        }
      ],
      "source": [
        "c=x@y\n",
        "c"
      ]
    },
    {
      "cell_type": "code",
      "execution_count": 104,
      "metadata": {
        "colab": {
          "base_uri": "https://localhost:8080/"
        },
        "id": "zGgCmbS7ZkO3",
        "outputId": "3f9551d6-e690-44f8-a89c-b46fec5da9f1"
      },
      "outputs": [
        {
          "data": {
            "text/plain": [
              "array([[11, -5],\n",
              "       [-1, -5]])"
            ]
          },
          "execution_count": 104,
          "metadata": {},
          "output_type": "execute_result"
        }
      ],
      "source": [
        "c=np.matmul(x,y)\n",
        "c"
      ]
    },
    {
      "cell_type": "code",
      "execution_count": 105,
      "metadata": {
        "colab": {
          "base_uri": "https://localhost:8080/"
        },
        "id": "pp5yuXzHZvV_",
        "outputId": "8aaf74fb-de78-41e8-e5b0-b47c6b998691"
      },
      "outputs": [
        {
          "data": {
            "text/plain": [
              "array([[11,  2],\n",
              "       [ 4,  3]])"
            ]
          },
          "execution_count": 105,
          "metadata": {},
          "output_type": "execute_result"
        }
      ],
      "source": [
        "x@x"
      ]
    },
    {
      "cell_type": "code",
      "execution_count": 106,
      "metadata": {
        "colab": {
          "base_uri": "https://localhost:8080/"
        },
        "id": "3h615_6gZ9Bc",
        "outputId": "b3ea049a-dae2-4676-a516-b26ce4a6ca60"
      },
      "outputs": [
        {
          "data": {
            "text/plain": [
              "array([[11,  2],\n",
              "       [ 4,  3]])"
            ]
          },
          "execution_count": 106,
          "metadata": {},
          "output_type": "execute_result"
        }
      ],
      "source": [
        "c=np.matmul(x,x)\n",
        "c"
      ]
    },
    {
      "cell_type": "code",
      "execution_count": 233,
      "metadata": {
        "colab": {
          "base_uri": "https://localhost:8080/"
        },
        "id": "wxtomv_EaGSn",
        "outputId": "18ff512d-bad0-4d19-8e5a-d573550219a9"
      },
      "outputs": [
        {
          "data": {
            "text/plain": [
              "array([[129,  28],\n",
              "       [ 56,  17]])"
            ]
          },
          "execution_count": 233,
          "metadata": {
            "tags": []
          },
          "output_type": "execute_result"
        }
      ],
      "source": [
        "from numpy.linalg import matrix_power as mpow\n",
        "mpow(x,4)#x@x@x@x"
      ]
    },
    {
      "cell_type": "code",
      "execution_count": 234,
      "metadata": {
        "colab": {
          "base_uri": "https://localhost:8080/"
        },
        "id": "fnffJg6UanoY",
        "outputId": "693525f5-b26c-42b7-91df-73a35ddb7b14"
      },
      "outputs": [
        {
          "data": {
            "text/plain": [
              "array([[129,  28],\n",
              "       [ 56,  17]])"
            ]
          },
          "execution_count": 234,
          "metadata": {
            "tags": []
          },
          "output_type": "execute_result"
        }
      ],
      "source": [
        "x@x@x@x"
      ]
    },
    {
      "cell_type": "code",
      "execution_count": 237,
      "metadata": {
        "colab": {
          "base_uri": "https://localhost:8080/"
        },
        "id": "5_s6d0Nta2DU",
        "outputId": "38f3f736-3dd1-491f-dcc5-1b12b81349bf"
      },
      "outputs": [
        {
          "data": {
            "text/plain": [
              "array([[10,  2,  5,  2]])"
            ]
          },
          "execution_count": 237,
          "metadata": {
            "tags": []
          },
          "output_type": "execute_result"
        }
      ],
      "source": [
        "x=np.array([[3,1,2,-1]])\n",
        "y=x**2+np.ones_like(x)\n",
        "y"
      ]
    },
    {
      "cell_type": "code",
      "execution_count": 246,
      "metadata": {
        "colab": {
          "base_uri": "https://localhost:8080/"
        },
        "id": "Ycm5nZORboM_",
        "outputId": "e538545b-f822-472b-e8e3-e84972caf87a"
      },
      "outputs": [
        {
          "data": {
            "text/plain": [
              "array([[2, 3, 4],\n",
              "       [3, 4, 5],\n",
              "       [4, 5, 6]])"
            ]
          },
          "execution_count": 246,
          "metadata": {
            "tags": []
          },
          "output_type": "execute_result"
        }
      ],
      "source": [
        "A=np.array([[1,1,1],[2,2,2],[3,3,3]])\n",
        "u=np.array([1,2,3])\n",
        "z=A+u\n",
        "z"
      ]
    },
    {
      "cell_type": "code",
      "execution_count": 248,
      "metadata": {
        "colab": {
          "base_uri": "https://localhost:8080/"
        },
        "id": "LJZoJQwdb7I9",
        "outputId": "029b3cb3-0599-4e06-f0e1-911b4ed21124"
      },
      "outputs": [
        {
          "data": {
            "text/plain": [
              "2.0"
            ]
          },
          "execution_count": 248,
          "metadata": {
            "tags": []
          },
          "output_type": "execute_result"
        }
      ],
      "source": [
        "np.mean(A)"
      ]
    },
    {
      "cell_type": "code",
      "execution_count": 249,
      "metadata": {
        "colab": {
          "base_uri": "https://localhost:8080/"
        },
        "id": "PbjhmVE-c0Zt",
        "outputId": "61caec9d-977c-4f4b-fffa-95b97099ffdf"
      },
      "outputs": [
        {
          "data": {
            "text/plain": [
              "2.0"
            ]
          },
          "execution_count": 249,
          "metadata": {
            "tags": []
          },
          "output_type": "execute_result"
        }
      ],
      "source": [
        "c=np.sum(A)/A.size\n",
        "c"
      ]
    },
    {
      "cell_type": "code",
      "execution_count": 263,
      "metadata": {
        "colab": {
          "base_uri": "https://localhost:8080/"
        },
        "id": "ryce1Mo2dDW8",
        "outputId": "e55a53fd-3f50-4d11-a215-5f942a94493c"
      },
      "outputs": [
        {
          "data": {
            "text/plain": [
              "1"
            ]
          },
          "execution_count": 263,
          "metadata": {
            "tags": []
          },
          "output_type": "execute_result"
        }
      ],
      "source": [
        "B=np.array([1,3,3,2,3,2])\n",
        "np.max(B)\n",
        "np.min(B)"
      ]
    },
    {
      "cell_type": "code",
      "execution_count": 264,
      "metadata": {
        "colab": {
          "base_uri": "https://localhost:8080/"
        },
        "id": "oj-xNqpQdXOC",
        "outputId": "db533b8a-38b0-40c1-bca0-6b5cab370044"
      },
      "outputs": [
        {
          "data": {
            "text/plain": [
              "1"
            ]
          },
          "execution_count": 264,
          "metadata": {
            "tags": []
          },
          "output_type": "execute_result"
        }
      ],
      "source": [
        "np.argmax(B)"
      ]
    },
    {
      "cell_type": "code",
      "execution_count": 265,
      "metadata": {
        "colab": {
          "base_uri": "https://localhost:8080/"
        },
        "id": "KRdUTgLCdgQo",
        "outputId": "055237d7-a514-4d2d-c481-e388f702b6f8"
      },
      "outputs": [
        {
          "data": {
            "text/plain": [
              "3"
            ]
          },
          "execution_count": 265,
          "metadata": {
            "tags": []
          },
          "output_type": "execute_result"
        }
      ],
      "source": [
        "B[np.argmax(B)]"
      ]
    },
    {
      "cell_type": "code",
      "execution_count": 266,
      "metadata": {
        "colab": {
          "base_uri": "https://localhost:8080/"
        },
        "id": "AZWnYKJ-eEXM",
        "outputId": "3aa5ecf0-b3ce-4ac2-8b0b-b28a46968e90"
      },
      "outputs": [
        {
          "data": {
            "text/plain": [
              "0"
            ]
          },
          "execution_count": 266,
          "metadata": {
            "tags": []
          },
          "output_type": "execute_result"
        }
      ],
      "source": [
        "np.argmin(B)"
      ]
    },
    {
      "cell_type": "code",
      "execution_count": 269,
      "metadata": {
        "colab": {
          "base_uri": "https://localhost:8080/"
        },
        "id": "U-GOYb71eUDj",
        "outputId": "acef9392-937d-47e6-d04f-03f47fa3a42e"
      },
      "outputs": [
        {
          "name": "stdout",
          "output_type": "stream",
          "text": [
            "[[1 2 3 2 2]\n",
            " [4 5 6 4 4]\n",
            " [7 8 9 1 1]\n",
            " [4 5 3 1 1]]\n"
          ]
        },
        {
          "data": {
            "text/plain": [
              "array([16, 20, 21,  8,  8])"
            ]
          },
          "execution_count": 269,
          "metadata": {
            "tags": []
          },
          "output_type": "execute_result"
        }
      ],
      "source": [
        "B=np.array([[1,2,3,2,2],[4,5,6,4,4],[7,8,9,1,1],[4,5,3,1,1]])\n",
        "print(B)\n",
        "np.sum(B,axis=0)"
      ]
    },
    {
      "cell_type": "code",
      "execution_count": 270,
      "metadata": {
        "colab": {
          "base_uri": "https://localhost:8080/"
        },
        "id": "U02fS5ppeloy",
        "outputId": "16143802-56c5-4cda-8b8b-ab6144ae7aaa"
      },
      "outputs": [
        {
          "data": {
            "text/plain": [
              "array([10, 23, 26, 14])"
            ]
          },
          "execution_count": 270,
          "metadata": {
            "tags": []
          },
          "output_type": "execute_result"
        }
      ],
      "source": [
        "np.sum(B,axis=1)"
      ]
    },
    {
      "cell_type": "code",
      "execution_count": 271,
      "metadata": {
        "colab": {
          "base_uri": "https://localhost:8080/"
        },
        "id": "sZopc5lHe7Aa",
        "outputId": "e7253df0-f436-4396-a6a3-f00ce30d8788"
      },
      "outputs": [
        {
          "data": {
            "text/plain": [
              "1393459200"
            ]
          },
          "execution_count": 271,
          "metadata": {
            "tags": []
          },
          "output_type": "execute_result"
        }
      ],
      "source": [
        "np.prod(B)"
      ]
    },
    {
      "cell_type": "code",
      "execution_count": 272,
      "metadata": {
        "colab": {
          "base_uri": "https://localhost:8080/"
        },
        "id": "_cEd7FvkfAd4",
        "outputId": "70d37a39-eacc-4295-b7d9-830db51ec9a5"
      },
      "outputs": [
        {
          "name": "stdout",
          "output_type": "stream",
          "text": [
            "[[1 2 3 2 2]\n",
            " [4 5 6 4 4]\n",
            " [7 8 9 1 1]\n",
            " [4 5 3 1 1]]\n"
          ]
        },
        {
          "data": {
            "text/plain": [
              "array([112, 400, 486,   8,   8])"
            ]
          },
          "execution_count": 272,
          "metadata": {
            "tags": []
          },
          "output_type": "execute_result"
        }
      ],
      "source": [
        "print(B)\n",
        "np.prod(B,axis=0)"
      ]
    },
    {
      "cell_type": "code",
      "execution_count": 273,
      "metadata": {
        "colab": {
          "base_uri": "https://localhost:8080/"
        },
        "id": "bJRjmy72fM35",
        "outputId": "dcae3b91-ab6f-4c2a-d3f7-987bb61e4fa7"
      },
      "outputs": [
        {
          "data": {
            "text/plain": [
              "array([  24, 1920,  504,   60])"
            ]
          },
          "execution_count": 273,
          "metadata": {
            "tags": []
          },
          "output_type": "execute_result"
        }
      ],
      "source": [
        "np.prod(B,axis=1)"
      ]
    },
    {
      "cell_type": "code",
      "execution_count": 288,
      "metadata": {
        "colab": {
          "base_uri": "https://localhost:8080/"
        },
        "id": "2tzKSkPnfZYQ",
        "outputId": "2ff21d09-c66b-4cb7-c4d6-e4b6385d4dd6"
      },
      "outputs": [
        {
          "data": {
            "text/plain": [
              "array([0.  , 0.25, 0.5 , 0.75, 1.  ])"
            ]
          },
          "execution_count": 288,
          "metadata": {
            "tags": []
          },
          "output_type": "execute_result"
        }
      ],
      "source": [
        "x=np.arange(0,1.25,0.25)\n",
        "x"
      ]
    },
    {
      "cell_type": "code",
      "execution_count": 282,
      "metadata": {
        "colab": {
          "base_uri": "https://localhost:8080/"
        },
        "id": "nCiBoJvLfnpJ",
        "outputId": "7df09d4f-a341-44a3-9d92-dc3c28db2320"
      },
      "outputs": [
        {
          "data": {
            "text/plain": [
              "array([0.  , 0.25, 0.5 , 0.75, 1.  , 1.25])"
            ]
          },
          "execution_count": 282,
          "metadata": {
            "tags": []
          },
          "output_type": "execute_result"
        }
      ],
      "source": [
        "#x=np.linspace(0,1.25,6)\n",
        "x"
      ]
    },
    {
      "cell_type": "code",
      "execution_count": 289,
      "metadata": {
        "colab": {
          "base_uri": "https://localhost:8080/"
        },
        "id": "zP6dsBpHgLIU",
        "outputId": "471c8b4f-1bdb-45a7-b42a-13060bf8ce55"
      },
      "outputs": [
        {
          "data": {
            "text/plain": [
              "array([ 0.0000000e+00,  1.0000000e+00,  1.2246468e-16, -1.0000000e+00,\n",
              "       -2.4492936e-16])"
            ]
          },
          "execution_count": 289,
          "metadata": {
            "tags": []
          },
          "output_type": "execute_result"
        }
      ],
      "source": [
        "y=np.sin(2*np.pi*x)# [0,1,0,-1,0]\n",
        "y"
      ]
    },
    {
      "cell_type": "code",
      "execution_count": 291,
      "metadata": {
        "colab": {
          "base_uri": "https://localhost:8080/"
        },
        "id": "xNTfXEBug665",
        "outputId": "e3f415ea-e5bf-4855-8376-1624dd693ac7"
      },
      "outputs": [
        {
          "name": "stdout",
          "output_type": "stream",
          "text": [
            "[0. 1. 2. 3.]\n"
          ]
        }
      ],
      "source": [
        "x=np.array([1,10,100,1000])\n",
        "print(np.log10(x))"
      ]
    },
    {
      "cell_type": "code",
      "execution_count": 313,
      "metadata": {
        "colab": {
          "base_uri": "https://localhost:8080/"
        },
        "id": "eM-V2n68mxQB",
        "outputId": "57fb555b-a386-4a51-c97f-9c24c3489d5c"
      },
      "outputs": [
        {
          "data": {
            "text/plain": [
              "array([0.40942781, 0.18033286, 0.06143926])"
            ]
          },
          "execution_count": 313,
          "metadata": {
            "tags": []
          },
          "output_type": "execute_result"
        }
      ],
      "source": [
        "x=np.random.rand(3)\n",
        "x.ndim\n",
        "x\n"
      ]
    },
    {
      "cell_type": "code",
      "execution_count": 314,
      "metadata": {
        "colab": {
          "base_uri": "https://localhost:8080/"
        },
        "id": "JF6xZBSNnU1n",
        "outputId": "a3a12842-df97-486a-c81b-8e407f37e8ad"
      },
      "outputs": [
        {
          "data": {
            "text/plain": [
              "array([[0.38898183, 0.26009859, 0.98639314, 0.55706614],\n",
              "       [0.52367826, 0.15829193, 0.39750846, 0.48488213],\n",
              "       [0.58681174, 0.18718694, 0.1240205 , 0.56349785]])"
            ]
          },
          "execution_count": 314,
          "metadata": {
            "tags": []
          },
          "output_type": "execute_result"
        }
      ],
      "source": [
        "x=np.random.rand(3,4)\n",
        "type(x)\n",
        "x"
      ]
    },
    {
      "cell_type": "code",
      "execution_count": 315,
      "metadata": {
        "colab": {
          "base_uri": "https://localhost:8080/"
        },
        "id": "cYlfziOXnemP",
        "outputId": "80cc3b71-0eaa-4f44-f1a4-0a43623a29bb"
      },
      "outputs": [
        {
          "data": {
            "text/plain": [
              "array([-0.57608878, -0.63938109,  2.17017406])"
            ]
          },
          "execution_count": 315,
          "metadata": {
            "tags": []
          },
          "output_type": "execute_result"
        }
      ],
      "source": [
        "x=np.random.randn(3)\n",
        "x.ndim\n",
        "x"
      ]
    },
    {
      "cell_type": "code",
      "execution_count": 316,
      "metadata": {
        "colab": {
          "base_uri": "https://localhost:8080/"
        },
        "id": "jQNkK31Dnpuj",
        "outputId": "05613715-0ab4-46c0-8952-5181b21cbf8b"
      },
      "outputs": [
        {
          "data": {
            "text/plain": [
              "array([[-1.28518063, -2.34551032, -0.32391604, -0.39327224],\n",
              "       [-0.84717417,  0.05731755,  0.00954094, -0.05243448],\n",
              "       [-0.74171521,  0.30663789,  0.53281984,  0.96146679]])"
            ]
          },
          "execution_count": 316,
          "metadata": {
            "tags": []
          },
          "output_type": "execute_result"
        }
      ],
      "source": [
        "x=np.random.randn(3,4)\n",
        "x.ndim\n",
        "x"
      ]
    },
    {
      "cell_type": "code",
      "execution_count": 322,
      "metadata": {
        "colab": {
          "base_uri": "https://localhost:8080/"
        },
        "id": "E4RmGu9tnvaX",
        "outputId": "5e9acfbe-04f9-4971-9d16-280815a2b031"
      },
      "outputs": [
        {
          "data": {
            "text/plain": [
              "-1"
            ]
          },
          "execution_count": 322,
          "metadata": {
            "tags": []
          },
          "output_type": "execute_result"
        }
      ],
      "source": [
        "x=np.random.randint(-10,10)\n",
        "x"
      ]
    },
    {
      "cell_type": "code",
      "execution_count": 326,
      "metadata": {
        "colab": {
          "base_uri": "https://localhost:8080/"
        },
        "id": "4KoINVvGoM1Q",
        "outputId": "27c42749-475e-4913-82da-9647478cce4e"
      },
      "outputs": [
        {
          "data": {
            "text/plain": [
              "array([[ 1,  3],\n",
              "       [-2,  5],\n",
              "       [ 3,  4]])"
            ]
          },
          "execution_count": 326,
          "metadata": {
            "tags": []
          },
          "output_type": "execute_result"
        }
      ],
      "source": [
        "x=np.random.randint(-3,6,(3,2))\n",
        "x"
      ]
    },
    {
      "cell_type": "code",
      "execution_count": 329,
      "metadata": {
        "colab": {
          "base_uri": "https://localhost:8080/"
        },
        "id": "bZu1bhrhopc7",
        "outputId": "cd023f8e-2b75-4ab7-dfaa-8afbe604b2de"
      },
      "outputs": [
        {
          "data": {
            "text/plain": [
              "array([1, 2, 3])"
            ]
          },
          "execution_count": 329,
          "metadata": {
            "tags": []
          },
          "output_type": "execute_result"
        }
      ],
      "source": [
        "A=np.array([1,2,3])\n",
        "A"
      ]
    },
    {
      "cell_type": "code",
      "execution_count": 330,
      "metadata": {
        "colab": {
          "base_uri": "https://localhost:8080/"
        },
        "id": "24nkTgapo0bL",
        "outputId": "18811837-1f6e-49d4-dfdd-2a0d68dc35d3"
      },
      "outputs": [
        {
          "data": {
            "text/plain": [
              "array([[1],\n",
              "       [2],\n",
              "       [3]])"
            ]
          },
          "execution_count": 330,
          "metadata": {
            "tags": []
          },
          "output_type": "execute_result"
        }
      ],
      "source": [
        "A.reshape(3,1)"
      ]
    },
    {
      "cell_type": "code",
      "execution_count": 333,
      "metadata": {
        "colab": {
          "base_uri": "https://localhost:8080/"
        },
        "id": "fDcWhscRo_Gb",
        "outputId": "249f800f-24ca-4ac2-8254-bef1f1dc8b90"
      },
      "outputs": [
        {
          "data": {
            "text/plain": [
              "array([[ 0,  1,  2],\n",
              "       [ 3,  4,  5],\n",
              "       [ 6,  7,  8],\n",
              "       [ 9, 10, 11]])"
            ]
          },
          "execution_count": 333,
          "metadata": {
            "tags": []
          },
          "output_type": "execute_result"
        }
      ],
      "source": [
        "x=np.arange(12).reshape(4,3)\n",
        "x"
      ]
    },
    {
      "cell_type": "code",
      "execution_count": 337,
      "metadata": {
        "colab": {
          "base_uri": "https://localhost:8080/"
        },
        "id": "ewRbHZO4pTuc",
        "outputId": "7caa2fb3-08ad-4f03-d214-9476249aac8c"
      },
      "outputs": [
        {
          "data": {
            "text/plain": [
              "array([[ 0,  1],\n",
              "       [ 2,  3],\n",
              "       [ 4,  5],\n",
              "       [ 6,  7],\n",
              "       [ 8,  9],\n",
              "       [10, 11]])"
            ]
          },
          "execution_count": 337,
          "metadata": {
            "tags": []
          },
          "output_type": "execute_result"
        }
      ],
      "source": [
        "x=np.arange(12).reshape(6,2)\n",
        "x"
      ]
    },
    {
      "cell_type": "code",
      "execution_count": 338,
      "metadata": {
        "colab": {
          "base_uri": "https://localhost:8080/"
        },
        "id": "HCPTwIq5pnDp",
        "outputId": "4ee3112e-e37c-4b9f-d882-ffbbd00d39b6"
      },
      "outputs": [
        {
          "data": {
            "text/plain": [
              "(4, 5)"
            ]
          },
          "execution_count": 338,
          "metadata": {
            "tags": []
          },
          "output_type": "execute_result"
        }
      ],
      "source": [
        "B=np.array([[1,2,3,2,2],[4,5,6,4,4],[7,8,9,1,1],[4,5,3,1,1]])\n",
        "B.shape"
      ]
    },
    {
      "cell_type": "code",
      "execution_count": 343,
      "metadata": {
        "colab": {
          "base_uri": "https://localhost:8080/"
        },
        "id": "CFVX_YY-prQR",
        "outputId": "f4b302ac-8bab-4b61-dbc9-5fb5aa6c2375"
      },
      "outputs": [
        {
          "data": {
            "text/plain": [
              "array([[1, 2],\n",
              "       [3, 2],\n",
              "       [2, 4],\n",
              "       [5, 6],\n",
              "       [4, 4],\n",
              "       [7, 8],\n",
              "       [9, 1],\n",
              "       [1, 4],\n",
              "       [5, 3],\n",
              "       [1, 1]])"
            ]
          },
          "execution_count": 343,
          "metadata": {
            "tags": []
          },
          "output_type": "execute_result"
        }
      ],
      "source": [
        "B.reshape(10,2)"
      ]
    },
    {
      "cell_type": "code",
      "execution_count": 344,
      "metadata": {
        "colab": {
          "base_uri": "https://localhost:8080/"
        },
        "id": "aQOA2Z2NqMI8",
        "outputId": "29d07a18-2142-45aa-f615-af9a63a4a9ce"
      },
      "outputs": [
        {
          "data": {
            "text/plain": [
              "array([[ 0,  1,  2],\n",
              "       [ 3,  4,  5],\n",
              "       [ 6,  7,  8],\n",
              "       [ 9, 10, 11]])"
            ]
          },
          "execution_count": 344,
          "metadata": {
            "tags": []
          },
          "output_type": "execute_result"
        }
      ],
      "source": [
        "x=np.arange(12).reshape(4,3)\n",
        "x"
      ]
    },
    {
      "cell_type": "code",
      "execution_count": 345,
      "metadata": {
        "colab": {
          "base_uri": "https://localhost:8080/"
        },
        "id": "LlSr_55BqNua",
        "outputId": "271e08f1-589b-4ade-a4e1-fca70009790e"
      },
      "outputs": [
        {
          "data": {
            "text/plain": [
              "array([[ 0,  3,  6,  9],\n",
              "       [ 1,  4,  7, 10],\n",
              "       [ 2,  5,  8, 11]])"
            ]
          },
          "execution_count": 345,
          "metadata": {
            "tags": []
          },
          "output_type": "execute_result"
        }
      ],
      "source": [
        "x.T"
      ]
    },
    {
      "cell_type": "code",
      "execution_count": 348,
      "metadata": {
        "colab": {
          "base_uri": "https://localhost:8080/"
        },
        "id": "yFi8A6DFqZtH",
        "outputId": "637ffe02-560f-4285-9bd4-123d039c2792"
      },
      "outputs": [
        {
          "name": "stdout",
          "output_type": "stream",
          "text": [
            "3\n"
          ]
        },
        {
          "data": {
            "text/plain": [
              "array([[[ 0,  1,  2,  3],\n",
              "        [ 4,  5,  6,  7],\n",
              "        [ 8,  9, 10, 11]],\n",
              "\n",
              "       [[12, 13, 14, 15],\n",
              "        [16, 17, 18, 19],\n",
              "        [20, 21, 22, 23]]])"
            ]
          },
          "execution_count": 348,
          "metadata": {
            "tags": []
          },
          "output_type": "execute_result"
        }
      ],
      "source": [
        "x=np.arange(24).reshape(2,3,4)\n",
        "print(x.ndim)\n",
        "x"
      ]
    },
    {
      "cell_type": "code",
      "execution_count": 350,
      "metadata": {
        "colab": {
          "base_uri": "https://localhost:8080/"
        },
        "id": "QjO9Z_-Jqw5a",
        "outputId": "c9a852ba-c316-45d9-e2c8-e74efab7242c"
      },
      "outputs": [
        {
          "data": {
            "text/plain": [
              "array([[[ 0,  1,  2,  3],\n",
              "        [12, 13, 14, 15]],\n",
              "\n",
              "       [[ 4,  5,  6,  7],\n",
              "        [16, 17, 18, 19]],\n",
              "\n",
              "       [[ 8,  9, 10, 11],\n",
              "        [20, 21, 22, 23]]])"
            ]
          },
          "execution_count": 350,
          "metadata": {
            "tags": []
          },
          "output_type": "execute_result"
        }
      ],
      "source": [
        "np.transpose(x,(1,0,2))"
      ]
    },
    {
      "cell_type": "code",
      "execution_count": 354,
      "metadata": {
        "colab": {
          "base_uri": "https://localhost:8080/"
        },
        "id": "coA9rlKOrRC9",
        "outputId": "c70ccf3c-2b42-41c2-8caa-f38c2ab7b296"
      },
      "outputs": [
        {
          "data": {
            "text/plain": [
              "array([[ 0,  1,  2],\n",
              "       [ 3,  4,  5],\n",
              "       [ 6,  7,  8],\n",
              "       [ 9, 10, 11]])"
            ]
          },
          "execution_count": 354,
          "metadata": {
            "tags": []
          },
          "output_type": "execute_result"
        }
      ],
      "source": [
        "x=np.arange(12).reshape(4,3)\n",
        "x"
      ]
    },
    {
      "cell_type": "code",
      "execution_count": 358,
      "metadata": {
        "colab": {
          "base_uri": "https://localhost:8080/"
        },
        "id": "xkKQ6qNWrSpC",
        "outputId": "9cbb5598-9579-4d00-ba74-d75dea4a5d68"
      },
      "outputs": [
        {
          "data": {
            "text/plain": [
              "array([[ 0,  3,  6,  9],\n",
              "       [ 1,  4,  7, 10],\n",
              "       [ 2,  5,  8, 11]])"
            ]
          },
          "execution_count": 358,
          "metadata": {
            "tags": []
          },
          "output_type": "execute_result"
        }
      ],
      "source": [
        "XT=x.T\n",
        "XT"
      ]
    },
    {
      "cell_type": "code",
      "execution_count": 359,
      "metadata": {
        "colab": {
          "base_uri": "https://localhost:8080/"
        },
        "id": "SmEMm-GFrZ0d",
        "outputId": "1b7cdb94-d71f-4f3d-d812-6924f85de0ac"
      },
      "outputs": [
        {
          "data": {
            "text/plain": [
              "array([[  5,  14,  23,  32],\n",
              "       [ 14,  50,  86, 122],\n",
              "       [ 23,  86, 149, 212],\n",
              "       [ 32, 122, 212, 302]])"
            ]
          },
          "execution_count": 359,
          "metadata": {
            "tags": []
          },
          "output_type": "execute_result"
        }
      ],
      "source": [
        "x@XT"
      ]
    },
    {
      "cell_type": "code",
      "execution_count": 361,
      "metadata": {
        "colab": {
          "base_uri": "https://localhost:8080/"
        },
        "id": "TY-M0mEksMs6",
        "outputId": "4fc1f263-1611-4d9a-ec2a-0b79e2e29ca2"
      },
      "outputs": [
        {
          "data": {
            "text/plain": [
              "array([[  5,  14,  23,  32],\n",
              "       [ 14,  50,  86, 122],\n",
              "       [ 23,  86, 149, 212],\n",
              "       [ 32, 122, 212, 302]])"
            ]
          },
          "execution_count": 361,
          "metadata": {
            "tags": []
          },
          "output_type": "execute_result"
        }
      ],
      "source": [
        "c=np.matmul(x,XT)\n",
        "c"
      ]
    },
    {
      "cell_type": "code",
      "execution_count": 363,
      "metadata": {
        "id": "Ggr6J3UDsXqk"
      },
      "outputs": [],
      "source": [
        "#x*XT"
      ]
    },
    {
      "cell_type": "code",
      "execution_count": 364,
      "metadata": {
        "colab": {
          "base_uri": "https://localhost:8080/"
        },
        "id": "xeiosJZWsnCh",
        "outputId": "23fc4418-de4d-434a-e001-7d8a2683a49d"
      },
      "outputs": [
        {
          "data": {
            "text/plain": [
              "array([[ 3, -1],\n",
              "       [-1,  3]])"
            ]
          },
          "execution_count": 364,
          "metadata": {
            "tags": []
          },
          "output_type": "execute_result"
        }
      ],
      "source": [
        "A=np.array([[3,-1],[-1,3]])\n",
        "A"
      ]
    },
    {
      "cell_type": "code",
      "execution_count": 365,
      "metadata": {
        "colab": {
          "base_uri": "https://localhost:8080/"
        },
        "id": "DaxherF0sxYm",
        "outputId": "2c0dc479-5eb2-44bb-ca7a-eb1954aace4f"
      },
      "outputs": [
        {
          "data": {
            "text/plain": [
              "array([[0.375, 0.125],\n",
              "       [0.125, 0.375]])"
            ]
          },
          "execution_count": 365,
          "metadata": {
            "tags": []
          },
          "output_type": "execute_result"
        }
      ],
      "source": [
        "np.linalg.inv(A)"
      ]
    },
    {
      "cell_type": "code",
      "execution_count": 366,
      "metadata": {
        "colab": {
          "base_uri": "https://localhost:8080/"
        },
        "id": "IVQ42IdLtEHU",
        "outputId": "b21f6521-f9b6-41c2-e0ca-475948071663"
      },
      "outputs": [
        {
          "data": {
            "text/plain": [
              "8.000000000000002"
            ]
          },
          "execution_count": 366,
          "metadata": {
            "tags": []
          },
          "output_type": "execute_result"
        }
      ],
      "source": [
        "np.linalg.det(A)"
      ]
    },
    {
      "cell_type": "code",
      "execution_count": 375,
      "metadata": {
        "colab": {
          "base_uri": "https://localhost:8080/"
        },
        "id": "pHYWKK1TtOpP",
        "outputId": "92d89fd6-69c3-42f1-da18-d557d7d9259c"
      },
      "outputs": [
        {
          "data": {
            "text/plain": [
              "array([[0, 1, 2],\n",
              "       [3, 4, 5],\n",
              "       [6, 7, 8]])"
            ]
          },
          "execution_count": 375,
          "metadata": {
            "tags": []
          },
          "output_type": "execute_result"
        }
      ],
      "source": [
        "x=np.arange(0,9).reshape(3,3)\n",
        "x"
      ]
    },
    {
      "cell_type": "code",
      "execution_count": 374,
      "metadata": {
        "colab": {
          "base_uri": "https://localhost:8080/"
        },
        "id": "2Ue_1i_KtxIp",
        "outputId": "a905e8e0-853b-4692-cc2a-fdfcf605626d"
      },
      "outputs": [
        {
          "data": {
            "text/plain": [
              "0.0"
            ]
          },
          "execution_count": 374,
          "metadata": {
            "tags": []
          },
          "output_type": "execute_result"
        }
      ],
      "source": [
        "np.linalg.det(x)"
      ]
    },
    {
      "cell_type": "code",
      "execution_count": 376,
      "metadata": {
        "id": "vLj7nOHUt1Yq"
      },
      "outputs": [],
      "source": [
        "#np.linalg.inv(x)"
      ]
    },
    {
      "cell_type": "code",
      "execution_count": 380,
      "metadata": {
        "colab": {
          "base_uri": "https://localhost:8080/"
        },
        "id": "QB3czTw7uPXc",
        "outputId": "1ebb7c92-9da3-4ff0-86fc-f99b485d60e4"
      },
      "outputs": [
        {
          "data": {
            "text/plain": [
              "array([[0, 3, 6],\n",
              "       [1, 4, 7],\n",
              "       [2, 5, 8]])"
            ]
          },
          "execution_count": 380,
          "metadata": {
            "tags": []
          },
          "output_type": "execute_result"
        }
      ],
      "source": [
        "xT=x.T\n",
        "xT"
      ]
    },
    {
      "cell_type": "code",
      "execution_count": 378,
      "metadata": {
        "colab": {
          "base_uri": "https://localhost:8080/"
        },
        "id": "jG_zuQ18uVZ8",
        "outputId": "4c8f2415-ec86-4b08-cffb-8f3c3bae3c4c"
      },
      "outputs": [
        {
          "data": {
            "text/plain": [
              "12"
            ]
          },
          "execution_count": 378,
          "metadata": {
            "tags": []
          },
          "output_type": "execute_result"
        }
      ],
      "source": [
        "np.trace(x)"
      ]
    },
    {
      "cell_type": "code",
      "execution_count": 381,
      "metadata": {
        "colab": {
          "base_uri": "https://localhost:8080/"
        },
        "id": "cbZAE361ukI4",
        "outputId": "030296c5-2108-4e0b-d60a-d76cbffe312f"
      },
      "outputs": [
        {
          "data": {
            "text/plain": [
              "12"
            ]
          },
          "execution_count": 381,
          "metadata": {
            "tags": []
          },
          "output_type": "execute_result"
        }
      ],
      "source": [
        "np.trace(xT)"
      ]
    },
    {
      "cell_type": "code",
      "execution_count": 382,
      "metadata": {
        "colab": {
          "base_uri": "https://localhost:8080/"
        },
        "id": "sbrsiDsTvVGJ",
        "outputId": "dee11485-cc61-43ad-b41e-ec75ee605f86"
      },
      "outputs": [
        {
          "data": {
            "text/plain": [
              "array([[1, 2, 3],\n",
              "       [4, 5, 6],\n",
              "       [7, 8, 9]])"
            ]
          },
          "execution_count": 382,
          "metadata": {
            "tags": []
          },
          "output_type": "execute_result"
        }
      ],
      "source": [
        "x=np.arange(1,10).reshape(3,3)\n",
        "x"
      ]
    },
    {
      "cell_type": "code",
      "execution_count": 383,
      "metadata": {
        "colab": {
          "base_uri": "https://localhost:8080/"
        },
        "id": "1h4zj2TuvX_K",
        "outputId": "378428ec-43e3-45d6-e3b3-e28afb6ac030"
      },
      "outputs": [
        {
          "data": {
            "text/plain": [
              "0.0"
            ]
          },
          "execution_count": 383,
          "metadata": {
            "tags": []
          },
          "output_type": "execute_result"
        }
      ],
      "source": [
        "np.linalg.det(x)"
      ]
    },
    {
      "cell_type": "code",
      "execution_count": 386,
      "metadata": {
        "colab": {
          "base_uri": "https://localhost:8080/"
        },
        "id": "2ArSrR_byLbH",
        "outputId": "7666403f-010d-47f1-cfb9-741ab3f5b263"
      },
      "outputs": [
        {
          "data": {
            "text/plain": [
              "array([[1, 0, 0],\n",
              "       [0, 2, 0],\n",
              "       [0, 0, 3]])"
            ]
          },
          "execution_count": 386,
          "metadata": {
            "tags": []
          },
          "output_type": "execute_result"
        }
      ],
      "source": [
        "x=np.diag([1,2,3])\n",
        "x"
      ]
    },
    {
      "cell_type": "code",
      "execution_count": 387,
      "metadata": {
        "colab": {
          "base_uri": "https://localhost:8080/"
        },
        "id": "VDuf-t-SypwT",
        "outputId": "fc8dc85b-18b8-4d22-e857-6073ee05c9a2"
      },
      "outputs": [
        {
          "data": {
            "text/plain": [
              "6"
            ]
          },
          "execution_count": 387,
          "metadata": {
            "tags": []
          },
          "output_type": "execute_result"
        }
      ],
      "source": [
        "np.trace(x)"
      ]
    },
    {
      "cell_type": "code",
      "execution_count": 388,
      "metadata": {
        "colab": {
          "base_uri": "https://localhost:8080/"
        },
        "id": "-6WqrHoQyzdB",
        "outputId": "ee3fb559-d447-4faa-e517-2e108a39b27b"
      },
      "outputs": [
        {
          "data": {
            "text/plain": [
              "6"
            ]
          },
          "execution_count": 388,
          "metadata": {
            "tags": []
          },
          "output_type": "execute_result"
        }
      ],
      "source": [
        "np.sum(x)"
      ]
    },
    {
      "cell_type": "code",
      "execution_count": 389,
      "metadata": {
        "colab": {
          "base_uri": "https://localhost:8080/"
        },
        "id": "CqsaCLAzzFtS",
        "outputId": "354227c2-e736-4dd2-dc4f-6ea6e436350b"
      },
      "outputs": [
        {
          "data": {
            "text/plain": [
              "array([[ 3, -1],\n",
              "       [-1,  3]])"
            ]
          },
          "execution_count": 389,
          "metadata": {
            "tags": []
          },
          "output_type": "execute_result"
        }
      ],
      "source": [
        "A=np.array([[3,-1],[-1,3]])\n",
        "A"
      ]
    },
    {
      "cell_type": "code",
      "execution_count": 392,
      "metadata": {
        "colab": {
          "base_uri": "https://localhost:8080/"
        },
        "id": "9zMEu7HQzG4n",
        "outputId": "538140aa-d6bc-4e9d-d17b-43cf8c3f8f6c"
      },
      "outputs": [
        {
          "name": "stdout",
          "output_type": "stream",
          "text": [
            "eigen vector : [4. 2.]\n",
            "eigen value : [[ 0.70710678  0.70710678]\n",
            " [-0.70710678  0.70710678]]\n"
          ]
        }
      ],
      "source": [
        "s,d=np.linalg.eig(A)\n",
        "print(\"eigen vector :\",s)\n",
        "print(\"eigen value :\",d)"
      ]
    },
    {
      "cell_type": "code",
      "execution_count": 393,
      "metadata": {
        "colab": {
          "base_uri": "https://localhost:8080/"
        },
        "id": "jgA40vlBzexn",
        "outputId": "ee21d26b-867f-4f56-f056-c8fc5f5504eb"
      },
      "outputs": [
        {
          "data": {
            "text/plain": [
              "array([4., 2.])"
            ]
          },
          "execution_count": 393,
          "metadata": {
            "tags": []
          },
          "output_type": "execute_result"
        }
      ],
      "source": [
        "np.linalg.eigvals(A)"
      ]
    },
    {
      "cell_type": "code",
      "execution_count": 394,
      "metadata": {
        "colab": {
          "base_uri": "https://localhost:8080/"
        },
        "id": "6sfgY-Cwzrqh",
        "outputId": "ffe3c807-d8e2-479c-cdc4-8df888321dd2"
      },
      "outputs": [
        {
          "data": {
            "text/plain": [
              "array([[1, 0, 0],\n",
              "       [0, 2, 0],\n",
              "       [0, 0, 3]])"
            ]
          },
          "execution_count": 394,
          "metadata": {
            "tags": []
          },
          "output_type": "execute_result"
        }
      ],
      "source": [
        "x=np.diag([1,2,3])\n",
        "x"
      ]
    },
    {
      "cell_type": "code",
      "execution_count": 395,
      "metadata": {
        "colab": {
          "base_uri": "https://localhost:8080/"
        },
        "id": "5XlryM7UzzHR",
        "outputId": "773505e1-cd13-4e39-9991-56d013c2a713"
      },
      "outputs": [
        {
          "data": {
            "text/plain": [
              "array([1., 2., 3.])"
            ]
          },
          "execution_count": 395,
          "metadata": {
            "tags": []
          },
          "output_type": "execute_result"
        }
      ],
      "source": [
        "np.linalg.eigvals(x)"
      ]
    },
    {
      "cell_type": "code",
      "execution_count": 396,
      "metadata": {
        "colab": {
          "base_uri": "https://localhost:8080/"
        },
        "id": "3pa4ksMz0NK8",
        "outputId": "c2bde62e-595e-49c1-8bcc-9dd74f961e6b"
      },
      "outputs": [
        {
          "data": {
            "text/plain": [
              "array([[1., 0., 0.],\n",
              "       [0., 1., 0.],\n",
              "       [0., 0., 1.]])"
            ]
          },
          "execution_count": 396,
          "metadata": {
            "tags": []
          },
          "output_type": "execute_result"
        }
      ],
      "source": [
        "s,d=np.linalg.eig(x)\n",
        "d"
      ]
    },
    {
      "cell_type": "code",
      "execution_count": 397,
      "metadata": {
        "colab": {
          "base_uri": "https://localhost:8080/"
        },
        "id": "KVmEhqyO0oiz",
        "outputId": "2fec334d-5c8a-40e9-a490-3c25b191383c"
      },
      "outputs": [
        {
          "data": {
            "text/plain": [
              "array([[1, 2, 3],\n",
              "       [4, 5, 6],\n",
              "       [7, 8, 9]])"
            ]
          },
          "execution_count": 397,
          "metadata": {
            "tags": []
          },
          "output_type": "execute_result"
        }
      ],
      "source": [
        "x=np.arange(1,10).reshape(3,3)\n",
        "x"
      ]
    },
    {
      "cell_type": "code",
      "execution_count": 400,
      "metadata": {
        "colab": {
          "base_uri": "https://localhost:8080/"
        },
        "id": "kZ3Ji6Qb1G9R",
        "outputId": "9ec71045-46ea-4409-ef43-ee29911a9d78"
      },
      "outputs": [
        {
          "name": "stdout",
          "output_type": "stream",
          "text": [
            "u [[-0.21483724  0.88723069  0.40824829]\n",
            " [-0.52058739  0.24964395 -0.81649658]\n",
            " [-0.82633754 -0.38794278  0.40824829]]\n",
            "d [1.68481034e+01 1.06836951e+00 3.33475287e-16]\n",
            "vt [[-0.47967118 -0.57236779 -0.66506441]\n",
            " [-0.77669099 -0.07568647  0.62531805]\n",
            " [-0.40824829  0.81649658 -0.40824829]]\n"
          ]
        }
      ],
      "source": [
        "u,d,vt=np.linalg.svd(x)\n",
        "print(\"u\",u)\n",
        "print(\"d\",d)\n",
        "print(\"vt\",vt)"
      ]
    },
    {
      "cell_type": "code",
      "execution_count": 402,
      "metadata": {
        "colab": {
          "base_uri": "https://localhost:8080/"
        },
        "id": "qsPd6nK51hKt",
        "outputId": "a7c25fe1-d85c-45c8-9a04-2c006f8c3d22"
      },
      "outputs": [
        {
          "data": {
            "text/plain": [
              "array([[-0.21483724, -0.52058739, -0.82633754],\n",
              "       [ 0.88723069,  0.24964395, -0.38794278],\n",
              "       [ 0.40824829, -0.81649658,  0.40824829]])"
            ]
          },
          "execution_count": 402,
          "metadata": {
            "tags": []
          },
          "output_type": "execute_result"
        }
      ],
      "source": [
        "ut=u.T\n",
        "ut"
      ]
    },
    {
      "cell_type": "code",
      "execution_count": 430,
      "metadata": {
        "colab": {
          "base_uri": "https://localhost:8080/"
        },
        "id": "JJFfv_391muE",
        "outputId": "f385bf5e-61ea-41b1-c33b-246ff6c23133"
      },
      "outputs": [
        {
          "data": {
            "text/plain": [
              "array([[1.00000000e+00, 3.47261704e-16, 4.11525596e-16],\n",
              "       [3.47261704e-16, 1.00000000e+00, 1.27275187e-16],\n",
              "       [4.11525596e-16, 1.27275187e-16, 1.00000000e+00]])"
            ]
          },
          "execution_count": 430,
          "metadata": {
            "tags": []
          },
          "output_type": "execute_result"
        }
      ],
      "source": [
        "U=u@ut\n",
        "U"
      ]
    },
    {
      "cell_type": "code",
      "execution_count": 431,
      "metadata": {
        "colab": {
          "base_uri": "https://localhost:8080/"
        },
        "id": "v7q_Hzzb8Nip",
        "outputId": "43ab63cd-5694-4712-ed36-bc9d28852499"
      },
      "outputs": [
        {
          "name": "stdout",
          "output_type": "stream",
          "text": [
            "[[1. 0. 0.]\n",
            " [0. 1. 0.]\n",
            " [0. 0. 1.]]\n"
          ]
        }
      ],
      "source": [
        "print(np.around(U, decimals=5))"
      ]
    },
    {
      "cell_type": "code",
      "execution_count": 404,
      "metadata": {
        "id": "Esb7-gTA19Rd"
      },
      "outputs": [],
      "source": [
        "from sklearn.decomposition import PCA"
      ]
    },
    {
      "cell_type": "code",
      "execution_count": null,
      "metadata": {
        "id": "k9tun1OD19E0"
      },
      "outputs": [],
      "source": [
        "#PCA()"
      ]
    },
    {
      "cell_type": "code",
      "execution_count": 408,
      "metadata": {
        "colab": {
          "base_uri": "https://localhost:8080/"
        },
        "id": "kxfuypis25yy",
        "outputId": "8fcc0393-a9b7-4c56-ea4e-a2aa61a26569"
      },
      "outputs": [
        {
          "data": {
            "text/plain": [
              "array([0.5, 4.5, 0.5])"
            ]
          },
          "execution_count": 408,
          "metadata": {
            "tags": []
          },
          "output_type": "execute_result"
        }
      ],
      "source": [
        "A=np.array([[3,1,-2],[1,-1,4],[2,0,3]])\n",
        "C=np.array([5,-2,2.5])\n",
        "A1=np.linalg.inv(A)\n",
        "X=np.matmul(A1,C)#X=np.matmul(np.linalg.inv(A),C)\n",
        "X"
      ]
    },
    {
      "cell_type": "code",
      "execution_count": 411,
      "metadata": {
        "colab": {
          "base_uri": "https://localhost:8080/"
        },
        "id": "kUuRGW7J4EPi",
        "outputId": "dc8e612c-c218-4aba-a254-21e38dec034b"
      },
      "outputs": [
        {
          "data": {
            "text/plain": [
              "array([0.5, 4.5, 0.5])"
            ]
          },
          "execution_count": 411,
          "metadata": {
            "tags": []
          },
          "output_type": "execute_result"
        }
      ],
      "source": [
        "from scipy.linalg import solve\n",
        "A=np.array([[3,1,-2],[1,-1,4],[2,0,3]])\n",
        "C=np.array([5,-2,2.5])\n",
        "X=solve(A,C)\n",
        "X"
      ]
    },
    {
      "cell_type": "code",
      "execution_count": 412,
      "metadata": {
        "colab": {
          "base_uri": "https://localhost:8080/"
        },
        "id": "j_vcUBkG67dZ",
        "outputId": "a357d155-07e0-46b0-e419-96f9e0681483"
      },
      "outputs": [
        {
          "data": {
            "text/plain": [
              "1.2246467991473532e-16"
            ]
          },
          "execution_count": 412,
          "metadata": {
            "tags": []
          },
          "output_type": "execute_result"
        }
      ],
      "source": [
        "np.sin(np.pi)"
      ]
    },
    {
      "cell_type": "code",
      "execution_count": 424,
      "metadata": {
        "colab": {
          "base_uri": "https://localhost:8080/"
        },
        "id": "wgt18Qxu642z",
        "outputId": "bb7463ef-e2f6-41d4-f68a-e1d45dbc47be"
      },
      "outputs": [
        {
          "data": {
            "text/plain": [
              "True"
            ]
          },
          "execution_count": 424,
          "metadata": {
            "tags": []
          },
          "output_type": "execute_result"
        }
      ],
      "source": [
        " np.allclose(np.sin(np.pi), 0) #1"
      ]
    },
    {
      "cell_type": "code",
      "execution_count": 415,
      "metadata": {
        "colab": {
          "base_uri": "https://localhost:8080/"
        },
        "id": "0ePq1HoQ7P12",
        "outputId": "afe8a06c-c057-4dcb-c8b6-3fe92e76340a"
      },
      "outputs": [
        {
          "data": {
            "text/plain": [
              "False"
            ]
          },
          "execution_count": 415,
          "metadata": {
            "tags": []
          },
          "output_type": "execute_result"
        }
      ],
      "source": [
        "np.sin(np.pi)==0"
      ]
    },
    {
      "cell_type": "code",
      "execution_count": 425,
      "metadata": {
        "colab": {
          "base_uri": "https://localhost:8080/"
        },
        "id": "xpVKXGci7J44",
        "outputId": "23ec3391-a24d-4dd4-ad15-95772dc7eb3f"
      },
      "outputs": [
        {
          "data": {
            "text/plain": [
              "0"
            ]
          },
          "execution_count": 425,
          "metadata": {
            "tags": []
          },
          "output_type": "execute_result"
        }
      ],
      "source": [
        "int(np.sin(np.pi))#2"
      ]
    },
    {
      "cell_type": "code",
      "execution_count": 416,
      "metadata": {
        "colab": {
          "base_uri": "https://localhost:8080/"
        },
        "id": "EvLR_KG47hOr",
        "outputId": "c9df5960-a9b8-4f7f-c8a8-abd00729c7e2"
      },
      "outputs": [
        {
          "name": "stdout",
          "output_type": "stream",
          "text": [
            "0.0\n"
          ]
        }
      ],
      "source": [
        "print(np.around(np.cos(math.radians(90)), decimals=5))"
      ]
    },
    {
      "cell_type": "code",
      "execution_count": 429,
      "metadata": {
        "colab": {
          "base_uri": "https://localhost:8080/"
        },
        "id": "WmFRWKbQ7lum",
        "outputId": "9670bda6-6c31-493c-a1c2-15e7d13ec32d"
      },
      "outputs": [
        {
          "name": "stdout",
          "output_type": "stream",
          "text": [
            "0.0\n"
          ]
        }
      ],
      "source": [
        "print(np.around(np.sin(np.pi), decimals=15))#3"
      ]
    },
    {
      "cell_type": "code",
      "execution_count": 462,
      "metadata": {
        "colab": {
          "base_uri": "https://localhost:8080/",
          "height": 265
        },
        "id": "HN3EHirE967U",
        "outputId": "a929fba8-004b-4be7-a351-270f589cd4ca"
      },
      "outputs": [
        {
          "data": {
            "image/png": "[encoded data removed]",
            "text/plain": [
              "<Figure size 432x288 with 1 Axes>"
            ]
          },
          "metadata": {
            "needs_background": "light",
            "tags": []
          },
          "output_type": "display_data"
        }
      ],
      "source": [
        "import matplotlib.pyplot as plt\n",
        "x=[-5,-2,0,1,3]\n",
        "y=[2,-1,1,-4,3]\n",
        "plt.plot(x,y,alpha=1,label='y is x**2',linestyle='dashed',color='red',marker='o',markersize=5,markerfacecolor='blue',markeredgecolor='blue')\n",
        "plt.show()"
      ]
    },
    {
      "cell_type": "code",
      "execution_count": 439,
      "metadata": {
        "colab": {
          "base_uri": "https://localhost:8080/",
          "height": 265
        },
        "id": "XsERK_NC_2my",
        "outputId": "2f0d3160-3834-4908-e6c8-861c17250339"
      },
      "outputs": [
        {
          "data": {
            "image/png": "[encoded data removed]",
            "text/plain": [
              "<Figure size 432x288 with 1 Axes>"
            ]
          },
          "metadata": {
            "needs_background": "light",
            "tags": []
          },
          "output_type": "display_data"
        }
      ],
      "source": [
        "x=np.array([-2,-1,0,1,2])\n",
        "y=x**2\n",
        "plt.plot(x,y)\n",
        "plt.show()"
      ]
    },
    {
      "cell_type": "code",
      "execution_count": 441,
      "metadata": {
        "colab": {
          "base_uri": "https://localhost:8080/",
          "height": 265
        },
        "id": "Smt7yo22AarK",
        "outputId": "73a5eac7-3d2c-4540-83a3-c37b15e22bb3"
      },
      "outputs": [
        {
          "data": {
            "image/png": "[encoded data removed]",
            "text/plain": [
              "<Figure size 432x288 with 1 Axes>"
            ]
          },
          "metadata": {
            "needs_background": "light",
            "tags": []
          },
          "output_type": "display_data"
        }
      ],
      "source": [
        "x=np.linspace(-2,2,100)\n",
        "y=x**2\n",
        "plt.plot(x,y)\n",
        "plt.show()"
      ]
    },
    {
      "cell_type": "code",
      "execution_count": 465,
      "metadata": {
        "colab": {
          "base_uri": "https://localhost:8080/",
          "height": 301
        },
        "id": "upeEua4QAhWE",
        "outputId": "bbf2f138-b69c-46f1-bd92-fe32a32364ed"
      },
      "outputs": [
        {
          "data": {
            "image/png": "[encoded data removed]",
            "text/plain": [
              "<Figure size 432x288 with 1 Axes>"
            ]
          },
          "metadata": {
            "needs_background": "light",
            "tags": []
          },
          "output_type": "display_data"
        }
      ],
      "source": [
        "x=np.linspace(-2,2,100)\n",
        "y=x**2\n",
        "plt.plot(x,y,alpha=0.6,label='y is x**2',color='red',linestyle='dashed',linewidth=3,marker='o',markersize=5)\n",
        "plt.tight_layout()\n",
        "plt.xlim([-3,3])\n",
        "plt.ylim([-1,6])\n",
        "plt.show()"
      ]
    }
  ],
  "metadata": {
    "colab": {
      "collapsed_sections": [],
      "name": "Untitled",
      "provenance": []
    },
    "kernelspec": {
      "display_name": "Python 3",
      "name": "python3"
    },
    "language_info": {
      "codemirror_mode": {
        "name": "ipython",
        "version": 3
      },
      "file_extension": ".py",
      "mimetype": "text/x-python",
      "name": "python",
      "nbconvert_exporter": "python",
      "pygments_lexer": "ipython3",
      "version": "3.11.5"
    }
  },
  "nbformat": 4,
  "nbformat_minor": 0
}
